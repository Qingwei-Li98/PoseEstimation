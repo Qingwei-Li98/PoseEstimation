{
 "cells": [
  {
   "cell_type": "code",
   "execution_count": 2,
   "metadata": {},
   "outputs": [
    {
     "name": "stdout",
     "output_type": "stream",
     "text": [
      "/homes/ql1220/PoseEstimate/infant-3d-pose-estimation/core\n",
      "/homes/ql1220/PoseEstimate/infant-3d-pose-estimation\n"
     ]
    }
   ],
   "source": [
    "import sys\n",
    "import os\n",
    "import re\n",
    "curPath = os.path.abspath(os.path.dirname(\"sequential_model.py\"))\n",
    "print(curPath)\n",
    "rootPath = os.path.split(curPath)[0]\n",
    "print(rootPath)\n",
    "sys.path.append(rootPath)"
   ]
  },
  {
   "cell_type": "code",
   "execution_count": 16,
   "metadata": {},
   "outputs": [
    {
     "name": "stdout",
     "output_type": "stream",
     "text": [
      "\u001b[31mERROR: Can not perform a '--user' install. User site-packages are not visible in this virtualenv.\u001b[0m\n",
      "\u001b[33mWARNING: You are using pip version 20.2.4; however, version 21.1.2 is available.\n",
      "You should consider upgrading via the '/vol/bitbucket/nuric/docenv/bin/python3 -m pip install --upgrade pip' command.\u001b[0m\n",
      "Note: you may need to restart the kernel to use updated packages.\n"
     ]
    }
   ],
   "source": [
    "%pip install opencv-python --user"
   ]
  },
  {
   "cell_type": "code",
   "execution_count": 3,
   "metadata": {},
   "outputs": [
    {
     "ename": "ModuleNotFoundError",
     "evalue": "No module named 'torchvision.models.video'",
     "output_type": "error",
     "traceback": [
      "\u001b[0;31m---------------------------------------------------------------------------\u001b[0m",
      "\u001b[0;31mModuleNotFoundError\u001b[0m                       Traceback (most recent call last)",
      "\u001b[0;32m<ipython-input-3-004062cc20e9>\u001b[0m in \u001b[0;36m<module>\u001b[0;34m\u001b[0m\n\u001b[0;32m----> 1\u001b[0;31m \u001b[0;32mimport\u001b[0m \u001b[0mnetworks\u001b[0m\u001b[0;34m\u001b[0m\u001b[0;34m\u001b[0m\u001b[0m\n\u001b[0m\u001b[1;32m      2\u001b[0m \u001b[0;32mimport\u001b[0m \u001b[0mutils\u001b[0m\u001b[0;34m\u001b[0m\u001b[0;34m\u001b[0m\u001b[0m\n\u001b[1;32m      3\u001b[0m \u001b[0;32mfrom\u001b[0m \u001b[0mutils\u001b[0m \u001b[0;32mimport\u001b[0m \u001b[0mdatasets\u001b[0m\u001b[0;34m\u001b[0m\u001b[0;34m\u001b[0m\u001b[0m\n",
      "\u001b[0;32m~/PoseEstimate/infant-3d-pose-estimation/core/networks.py\u001b[0m in \u001b[0;36m<module>\u001b[0;34m\u001b[0m\n\u001b[1;32m      4\u001b[0m \u001b[0;32mfrom\u001b[0m \u001b[0mcore\u001b[0m\u001b[0;34m.\u001b[0m\u001b[0mutils\u001b[0m\u001b[0;34m.\u001b[0m\u001b[0mmodules\u001b[0m \u001b[0;32mimport\u001b[0m \u001b[0mSelfAttention\u001b[0m\u001b[0;34m\u001b[0m\u001b[0;34m\u001b[0m\u001b[0m\n\u001b[1;32m      5\u001b[0m \u001b[0;32mfrom\u001b[0m \u001b[0mtorch\u001b[0m\u001b[0;34m.\u001b[0m\u001b[0mnn\u001b[0m\u001b[0;34m.\u001b[0m\u001b[0mutils\u001b[0m \u001b[0;32mimport\u001b[0m \u001b[0mspectral_norm\u001b[0m\u001b[0;34m\u001b[0m\u001b[0;34m\u001b[0m\u001b[0m\n\u001b[0;32m----> 6\u001b[0;31m \u001b[0;32mfrom\u001b[0m \u001b[0mtorchvision\u001b[0m\u001b[0;34m.\u001b[0m\u001b[0mmodels\u001b[0m\u001b[0;34m.\u001b[0m\u001b[0mvideo\u001b[0m \u001b[0;32mimport\u001b[0m \u001b[0mr2plus1d_18\u001b[0m\u001b[0;34m\u001b[0m\u001b[0;34m\u001b[0m\u001b[0m\n\u001b[0m\u001b[1;32m      7\u001b[0m \u001b[0;34m\u001b[0m\u001b[0m\n\u001b[1;32m      8\u001b[0m \u001b[0;34m\u001b[0m\u001b[0m\n",
      "\u001b[0;31mModuleNotFoundError\u001b[0m: No module named 'torchvision.models.video'"
     ]
    }
   ],
   "source": [
    "import networks \n",
    "import utils\n",
    "from utils import datasets"
   ]
  },
  {
   "cell_type": "code",
   "execution_count": 25,
   "metadata": {},
   "outputs": [],
   "source": [
    "file_object = open('/vol/biodata/data/human3.6m/training/S1/frames/Greeting1.54138969/frame0001.png')"
   ]
  },
  {
   "cell_type": "code",
   "execution_count": 3,
   "metadata": {},
   "outputs": [],
   "source": [
    "import matplotlib.pyplot as plt \n",
    "import matplotlib.image as mpimg\n",
    "from PIL import Image \n",
    "import numpy as np"
   ]
  },
  {
   "cell_type": "code",
   "execution_count": 22,
   "metadata": {},
   "outputs": [
    {
     "name": "stdout",
     "output_type": "stream",
     "text": [
      "(1002, 1000, 3)\n",
      "(1002, 1000, 3)\n",
      "(1002, 1000, 3)\n",
      "(1002, 1000, 3)\n",
      "(1002, 1000, 3)\n",
      "[32 32 33 32 34]\n"
     ]
    }
   ],
   "source": [
    "path='/vol/biodata/data/human3.6m/training/S1/frames/Greeting1.54138969/frame'\n",
    "temp = []\n",
    "for i in range(1,6):\n",
    "    image = Image.open(path+'{:0>4d}'.format(i)+'.png') # 用PIL中的Image.open打开图像\n",
    "    image_arr = np.array(image)\n",
    "    temp.append(image_arr[:,:,:,np.newaxis])\n",
    "    print(image_arr.shape)\n",
    "\n",
    "c=np.concatenate(temp, axis=3)\n",
    "print(c[1,1,1,:])"
   ]
  },
  {
   "cell_type": "code",
   "execution_count": 4,
   "metadata": {},
   "outputs": [
    {
     "name": "stdout",
     "output_type": "stream",
     "text": [
      "(2, 2, 3)\n",
      "(4, 2, 2, 3)\n"
     ]
    },
    {
     "data": {
      "text/plain": [
       "tensor([[1, 2],\n",
       "        [3, 4]])"
      ]
     },
     "execution_count": 4,
     "metadata": {},
     "output_type": "execute_result"
    }
   ],
   "source": [
    "import torch\n",
    "a1=np.array([[[1,1,1],[2,2,2]],[[3,3,3],[4,4,4]]])\n",
    "a2=np.array([[[5,5,5],[6,6,6]],[[7,7,7],[8,8,8]]])\n",
    "a3=np.array([[[6,2,1],[6,3,2]],[[6,4,3],[6,5,4]]])\n",
    "a4=np.array([[[6,2,1],[6,3,2]],[[6,4,3],[6,5,4]]])\n",
    "l=[a1,a2,a3,a4]\n",
    "print(a1.shape)\n",
    "arr=np.stack(l, axis=0)\n",
    "print(arr.shape)\n",
    "tor=torch.from_numpy(arr)\n",
    "x=tor.permute(3,1,2,0)\n",
    "x[0,:,:,0]"
   ]
  },
  {
   "cell_type": "code",
   "execution_count": 69,
   "metadata": {},
   "outputs": [
    {
     "name": "stdout",
     "output_type": "stream",
     "text": [
      "1\n"
     ]
    }
   ],
   "source": [
    "import random\n",
    "rdm=random.Random(2)\n",
    "a=rdm.randint(1,1)\n",
    "print(a)"
   ]
  },
  {
   "cell_type": "code",
   "execution_count": 77,
   "metadata": {},
   "outputs": [
    {
     "data": {
      "text/plain": [
       "'frame100300'"
      ]
     },
     "execution_count": 77,
     "metadata": {},
     "output_type": "execute_result"
    }
   ],
   "source": [
    "s='frame100002.png'\n",
    "s[5:-4]\n",
    "'frame{:0>4d}'.format(100300)"
   ]
  },
  {
   "cell_type": "code",
   "execution_count": 79,
   "metadata": {},
   "outputs": [],
   "source": [
    "if None:\n",
    "    print(\"1\")"
   ]
  },
  {
   "cell_type": "code",
   "execution_count": 67,
   "metadata": {
    "tags": []
   },
   "outputs": [
    {
     "name": "stdout",
     "output_type": "stream",
     "text": [
      "cpu\n"
     ]
    },
    {
     "ename": "FileNotFoundError",
     "evalue": "[Errno 2] No such file or directory: '/vol/biodata/data/human3.6m/training/S1/frames/Greeting1.54138969/frameGreeting1.54138969/frame1000.png'",
     "output_type": "error",
     "traceback": [
      "\u001b[0;31m---------------------------------------------------------------------------\u001b[0m",
      "\u001b[0;31mFileNotFoundError\u001b[0m                         Traceback (most recent call last)",
      "\u001b[0;32m<ipython-input-67-1fae6c40de50>\u001b[0m in \u001b[0;36m<module>\u001b[0;34m\u001b[0m\n\u001b[1;32m      3\u001b[0m \u001b[0mprint\u001b[0m\u001b[0;34m(\u001b[0m\u001b[0mdevice\u001b[0m\u001b[0;34m)\u001b[0m\u001b[0;34m\u001b[0m\u001b[0;34m\u001b[0m\u001b[0m\n\u001b[1;32m      4\u001b[0m \u001b[0;32mfor\u001b[0m \u001b[0mi\u001b[0m \u001b[0;32min\u001b[0m \u001b[0mrange\u001b[0m\u001b[0;34m(\u001b[0m\u001b[0;36m1000\u001b[0m\u001b[0;34m,\u001b[0m\u001b[0;36m1001\u001b[0m\u001b[0;34m)\u001b[0m\u001b[0;34m:\u001b[0m\u001b[0;34m\u001b[0m\u001b[0;34m\u001b[0m\u001b[0m\n\u001b[0;32m----> 5\u001b[0;31m     \u001b[0mlena\u001b[0m \u001b[0;34m=\u001b[0m \u001b[0mmpimg\u001b[0m\u001b[0;34m.\u001b[0m\u001b[0mimread\u001b[0m\u001b[0;34m(\u001b[0m\u001b[0mpath\u001b[0m\u001b[0;34m+\u001b[0m\u001b[0;34m'Greeting1.54138969/frame{:0>4d}'\u001b[0m\u001b[0;34m.\u001b[0m\u001b[0mformat\u001b[0m\u001b[0;34m(\u001b[0m\u001b[0mi\u001b[0m\u001b[0;34m)\u001b[0m\u001b[0;34m+\u001b[0m\u001b[0;34m'.png'\u001b[0m\u001b[0;34m)\u001b[0m\u001b[0;34m\u001b[0m\u001b[0;34m\u001b[0m\u001b[0m\n\u001b[0m\u001b[1;32m      6\u001b[0m     \u001b[0mplt\u001b[0m\u001b[0;34m.\u001b[0m\u001b[0mimshow\u001b[0m\u001b[0;34m(\u001b[0m\u001b[0mlena\u001b[0m\u001b[0;34m)\u001b[0m \u001b[0;31m# 显示图片\u001b[0m\u001b[0;34m\u001b[0m\u001b[0;34m\u001b[0m\u001b[0m\n\u001b[1;32m      7\u001b[0m     \u001b[0mplt\u001b[0m\u001b[0;34m.\u001b[0m\u001b[0maxis\u001b[0m\u001b[0;34m(\u001b[0m\u001b[0;34m'off'\u001b[0m\u001b[0;34m)\u001b[0m \u001b[0;31m# 不显示坐标轴\u001b[0m\u001b[0;34m\u001b[0m\u001b[0;34m\u001b[0m\u001b[0m\n",
      "\u001b[0;32m/vol/bitbucket/ql1220/envs/pose_ql1220/lib/python3.8/site-packages/matplotlib/image.py\u001b[0m in \u001b[0;36mimread\u001b[0;34m(fname, format)\u001b[0m\n\u001b[1;32m   1499\u001b[0m                     \u001b[0mresponse\u001b[0m \u001b[0;34m=\u001b[0m \u001b[0mio\u001b[0m\u001b[0;34m.\u001b[0m\u001b[0mBytesIO\u001b[0m\u001b[0;34m(\u001b[0m\u001b[0mresponse\u001b[0m\u001b[0;34m.\u001b[0m\u001b[0mread\u001b[0m\u001b[0;34m(\u001b[0m\u001b[0;34m)\u001b[0m\u001b[0;34m)\u001b[0m\u001b[0;34m\u001b[0m\u001b[0;34m\u001b[0m\u001b[0m\n\u001b[1;32m   1500\u001b[0m                 \u001b[0;32mreturn\u001b[0m \u001b[0mimread\u001b[0m\u001b[0;34m(\u001b[0m\u001b[0mresponse\u001b[0m\u001b[0;34m,\u001b[0m \u001b[0mformat\u001b[0m\u001b[0;34m=\u001b[0m\u001b[0mext\u001b[0m\u001b[0;34m)\u001b[0m\u001b[0;34m\u001b[0m\u001b[0;34m\u001b[0m\u001b[0m\n\u001b[0;32m-> 1501\u001b[0;31m     \u001b[0;32mwith\u001b[0m \u001b[0mimg_open\u001b[0m\u001b[0;34m(\u001b[0m\u001b[0mfname\u001b[0m\u001b[0;34m)\u001b[0m \u001b[0;32mas\u001b[0m \u001b[0mimage\u001b[0m\u001b[0;34m:\u001b[0m\u001b[0;34m\u001b[0m\u001b[0;34m\u001b[0m\u001b[0m\n\u001b[0m\u001b[1;32m   1502\u001b[0m         return (_pil_png_to_float_array(image)\n\u001b[1;32m   1503\u001b[0m                 \u001b[0;32mif\u001b[0m \u001b[0misinstance\u001b[0m\u001b[0;34m(\u001b[0m\u001b[0mimage\u001b[0m\u001b[0;34m,\u001b[0m \u001b[0mPIL\u001b[0m\u001b[0;34m.\u001b[0m\u001b[0mPngImagePlugin\u001b[0m\u001b[0;34m.\u001b[0m\u001b[0mPngImageFile\u001b[0m\u001b[0;34m)\u001b[0m \u001b[0;32melse\u001b[0m\u001b[0;34m\u001b[0m\u001b[0;34m\u001b[0m\u001b[0m\n",
      "\u001b[0;32m/vol/bitbucket/ql1220/envs/pose_ql1220/lib/python3.8/site-packages/PIL/ImageFile.py\u001b[0m in \u001b[0;36m__init__\u001b[0;34m(self, fp, filename)\u001b[0m\n\u001b[1;32m    107\u001b[0m         \u001b[0;32mif\u001b[0m \u001b[0misPath\u001b[0m\u001b[0;34m(\u001b[0m\u001b[0mfp\u001b[0m\u001b[0;34m)\u001b[0m\u001b[0;34m:\u001b[0m\u001b[0;34m\u001b[0m\u001b[0;34m\u001b[0m\u001b[0m\n\u001b[1;32m    108\u001b[0m             \u001b[0;31m# filename\u001b[0m\u001b[0;34m\u001b[0m\u001b[0;34m\u001b[0m\u001b[0;34m\u001b[0m\u001b[0m\n\u001b[0;32m--> 109\u001b[0;31m             \u001b[0mself\u001b[0m\u001b[0;34m.\u001b[0m\u001b[0mfp\u001b[0m \u001b[0;34m=\u001b[0m \u001b[0mopen\u001b[0m\u001b[0;34m(\u001b[0m\u001b[0mfp\u001b[0m\u001b[0;34m,\u001b[0m \u001b[0;34m\"rb\"\u001b[0m\u001b[0;34m)\u001b[0m\u001b[0;34m\u001b[0m\u001b[0;34m\u001b[0m\u001b[0m\n\u001b[0m\u001b[1;32m    110\u001b[0m             \u001b[0mself\u001b[0m\u001b[0;34m.\u001b[0m\u001b[0mfilename\u001b[0m \u001b[0;34m=\u001b[0m \u001b[0mfp\u001b[0m\u001b[0;34m\u001b[0m\u001b[0;34m\u001b[0m\u001b[0m\n\u001b[1;32m    111\u001b[0m             \u001b[0mself\u001b[0m\u001b[0;34m.\u001b[0m\u001b[0m_exclusive_fp\u001b[0m \u001b[0;34m=\u001b[0m \u001b[0;32mTrue\u001b[0m\u001b[0;34m\u001b[0m\u001b[0;34m\u001b[0m\u001b[0m\n",
      "\u001b[0;31mFileNotFoundError\u001b[0m: [Errno 2] No such file or directory: '/vol/biodata/data/human3.6m/training/S1/frames/Greeting1.54138969/frameGreeting1.54138969/frame1000.png'"
     ]
    }
   ],
   "source": [
    "\n",
    "import torch\n",
    "device = torch.device(\"cuda\" if torch.cuda.is_available() else \"cpu\")\n",
    "print(device)\n",
    "for i in range(1000,1001):\n",
    "    lena = mpimg.imread(path+'Greeting1.54138969/frame{:0>4d}'.format(i)+'.png') \n",
    "    plt.imshow(lena) # 显示图片\n",
    "    plt.axis('off') # 不显示坐标轴\n",
    "    plt.show()\n"
   ]
  },
  {
   "cell_type": "code",
   "execution_count": null,
   "metadata": {},
   "outputs": [],
   "source": []
  },
  {
   "cell_type": "code",
   "execution_count": 90,
   "metadata": {},
   "outputs": [
    {
     "data": {
      "text/plain": [
       "['Phoning1.60457274',\n",
       " 'Discussion1.54138969',\n",
       " 'Directions1.55011271',\n",
       " 'Smoking1.55011271',\n",
       " 'Phoning1.55011271',\n",
       " 'Purchases1.58860488',\n",
       " 'Eating2.58860488',\n",
       " 'Greeting1.58860488',\n",
       " 'Posing1.54138969',\n",
       " 'Directions1.60457274',\n",
       " 'Eating2.54138969',\n",
       " 'SittingDown2.60457274',\n",
       " 'Greeting1.54138969',\n",
       " 'Posing1.58860488',\n",
       " 'Purchases1.54138969',\n",
       " 'Sitting1.60457274',\n",
       " 'Discussion1.58860488',\n",
       " 'SittingDown2.55011271',\n",
       " 'Sitting1.55011271',\n",
       " 'Sitting1.58860488',\n",
       " 'Discussion1.55011271',\n",
       " 'SittingDown2.58860488',\n",
       " 'Directions1.54138969',\n",
       " 'Posing1.60457274',\n",
       " 'Smoking1.54138969',\n",
       " 'Phoning1.54138969',\n",
       " 'Discussion1.60457274',\n",
       " 'Posing1.55011271',\n",
       " 'Eating2.55011271',\n",
       " 'Greeting1.55011271',\n",
       " 'Smoking1.58860488',\n",
       " 'Purchases1.55011271',\n",
       " 'Phoning1.58860488',\n",
       " 'Eating2.60457274',\n",
       " 'SittingDown2.54138969',\n",
       " 'Greeting1.60457274',\n",
       " 'Directions1.58860488',\n",
       " 'Sitting1.54138969',\n",
       " 'Purchases1.60457274']"
      ]
     },
     "execution_count": 90,
     "metadata": {},
     "output_type": "execute_result"
    }
   ],
   "source": [
    "frame_path='/vol/biodata/data/human3.6m/training/S1/frames/'\n",
    "os.listdir(frame_path)"
   ]
  },
  {
   "cell_type": "code",
   "execution_count": 1,
   "metadata": {
    "tags": []
   },
   "outputs": [],
   "source": [
    "import torchvision.transforms as transforms\n",
    "import cv2 as cv"
   ]
  },
  {
   "cell_type": "code",
   "execution_count": 10,
   "metadata": {},
   "outputs": [],
   "source": [
    "IMG_EXTENSIONS = [\n",
    "    '.jpg', '.JPG', '.jpeg', '.JPEG',\n",
    "    '.png', '.PNG', '.ppm', '.PPM', '.bmp', '.BMP',\n",
    "]\n",
    "\n",
    "\n",
    "def is_image_file(filename):\n",
    "    return any(filename.endswith(extension) for extension in IMG_EXTENSIONS)\n",
    "def make_dataset(frame_root):\n",
    "    \"\"\"\n",
    "        frame_path: the path of frame folder, eg: /vol/biodata/data/human3.6m/training/S1/frames/\n",
    "    \"\"\"\n",
    "    frame_paths = []\n",
    "\n",
    "    for subject in os.listdir(frame_root):        \n",
    "        activity=re.match(r'[a-zA-Z]+',subject).group()\n",
    "        video_frames=[]\n",
    "        d = os.path.join(frame_root, subject)\n",
    "        if not os.path.isdir(d):\n",
    "            continue\n",
    "        for root, _, fnames in sorted(os.walk(d)):\n",
    "            for fname in fnames:\n",
    "                if is_image_file(fname):\n",
    "                    path = os.path.join(root, fname)\n",
    "                    video_frames.append(path)\n",
    "        frame_paths.append({subject:video_frames})\n",
    "\n",
    "    return frame_paths"
   ]
  },
  {
   "cell_type": "code",
   "execution_count": 11,
   "metadata": {},
   "outputs": [],
   "source": [
    "frame_root='/vol/biodata/data/human3.6m/training/'\n",
    "frames=make_dataset(frame_root)"
   ]
  },
  {
   "cell_type": "code",
   "execution_count": 38,
   "metadata": {
    "collapsed": true,
    "jupyter": {
     "outputs_hidden": true
    }
   },
   "outputs": [
    {
     "name": "stdout",
     "output_type": "stream",
     "text": [
      "2637 Phoning1.60457274\n",
      "['/vol/biodata/data/human3.6m/training/S1/frames/Phoning1.60457274/frame0187.png', '/vol/biodata/data/human3.6m/training/S1/frames/Phoning1.60457274/frame0620.png', '/vol/biodata/data/human3.6m/training/S1/frames/Phoning1.60457274/frame1060.png', '/vol/biodata/data/human3.6m/training/S1/frames/Phoning1.60457274/frame2175.png', '/vol/biodata/data/human3.6m/training/S1/frames/Phoning1.60457274/frame1873.png', '/vol/biodata/data/human3.6m/training/S1/frames/Phoning1.60457274/frame1401.png', '/vol/biodata/data/human3.6m/training/S1/frames/Phoning1.60457274/frame0994.png', '/vol/biodata/data/human3.6m/training/S1/frames/Phoning1.60457274/frame0241.png', '/vol/biodata/data/human3.6m/training/S1/frames/Phoning1.60457274/frame2514.png', '/vol/biodata/data/human3.6m/training/S1/frames/Phoning1.60457274/frame2262.png', '/vol/biodata/data/human3.6m/training/S1/frames/Phoning1.60457274/frame0945.png', '/vol/biodata/data/human3.6m/training/S1/frames/Phoning1.60457274/frame0537.png', '/vol/biodata/data/human3.6m/training/S1/frames/Phoning1.60457274/frame0290.png', '/vol/biodata/data/human3.6m/training/S1/frames/Phoning1.60457274/frame1377.png', '/vol/biodata/data/human3.6m/training/S1/frames/Phoning1.60457274/frame2603.png', '/vol/biodata/data/human3.6m/training/S1/frames/Phoning1.60457274/frame1716.png', '/vol/biodata/data/human3.6m/training/S1/frames/Phoning1.60457274/frame0156.png', '/vol/biodata/data/human3.6m/training/S1/frames/Phoning1.60457274/frame1588.png', '/vol/biodata/data/human3.6m/training/S1/frames/Phoning1.60457274/frame0778.png', '/vol/biodata/data/human3.6m/training/S1/frames/Phoning1.60457274/frame1138.png', '/vol/biodata/data/human3.6m/training/S1/frames/Phoning1.60457274/frame1559.png', '/vol/biodata/data/human3.6m/training/S1/frames/Phoning1.60457274/frame0319.png', '/vol/biodata/data/human3.6m/training/S1/frames/Phoning1.60457274/frame2109.png', '/vol/biodata/data/human3.6m/training/S1/frames/Phoning1.60457274/frame2568.png', '/vol/biodata/data/human3.6m/training/S1/frames/Phoning1.60457274/frame0939.png', '/vol/biodata/data/human3.6m/training/S1/frames/Phoning1.60457274/frame2346.png', '/vol/biodata/data/human3.6m/training/S1/frames/Phoning1.60457274/frame0413.png', '/vol/biodata/data/human3.6m/training/S1/frames/Phoning1.60457274/frame0861.png', '/vol/biodata/data/human3.6m/training/S1/frames/Phoning1.60457274/frame1986.png', '/vol/biodata/data/human3.6m/training/S1/frames/Phoning1.60457274/frame1253.png', '/vol/biodata/data/human3.6m/training/S1/frames/Phoning1.60457274/frame2080.png', '/vol/biodata/data/human3.6m/training/S1/frames/Phoning1.60457274/frame1195.png', '/vol/biodata/data/human3.6m/training/S1/frames/Phoning1.60457274/frame1632.png', '/vol/biodata/data/human3.6m/training/S1/frames/Phoning1.60457274/frame0072.png', '/vol/biodata/data/human3.6m/training/S1/frames/Phoning1.60457274/frame0704.png', '/vol/biodata/data/human3.6m/training/S1/frames/Phoning1.60457274/frame1144.png', '/vol/biodata/data/human3.6m/training/S1/frames/Phoning1.60457274/frame2051.png', '/vol/biodata/data/human3.6m/training/S1/frames/Phoning1.60457274/frame1525.png', '/vol/biodata/data/human3.6m/training/S1/frames/Phoning1.60457274/frame1957.png', '/vol/biodata/data/human3.6m/training/S1/frames/Phoning1.60457274/frame1282.png', '/vol/biodata/data/human3.6m/training/S1/frames/Phoning1.60457274/frame0365.png', '/vol/biodata/data/human3.6m/training/S1/frames/Phoning1.60457274/frame2430.png', '/vol/biodata/data/human3.6m/training/S1/frames/Phoning1.60457274/frame2397.png', '/vol/biodata/data/human3.6m/training/S1/frames/Phoning1.60457274/frame1808.png', '/vol/biodata/data/human3.6m/training/S1/frames/Phoning1.60457274/frame2219.png', '/vol/biodata/data/human3.6m/training/S1/frames/Phoning1.60457274/frame2341.png', '/vol/biodata/data/human3.6m/training/S1/frames/Phoning1.60457274/frame1254.png', '/vol/biodata/data/human3.6m/training/S1/frames/Phoning1.60457274/frame1981.png', '/vol/biodata/data/human3.6m/training/S1/frames/Phoning1.60457274/frame0866.png', '/vol/biodata/data/human3.6m/training/S1/frames/Phoning1.60457274/frame0414.png', '/vol/biodata/data/human3.6m/training/S1/frames/Phoning1.60457274/frame2087.png', '/vol/biodata/data/human3.6m/training/S1/frames/Phoning1.60457274/frame0075.png', '/vol/biodata/data/human3.6m/training/S1/frames/Phoning1.60457274/frame1635.png', '/vol/biodata/data/human3.6m/training/S1/frames/Phoning1.60457274/frame1192.png', '/vol/biodata/data/human3.6m/training/S1/frames/Phoning1.60457274/frame1143.png', '/vol/biodata/data/human3.6m/training/S1/frames/Phoning1.60457274/frame0703.png', '/vol/biodata/data/human3.6m/training/S1/frames/Phoning1.60457274/frame2056.png', '/vol/biodata/data/human3.6m/training/S1/frames/Phoning1.60457274/frame0362.png', '/vol/biodata/data/human3.6m/training/S1/frames/Phoning1.60457274/frame1285.png', '/vol/biodata/data/human3.6m/training/S1/frames/Phoning1.60457274/frame1950.png', '/vol/biodata/data/human3.6m/training/S1/frames/Phoning1.60457274/frame1522.png', '/vol/biodata/data/human3.6m/training/S1/frames/Phoning1.60457274/frame2390.png', '/vol/biodata/data/human3.6m/training/S1/frames/Phoning1.60457274/frame2437.png', '/vol/biodata/data/human3.6m/training/S1/frames/Phoning1.60457274/frame1067.png', '/vol/biodata/data/human3.6m/training/S1/frames/Phoning1.60457274/frame0627.png', '/vol/biodata/data/human3.6m/training/S1/frames/Phoning1.60457274/frame0180.png', '/vol/biodata/data/human3.6m/training/S1/frames/Phoning1.60457274/frame2172.png', '/vol/biodata/data/human3.6m/training/S1/frames/Phoning1.60457274/frame0246.png', '/vol/biodata/data/human3.6m/training/S1/frames/Phoning1.60457274/frame0993.png', '/vol/biodata/data/human3.6m/training/S1/frames/Phoning1.60457274/frame1406.png', '/vol/biodata/data/human3.6m/training/S1/frames/Phoning1.60457274/frame1874.png', '/vol/biodata/data/human3.6m/training/S1/frames/Phoning1.60457274/frame2513.png', '/vol/biodata/data/human3.6m/training/S1/frames/Phoning1.60457274/frame2265.png', '/vol/biodata/data/human3.6m/training/S1/frames/Phoning1.60457274/frame1370.png', '/vol/biodata/data/human3.6m/training/S1/frames/Phoning1.60457274/frame0297.png', '/vol/biodata/data/human3.6m/training/S1/frames/Phoning1.60457274/frame0530.png', '/vol/biodata/data/human3.6m/training/S1/frames/Phoning1.60457274/frame0942.png', '/vol/biodata/data/human3.6m/training/S1/frames/Phoning1.60457274/frame2604.png', '/vol/biodata/data/human3.6m/training/S1/frames/Phoning1.60457274/frame0151.png', '/vol/biodata/data/human3.6m/training/S1/frames/Phoning1.60457274/frame1711.png', '/vol/biodata/data/human3.6m/training/S1/frames/Phoning1.60457274/frame1228.png', '/vol/biodata/data/human3.6m/training/S1/frames/Phoning1.60457274/frame0468.png', '/vol/biodata/data/human3.6m/training/S1/frames/Phoning1.60457274/frame0009.png', '/vol/biodata/data/human3.6m/training/S1/frames/Phoning1.60457274/frame1649.png', '/vol/biodata/data/human3.6m/training/S1/frames/Phoning1.60457274/frame1698.png', '/vol/biodata/data/human3.6m/training/S1/frames/Phoning1.60457274/frame0655.png', '/vol/biodata/data/human3.6m/training/S1/frames/Phoning1.60457274/frame1015.png', '/vol/biodata/data/human3.6m/training/S1/frames/Phoning1.60457274/frame2100.png', '/vol/biodata/data/human3.6m/training/S1/frames/Phoning1.60457274/frame1474.png', '/vol/biodata/data/human3.6m/training/S1/frames/Phoning1.60457274/frame1806.png', '/vol/biodata/data/human3.6m/training/S1/frames/Phoning1.60457274/frame0593.png', '/vol/biodata/data/human3.6m/training/S1/frames/Phoning1.60457274/frame0234.png', '/vol/biodata/data/human3.6m/training/S1/frames/Phoning1.60457274/frame2561.png', '/vol/biodata/data/human3.6m/training/S1/frames/Phoning1.60457274/frame2217.png', '/vol/biodata/data/human3.6m/training/S1/frames/Phoning1.60457274/frame0542.png', '/vol/biodata/data/human3.6m/training/S1/frames/Phoning1.60457274/frame0930.png', '/vol/biodata/data/human3.6m/training/S1/frames/Phoning1.60457274/frame1302.png', '/vol/biodata/data/human3.6m/training/S1/frames/Phoning1.60457274/frame1763.png', '/vol/biodata/data/human3.6m/training/S1/frames/Phoning1.60457274/frame0123.png', '/vol/biodata/data/human3.6m/training/S1/frames/Phoning1.60457274/frame0684.png', '/vol/biodata/data/human3.6m/training/S1/frames/Phoning1.60457274/frame0868.png', '/vol/biodata/data/human3.6m/training/S1/frames/Phoning1.60457274/frame2089.png', '/vol/biodata/data/human3.6m/training/S1/frames/Phoning1.60457274/frame2058.png', '/vol/biodata/data/human3.6m/training/S1/frames/Phoning1.60457274/frame2439.png', '/vol/biodata/data/human3.6m/training/S1/frames/Phoning1.60457274/frame0629.png', '/vol/biodata/data/human3.6m/training/S1/frames/Phoning1.60457274/frame1069.png', '/vol/biodata/data/human3.6m/training/S1/frames/Phoning1.60457274/frame1408.png', '/vol/biodata/data/human3.6m/training/S1/frames/Phoning1.60457274/frame0248.png', '/vol/biodata/data/human3.6m/training/S1/frames/Phoning1.60457274/frame0299.png', '/vol/biodata/data/human3.6m/training/S1/frames/Phoning1.60457274/frame2494.png', '/vol/biodata/data/human3.6m/training/S1/frames/Phoning1.60457274/frame2333.png', '/vol/biodata/data/human3.6m/training/S1/frames/Phoning1.60457274/frame0814.png', '/vol/biodata/data/human3.6m/training/S1/frames/Phoning1.60457274/frame0466.png', '/vol/biodata/data/human3.6m/training/S1/frames/Phoning1.60457274/frame1581.png', '/vol/biodata/data/human3.6m/training/S1/frames/Phoning1.60457274/frame1226.png', '/vol/biodata/data/human3.6m/training/S1/frames/Phoning1.60457274/frame1647.png', '/vol/biodata/data/human3.6m/training/S1/frames/Phoning1.60457274/frame0007.png', '/vol/biodata/data/human3.6m/training/S1/frames/Phoning1.60457274/frame0771.png', '/vol/biodata/data/human3.6m/training/S1/frames/Phoning1.60457274/frame1131.png', '/vol/biodata/data/human3.6m/training/S1/frames/Phoning1.60457274/frame1696.png', '/vol/biodata/data/human3.6m/training/S1/frames/Phoning1.60457274/frame2024.png', '/vol/biodata/data/human3.6m/training/S1/frames/Phoning1.60457274/frame1922.png', '/vol/biodata/data/human3.6m/training/S1/frames/Phoning1.60457274/frame1550.png', '/vol/biodata/data/human3.6m/training/S1/frames/Phoning1.60457274/frame0310.png', '/vol/biodata/data/human3.6m/training/S1/frames/Phoning1.60457274/frame2445.png', '/vol/biodata/data/human3.6m/training/S1/frames/Phoning1.60457274/frame0189.png', '/vol/biodata/data/human3.6m/training/S1/frames/Phoning1.60457274/frame1379.png', '/vol/biodata/data/human3.6m/training/S1/frames/Phoning1.60457274/frame0539.png', '/vol/biodata/data/human3.6m/training/S1/frames/Phoning1.60457274/frame0158.png', '/vol/biodata/data/human3.6m/training/S1/frames/Phoning1.60457274/frame1718.png', '/vol/biodata/data/human3.6m/training/S1/frames/Phoning1.60457274/frame2334.png', '/vol/biodata/data/human3.6m/training/S1/frames/Phoning1.60457274/frame2493.png', '/vol/biodata/data/human3.6m/training/S1/frames/Phoning1.60457274/frame1221.png', '/vol/biodata/data/human3.6m/training/S1/frames/Phoning1.60457274/frame1586.png', '/vol/biodata/data/human3.6m/training/S1/frames/Phoning1.60457274/frame0461.png', '/vol/biodata/data/human3.6m/training/S1/frames/Phoning1.60457274/frame0813.png', '/vol/biodata/data/human3.6m/training/S1/frames/Phoning1.60457274/frame1640.png', '/vol/biodata/data/human3.6m/training/S1/frames/Phoning1.60457274/frame1691.png', '/vol/biodata/data/human3.6m/training/S1/frames/Phoning1.60457274/frame1136.png', '/vol/biodata/data/human3.6m/training/S1/frames/Phoning1.60457274/frame0776.png', '/vol/biodata/data/human3.6m/training/S1/frames/Phoning1.60457274/frame2023.png', '/vol/biodata/data/human3.6m/training/S1/frames/Phoning1.60457274/frame0317.png', '/vol/biodata/data/human3.6m/training/S1/frames/Phoning1.60457274/frame1557.png', '/vol/biodata/data/human3.6m/training/S1/frames/Phoning1.60457274/frame1925.png', '/vol/biodata/data/human3.6m/training/S1/frames/Phoning1.60457274/frame2442.png', '/vol/biodata/data/human3.6m/training/S1/frames/Phoning1.60457274/frame1012.png', '/vol/biodata/data/human3.6m/training/S1/frames/Phoning1.60457274/frame0652.png', '/vol/biodata/data/human3.6m/training/S1/frames/Phoning1.60457274/frame2107.png', '/vol/biodata/data/human3.6m/training/S1/frames/Phoning1.60457274/frame0233.png', '/vol/biodata/data/human3.6m/training/S1/frames/Phoning1.60457274/frame0594.png', '/vol/biodata/data/human3.6m/training/S1/frames/Phoning1.60457274/frame1801.png', '/vol/biodata/data/human3.6m/training/S1/frames/Phoning1.60457274/frame1473.png', '/vol/biodata/data/human3.6m/training/S1/frames/Phoning1.60457274/frame2566.png', '/vol/biodata/data/human3.6m/training/S1/frames/Phoning1.60457274/frame2210.png', '/vol/biodata/data/human3.6m/training/S1/frames/Phoning1.60457274/frame1305.png', '/vol/biodata/data/human3.6m/training/S1/frames/Phoning1.60457274/frame0937.png', '/vol/biodata/data/human3.6m/training/S1/frames/Phoning1.60457274/frame0545.png', '/vol/biodata/data/human3.6m/training/S1/frames/Phoning1.60457274/frame0683.png', '/vol/biodata/data/human3.6m/training/S1/frames/Phoning1.60457274/frame0124.png', '/vol/biodata/data/human3.6m/training/S1/frames/Phoning1.60457274/frame1764.png', '/vol/biodata/data/human3.6m/training/S1/frames/Phoning1.60457274/frame1988.png', '/vol/biodata/data/human3.6m/training/S1/frames/Phoning1.60457274/frame2348.png', '/vol/biodata/data/human3.6m/training/S1/frames/Phoning1.60457274/frame2399.png', '/vol/biodata/data/human3.6m/training/S1/frames/Phoning1.60457274/frame1959.png', '/vol/biodata/data/human3.6m/training/S1/frames/Phoning1.60457274/frame1899.png', '/vol/biodata/data/human3.6m/training/S1/frames/Phoning1.60457274/frame2259.png', '/vol/biodata/data/human3.6m/training/S1/frames/Phoning1.60457274/frame2288.png', '/vol/biodata/data/human3.6m/training/S1/frames/Phoning1.60457274/frame1848.png', '/vol/biodata/data/human3.6m/training/S1/frames/Phoning1.60457274/frame0322.png', '/vol/biodata/data/human3.6m/training/S1/frames/Phoning1.60457274/frame0485.png', '/vol/biodata/data/human3.6m/training/S1/frames/Phoning1.60457274/frame1562.png', '/vol/biodata/data/human3.6m/training/S1/frames/Phoning1.60457274/frame1910.png', '/vol/biodata/data/human3.6m/training/S1/frames/Phoning1.60457274/frame2477.png', '/vol/biodata/data/human3.6m/training/S1/frames/Phoning1.60457274/frame1103.png', '/vol/biodata/data/human3.6m/training/S1/frames/Phoning1.60457274/frame0743.png', '/vol/biodata/data/human3.6m/training/S1/frames/Phoning1.60457274/frame2016.png', '/vol/biodata/data/human3.6m/training/S1/frames/Phoning1.60457274/frame0792.png', '/vol/biodata/data/human3.6m/training/S1/frames/Phoning1.60457274/frame0035.png', '/vol/biodata/data/human3.6m/training/S1/frames/Phoning1.60457274/frame1675.png', '/vol/biodata/data/human3.6m/training/S1/frames/Phoning1.60457274/frame2301.png', '/vol/biodata/data/human3.6m/training/S1/frames/Phoning1.60457274/frame1214.png', '/vol/biodata/data/human3.6m/training/S1/frames/Phoning1.60457274/frame0454.png', '/vol/biodata/data/human3.6m/training/S1/frames/Phoning1.60457274/frame0826.png', '/vol/biodata/data/human3.6m/training/S1/frames/Phoning1.60457274/frame0111.png', '/vol/biodata/data/human3.6m/training/S1/frames/Phoning1.60457274/frame1751.png', '/vol/biodata/data/human3.6m/training/S1/frames/Phoning1.60457274/frame2225.png', '/vol/biodata/data/human3.6m/training/S1/frames/Phoning1.60457274/frame2582.png', '/vol/biodata/data/human3.6m/training/S1/frames/Phoning1.60457274/frame1330.png', '/vol/biodata/data/human3.6m/training/S1/frames/Phoning1.60457274/frame1497.png', '/vol/biodata/data/human3.6m/training/S1/frames/Phoning1.60457274/frame0902.png', '/vol/biodata/data/human3.6m/training/S1/frames/Phoning1.60457274/frame0570.png', '/vol/biodata/data/human3.6m/training/S1/frames/Phoning1.60457274/frame0206.png', '/vol/biodata/data/human3.6m/training/S1/frames/Phoning1.60457274/frame1834.png', '/vol/biodata/data/human3.6m/training/S1/frames/Phoning1.60457274/frame1446.png', '/vol/biodata/data/human3.6m/training/S1/frames/Phoning1.60457274/frame2553.png', '/vol/biodata/data/human3.6m/training/S1/frames/Phoning1.60457274/frame1780.png', '/vol/biodata/data/human3.6m/training/S1/frames/Phoning1.60457274/frame1027.png', '/vol/biodata/data/human3.6m/training/S1/frames/Phoning1.60457274/frame0667.png', '/vol/biodata/data/human3.6m/training/S1/frames/Phoning1.60457274/frame2132.png', '/vol/biodata/data/human3.6m/training/S1/frames/Phoning1.60457274/frame0098.png', '/vol/biodata/data/human3.6m/training/S1/frames/Phoning1.60457274/frame0049.png', '/vol/biodata/data/human3.6m/training/S1/frames/Phoning1.60457274/frame1609.png', '/vol/biodata/data/human3.6m/training/S1/frames/Phoning1.60457274/frame1268.png', '/vol/biodata/data/human3.6m/training/S1/frames/Phoning1.60457274/frame0428.png', '/vol/biodata/data/human3.6m/training/S1/frames/Phoning1.60457274/frame1756.png', '/vol/biodata/data/human3.6m/training/S1/frames/Phoning1.60457274/frame0116.png', '/vol/biodata/data/human3.6m/training/S1/frames/Phoning1.60457274/frame2585.png', '/vol/biodata/data/human3.6m/training/S1/frames/Phoning1.60457274/frame2222.png', '/vol/biodata/data/human3.6m/training/S1/frames/Phoning1.60457274/frame0577.png', '/vol/biodata/data/human3.6m/training/S1/frames/Phoning1.60457274/frame0905.png', '/vol/biodata/data/human3.6m/training/S1/frames/Phoning1.60457274/frame1490.png', '/vol/biodata/data/human3.6m/training/S1/frames/Phoning1.60457274/frame1337.png', '/vol/biodata/data/human3.6m/training/S1/frames/Phoning1.60457274/frame1441.png', '/vol/biodata/data/human3.6m/training/S1/frames/Phoning1.60457274/frame1833.png', '/vol/biodata/data/human3.6m/training/S1/frames/Phoning1.60457274/frame0201.png', '/vol/biodata/data/human3.6m/training/S1/frames/Phoning1.60457274/frame2554.png', '/vol/biodata/data/human3.6m/training/S1/frames/Phoning1.60457274/frame0660.png', '/vol/biodata/data/human3.6m/training/S1/frames/Phoning1.60457274/frame1020.png', '/vol/biodata/data/human3.6m/training/S1/frames/Phoning1.60457274/frame1787.png', '/vol/biodata/data/human3.6m/training/S1/frames/Phoning1.60457274/frame2135.png', '/vol/biodata/data/human3.6m/training/S1/frames/Phoning1.60457274/frame1519.png', '/vol/biodata/data/human3.6m/training/S1/frames/Phoning1.60457274/frame0359.png', '/vol/biodata/data/human3.6m/training/S1/frames/Phoning1.60457274/frame0738.png', '/vol/biodata/data/human3.6m/training/S1/frames/Phoning1.60457274/frame1178.png', '/vol/biodata/data/human3.6m/training/S1/frames/Phoning1.60457274/frame0388.png', '/vol/biodata/data/human3.6m/training/S1/frames/Phoning1.60457274/frame2198.png', '/vol/biodata/data/human3.6m/training/S1/frames/Phoning1.60457274/frame0979.png', '/vol/biodata/data/human3.6m/training/S1/frames/Phoning1.60457274/frame2528.png', '/vol/biodata/data/human3.6m/training/S1/frames/Phoning1.60457274/frame2149.png', '/vol/biodata/data/human3.6m/training/S1/frames/Phoning1.60457274/frame1917.png', '/vol/biodata/data/human3.6m/training/S1/frames/Phoning1.60457274/frame1565.png', '/vol/biodata/data/human3.6m/training/S1/frames/Phoning1.60457274/frame0482.png', '/vol/biodata/data/human3.6m/training/S1/frames/Phoning1.60457274/frame0325.png', '/vol/biodata/data/human3.6m/training/S1/frames/Phoning1.60457274/frame2470.png', '/vol/biodata/data/human3.6m/training/S1/frames/Phoning1.60457274/frame0744.png', '/vol/biodata/data/human3.6m/training/S1/frames/Phoning1.60457274/frame1104.png', '/vol/biodata/data/human3.6m/training/S1/frames/Phoning1.60457274/frame2011.png', '/vol/biodata/data/human3.6m/training/S1/frames/Phoning1.60457274/frame1672.png', '/vol/biodata/data/human3.6m/training/S1/frames/Phoning1.60457274/frame0032.png', '/vol/biodata/data/human3.6m/training/S1/frames/Phoning1.60457274/frame0795.png', '/vol/biodata/data/human3.6m/training/S1/frames/Phoning1.60457274/frame2306.png', '/vol/biodata/data/human3.6m/training/S1/frames/Phoning1.60457274/frame0821.png', '/vol/biodata/data/human3.6m/training/S1/frames/Phoning1.60457274/frame0453.png', '/vol/biodata/data/human3.6m/training/S1/frames/Phoning1.60457274/frame1213.png', '/vol/biodata/data/human3.6m/training/S1/frames/Phoning1.60457274/frame0118.png', '/vol/biodata/data/human3.6m/training/S1/frames/Phoning1.60457274/frame1758.png', '/vol/biodata/data/human3.6m/training/S1/frames/Phoning1.60457274/frame1339.png', '/vol/biodata/data/human3.6m/training/S1/frames/Phoning1.60457274/frame0579.png', '/vol/biodata/data/human3.6m/training/S1/frames/Phoning1.60457274/frame1789.png', '/vol/biodata/data/human3.6m/training/S1/frames/Phoning1.60457274/frame0357.png', '/vol/biodata/data/human3.6m/training/S1/frames/Phoning1.60457274/frame0882.png', '/vol/biodata/data/human3.6m/training/S1/frames/Phoning1.60457274/frame1965.png', '/vol/biodata/data/human3.6m/training/S1/frames/Phoning1.60457274/frame1517.png', '/vol/biodata/data/human3.6m/training/S1/frames/Phoning1.60457274/frame2402.png', '/vol/biodata/data/human3.6m/training/S1/frames/Phoning1.60457274/frame1176.png', '/vol/biodata/data/human3.6m/training/S1/frames/Phoning1.60457274/frame0736.png', '/vol/biodata/data/human3.6m/training/S1/frames/Phoning1.60457274/frame0091.png', '/vol/biodata/data/human3.6m/training/S1/frames/Phoning1.60457274/frame2063.png', '/vol/biodata/data/human3.6m/training/S1/frames/Phoning1.60457274/frame0040.png', '/vol/biodata/data/human3.6m/training/S1/frames/Phoning1.60457274/frame1600.png', '/vol/biodata/data/human3.6m/training/S1/frames/Phoning1.60457274/frame2374.png', '/vol/biodata/data/human3.6m/training/S1/frames/Phoning1.60457274/frame1261.png', '/vol/biodata/data/human3.6m/training/S1/frames/Phoning1.60457274/frame0386.png', '/vol/biodata/data/human3.6m/training/S1/frames/Phoning1.60457274/frame0853.png', '/vol/biodata/data/human3.6m/training/S1/frames/Phoning1.60457274/frame0421.png', '/vol/biodata/data/human3.6m/training/S1/frames/Phoning1.60457274/frame2631.png', '/vol/biodata/data/human3.6m/training/S1/frames/Phoning1.60457274/frame2196.png', '/vol/biodata/data/human3.6m/training/S1/frames/Phoning1.60457274/frame0164.png', '/vol/biodata/data/human3.6m/training/S1/frames/Phoning1.60457274/frame1724.png', '/vol/biodata/data/human3.6m/training/S1/frames/Phoning1.60457274/frame1083.png', '/vol/biodata/data/human3.6m/training/S1/frames/Phoning1.60457274/frame2250.png', '/vol/biodata/data/human3.6m/training/S1/frames/Phoning1.60457274/frame1345.png', '/vol/biodata/data/human3.6m/training/S1/frames/Phoning1.60457274/frame1890.png', '/vol/biodata/data/human3.6m/training/S1/frames/Phoning1.60457274/frame0505.png', '/vol/biodata/data/human3.6m/training/S1/frames/Phoning1.60457274/frame0977.png', '/vol/biodata/data/human3.6m/training/S1/frames/Phoning1.60457274/frame0273.png', '/vol/biodata/data/human3.6m/training/S1/frames/Phoning1.60457274/frame1394.png', '/vol/biodata/data/human3.6m/training/S1/frames/Phoning1.60457274/frame1433.png', '/vol/biodata/data/human3.6m/training/S1/frames/Phoning1.60457274/frame1841.png', '/vol/biodata/data/human3.6m/training/S1/frames/Phoning1.60457274/frame2281.png', '/vol/biodata/data/human3.6m/training/S1/frames/Phoning1.60457274/frame2526.png', '/vol/biodata/data/human3.6m/training/S1/frames/Phoning1.60457274/frame1052.png', '/vol/biodata/data/human3.6m/training/S1/frames/Phoning1.60457274/frame0612.png', '/vol/biodata/data/human3.6m/training/S1/frames/Phoning1.60457274/frame2147.png', '/vol/biodata/data/human3.6m/training/S1/frames/Phoning1.60457274/frame1919.png', '/vol/biodata/data/human3.6m/training/S1/frames/Phoning1.60457274/frame2308.png', '/vol/biodata/data/human3.6m/training/S1/frames/Phoning1.60457274/frame2191.png', '/vol/biodata/data/human3.6m/training/S1/frames/Phoning1.60457274/frame2636.png', '/vol/biodata/data/human3.6m/training/S1/frames/Phoning1.60457274/frame1084.png', '/vol/biodata/data/human3.6m/training/S1/frames/Phoning1.60457274/frame1723.png', '/vol/biodata/data/human3.6m/training/S1/frames/Phoning1.60457274/frame0163.png', '/vol/biodata/data/human3.6m/training/S1/frames/Phoning1.60457274/frame2257.png', '/vol/biodata/data/human3.6m/training/S1/frames/Phoning1.60457274/frame0970.png', '/vol/biodata/data/human3.6m/training/S1/frames/Phoning1.60457274/frame0502.png', '/vol/biodata/data/human3.6m/training/S1/frames/Phoning1.60457274/frame1897.png', '/vol/biodata/data/human3.6m/training/S1/frames/Phoning1.60457274/frame1342.png', '/vol/biodata/data/human3.6m/training/S1/frames/Phoning1.60457274/frame1846.png', '/vol/biodata/data/human3.6m/training/S1/frames/Phoning1.60457274/frame1434.png', '/vol/biodata/data/human3.6m/training/S1/frames/Phoning1.60457274/frame1393.png', '/vol/biodata/data/human3.6m/training/S1/frames/Phoning1.60457274/frame0274.png', '/vol/biodata/data/human3.6m/training/S1/frames/Phoning1.60457274/frame2521.png', '/vol/biodata/data/human3.6m/training/S1/frames/Phoning1.60457274/frame2286.png', '/vol/biodata/data/human3.6m/training/S1/frames/Phoning1.60457274/frame0615.png', '/vol/biodata/data/human3.6m/training/S1/frames/Phoning1.60457274/frame1055.png', '/vol/biodata/data/human3.6m/training/S1/frames/Phoning1.60457274/frame2140.png', '/vol/biodata/data/human3.6m/training/S1/frames/Phoning1.60457274/frame2479.png', '/vol/biodata/data/human3.6m/training/S1/frames/Phoning1.60457274/frame2018.png', '/vol/biodata/data/human3.6m/training/S1/frames/Phoning1.60457274/frame0828.png', '/vol/biodata/data/human3.6m/training/S1/frames/Phoning1.60457274/frame1499.png', '/vol/biodata/data/human3.6m/training/S1/frames/Phoning1.60457274/frame1448.png', '/vol/biodata/data/human3.6m/training/S1/frames/Phoning1.60457274/frame0208.png', '/vol/biodata/data/human3.6m/training/S1/frames/Phoning1.60457274/frame0669.png', '/vol/biodata/data/human3.6m/training/S1/frames/Phoning1.60457274/frame1029.png', '/vol/biodata/data/human3.6m/training/S1/frames/Phoning1.60457274/frame1510.png', '/vol/biodata/data/human3.6m/training/S1/frames/Phoning1.60457274/frame1962.png', '/vol/biodata/data/human3.6m/training/S1/frames/Phoning1.60457274/frame0885.png', '/vol/biodata/data/human3.6m/training/S1/frames/Phoning1.60457274/frame0350.png', '/vol/biodata/data/human3.6m/training/S1/frames/Phoning1.60457274/frame2405.png', '/vol/biodata/data/human3.6m/training/S1/frames/Phoning1.60457274/frame0096.png', '/vol/biodata/data/human3.6m/training/S1/frames/Phoning1.60457274/frame0731.png', '/vol/biodata/data/human3.6m/training/S1/frames/Phoning1.60457274/frame1171.png', '/vol/biodata/data/human3.6m/training/S1/frames/Phoning1.60457274/frame2064.png', '/vol/biodata/data/human3.6m/training/S1/frames/Phoning1.60457274/frame1607.png', '/vol/biodata/data/human3.6m/training/S1/frames/Phoning1.60457274/frame0047.png', '/vol/biodata/data/human3.6m/training/S1/frames/Phoning1.60457274/frame2373.png', '/vol/biodata/data/human3.6m/training/S1/frames/Phoning1.60457274/frame0426.png', '/vol/biodata/data/human3.6m/training/S1/frames/Phoning1.60457274/frame0854.png', '/vol/biodata/data/human3.6m/training/S1/frames/Phoning1.60457274/frame0381.png', '/vol/biodata/data/human3.6m/training/S1/frames/Phoning1.60457274/frame1266.png', '/vol/biodata/data/human3.6m/training/S1/frames/Phoning1.60457274/frame0839.png', '/vol/biodata/data/human3.6m/training/S1/frames/Phoning1.60457274/frame2468.png', '/vol/biodata/data/human3.6m/training/S1/frames/Phoning1.60457274/frame2009.png', '/vol/biodata/data/human3.6m/training/S1/frames/Phoning1.60457274/frame2297.png', '/vol/biodata/data/human3.6m/training/S1/frames/Phoning1.60457274/frame2530.png', '/vol/biodata/data/human3.6m/training/S1/frames/Phoning1.60457274/frame1382.png', '/vol/biodata/data/human3.6m/training/S1/frames/Phoning1.60457274/frame1425.png', '/vol/biodata/data/human3.6m/training/S1/frames/Phoning1.60457274/frame1857.png', '/vol/biodata/data/human3.6m/training/S1/frames/Phoning1.60457274/frame0265.png', '/vol/biodata/data/human3.6m/training/S1/frames/Phoning1.60457274/frame2151.png', '/vol/biodata/data/human3.6m/training/S1/frames/Phoning1.60457274/frame0604.png', '/vol/biodata/data/human3.6m/training/S1/frames/Phoning1.60457274/frame1044.png', '/vol/biodata/data/human3.6m/training/S1/frames/Phoning1.60457274/frame1732.png', '/vol/biodata/data/human3.6m/training/S1/frames/Phoning1.60457274/frame1095.png', '/vol/biodata/data/human3.6m/training/S1/frames/Phoning1.60457274/frame0172.png', '/vol/biodata/data/human3.6m/training/S1/frames/Phoning1.60457274/frame2627.png', '/vol/biodata/data/human3.6m/training/S1/frames/Phoning1.60457274/frame2180.png', '/vol/biodata/data/human3.6m/training/S1/frames/Phoning1.60457274/frame0513.png', '/vol/biodata/data/human3.6m/training/S1/frames/Phoning1.60457274/frame0961.png', '/vol/biodata/data/human3.6m/training/S1/frames/Phoning1.60457274/frame1353.png', '/vol/biodata/data/human3.6m/training/S1/frames/Phoning1.60457274/frame1886.png', '/vol/biodata/data/human3.6m/training/S1/frames/Phoning1.60457274/frame2246.png', '/vol/biodata/data/human3.6m/training/S1/frames/Phoning1.60457274/frame1616.png', '/vol/biodata/data/human3.6m/training/S1/frames/Phoning1.60457274/frame0056.png', '/vol/biodata/data/human3.6m/training/S1/frames/Phoning1.60457274/frame0390.png', '/vol/biodata/data/human3.6m/training/S1/frames/Phoning1.60457274/frame0845.png', '/vol/biodata/data/human3.6m/training/S1/frames/Phoning1.60457274/frame0437.png', '/vol/biodata/data/human3.6m/training/S1/frames/Phoning1.60457274/frame1277.png', '/vol/biodata/data/human3.6m/training/S1/frames/Phoning1.60457274/frame2362.png', '/vol/biodata/data/human3.6m/training/S1/frames/Phoning1.60457274/frame2414.png', '/vol/biodata/data/human3.6m/training/S1/frames/Phoning1.60457274/frame1973.png', '/vol/biodata/data/human3.6m/training/S1/frames/Phoning1.60457274/frame1501.png', '/vol/biodata/data/human3.6m/training/S1/frames/Phoning1.60457274/frame0341.png', '/vol/biodata/data/human3.6m/training/S1/frames/Phoning1.60457274/frame0894.png', '/vol/biodata/data/human3.6m/training/S1/frames/Phoning1.60457274/frame2075.png', '/vol/biodata/data/human3.6m/training/S1/frames/Phoning1.60457274/frame0720.png', '/vol/biodata/data/human3.6m/training/S1/frames/Phoning1.60457274/frame0087.png', '/vol/biodata/data/human3.6m/training/S1/frames/Phoning1.60457274/frame1160.png', '/vol/biodata/data/human3.6m/training/S1/frames/Phoning1.60457274/frame1459.png', '/vol/biodata/data/human3.6m/training/S1/frames/Phoning1.60457274/frame0219.png', '/vol/biodata/data/human3.6m/training/S1/frames/Phoning1.60457274/frame0678.png', '/vol/biodata/data/human3.6m/training/S1/frames/Phoning1.60457274/frame1038.png', '/vol/biodata/data/human3.6m/training/S1/frames/Phoning1.60457274/frame1488.png', '/vol/biodata/data/human3.6m/training/S1/frames/Phoning1.60457274/frame0051.png', '/vol/biodata/data/human3.6m/training/S1/frames/Phoning1.60457274/frame1611.png', '/vol/biodata/data/human3.6m/training/S1/frames/Phoning1.60457274/frame1270.png', '/vol/biodata/data/human3.6m/training/S1/frames/Phoning1.60457274/frame0430.png', '/vol/biodata/data/human3.6m/training/S1/frames/Phoning1.60457274/frame0842.png', '/vol/biodata/data/human3.6m/training/S1/frames/Phoning1.60457274/frame0397.png', '/vol/biodata/data/human3.6m/training/S1/frames/Phoning1.60457274/frame2365.png', '/vol/biodata/data/human3.6m/training/S1/frames/Phoning1.60457274/frame2413.png', '/vol/biodata/data/human3.6m/training/S1/frames/Phoning1.60457274/frame0893.png', '/vol/biodata/data/human3.6m/training/S1/frames/Phoning1.60457274/frame0346.png', '/vol/biodata/data/human3.6m/training/S1/frames/Phoning1.60457274/frame1506.png', '/vol/biodata/data/human3.6m/training/S1/frames/Phoning1.60457274/frame1974.png', '/vol/biodata/data/human3.6m/training/S1/frames/Phoning1.60457274/frame2072.png', '/vol/biodata/data/human3.6m/training/S1/frames/Phoning1.60457274/frame1167.png', '/vol/biodata/data/human3.6m/training/S1/frames/Phoning1.60457274/frame0080.png', '/vol/biodata/data/human3.6m/training/S1/frames/Phoning1.60457274/frame0727.png', '/vol/biodata/data/human3.6m/training/S1/frames/Phoning1.60457274/frame1798.png', '/vol/biodata/data/human3.6m/training/S1/frames/Phoning1.60457274/frame0109.png', '/vol/biodata/data/human3.6m/training/S1/frames/Phoning1.60457274/frame1749.png', '/vol/biodata/data/human3.6m/training/S1/frames/Phoning1.60457274/frame1328.png', '/vol/biodata/data/human3.6m/training/S1/frames/Phoning1.60457274/frame0568.png', '/vol/biodata/data/human3.6m/training/S1/frames/Phoning1.60457274/frame2319.png', '/vol/biodata/data/human3.6m/training/S1/frames/Phoning1.60457274/frame1908.png', '/vol/biodata/data/human3.6m/training/S1/frames/Phoning1.60457274/frame2537.png', '/vol/biodata/data/human3.6m/training/S1/frames/Phoning1.60457274/frame2290.png', '/vol/biodata/data/human3.6m/training/S1/frames/Phoning1.60457274/frame0262.png', '/vol/biodata/data/human3.6m/training/S1/frames/Phoning1.60457274/frame1850.png', '/vol/biodata/data/human3.6m/training/S1/frames/Phoning1.60457274/frame1422.png', '/vol/biodata/data/human3.6m/training/S1/frames/Phoning1.60457274/frame1385.png', '/vol/biodata/data/human3.6m/training/S1/frames/Phoning1.60457274/frame2156.png', '/vol/biodata/data/human3.6m/training/S1/frames/Phoning1.60457274/frame1043.png', '/vol/biodata/data/human3.6m/training/S1/frames/Phoning1.60457274/frame0603.png', '/vol/biodata/data/human3.6m/training/S1/frames/Phoning1.60457274/frame0175.png', '/vol/biodata/data/human3.6m/training/S1/frames/Phoning1.60457274/frame1092.png', '/vol/biodata/data/human3.6m/training/S1/frames/Phoning1.60457274/frame1735.png', '/vol/biodata/data/human3.6m/training/S1/frames/Phoning1.60457274/frame2187.png', '/vol/biodata/data/human3.6m/training/S1/frames/Phoning1.60457274/frame2620.png', '/vol/biodata/data/human3.6m/training/S1/frames/Phoning1.60457274/frame1881.png', '/vol/biodata/data/human3.6m/training/S1/frames/Phoning1.60457274/frame1354.png', '/vol/biodata/data/human3.6m/training/S1/frames/Phoning1.60457274/frame0966.png', '/vol/biodata/data/human3.6m/training/S1/frames/Phoning1.60457274/frame0514.png', '/vol/biodata/data/human3.6m/training/S1/frames/Phoning1.60457274/frame2241.png', '/vol/biodata/data/human3.6m/training/S1/frames/Phoning1.60457274/frame0399.png', '/vol/biodata/data/human3.6m/training/S1/frames/Phoning1.60457274/frame1508.png', '/vol/biodata/data/human3.6m/training/S1/frames/Phoning1.60457274/frame0348.png', '/vol/biodata/data/human3.6m/training/S1/frames/Phoning1.60457274/frame0729.png', '/vol/biodata/data/human3.6m/training/S1/frames/Phoning1.60457274/frame1169.png', '/vol/biodata/data/human3.6m/training/S1/frames/Phoning1.60457274/frame2545.png', '/vol/biodata/data/human3.6m/training/S1/frames/Phoning1.60457274/frame1822.png', '/vol/biodata/data/human3.6m/training/S1/frames/Phoning1.60457274/frame1450.png', '/vol/biodata/data/human3.6m/training/S1/frames/Phoning1.60457274/frame0210.png', '/vol/biodata/data/human3.6m/training/S1/frames/Phoning1.60457274/frame2124.png', '/vol/biodata/data/human3.6m/training/S1/frames/Phoning1.60457274/frame0671.png', '/vol/biodata/data/human3.6m/training/S1/frames/Phoning1.60457274/frame1796.png', '/vol/biodata/data/human3.6m/training/S1/frames/Phoning1.60457274/frame1031.png', '/vol/biodata/data/human3.6m/training/S1/frames/Phoning1.60457274/frame1747.png', '/vol/biodata/data/human3.6m/training/S1/frames/Phoning1.60457274/frame0107.png', '/vol/biodata/data/human3.6m/training/S1/frames/Phoning1.60457274/frame0914.png', '/vol/biodata/data/human3.6m/training/S1/frames/Phoning1.60457274/frame0566.png', '/vol/biodata/data/human3.6m/training/S1/frames/Phoning1.60457274/frame1326.png', '/vol/biodata/data/human3.6m/training/S1/frames/Phoning1.60457274/frame1481.png', '/vol/biodata/data/human3.6m/training/S1/frames/Phoning1.60457274/frame2233.png', '/vol/biodata/data/human3.6m/training/S1/frames/Phoning1.60457274/frame2594.png', '/vol/biodata/data/human3.6m/training/S1/frames/Phoning1.60457274/frame1663.png', '/vol/biodata/data/human3.6m/training/S1/frames/Phoning1.60457274/frame0784.png', '/vol/biodata/data/human3.6m/training/S1/frames/Phoning1.60457274/frame0023.png', '/vol/biodata/data/human3.6m/training/S1/frames/Phoning1.60457274/frame0442.png', '/vol/biodata/data/human3.6m/training/S1/frames/Phoning1.60457274/frame0830.png', '/vol/biodata/data/human3.6m/training/S1/frames/Phoning1.60457274/frame1202.png', '/vol/biodata/data/human3.6m/training/S1/frames/Phoning1.60457274/frame2317.png', '/vol/biodata/data/human3.6m/training/S1/frames/Phoning1.60457274/frame2461.png', '/vol/biodata/data/human3.6m/training/S1/frames/Phoning1.60457274/frame1574.png', '/vol/biodata/data/human3.6m/training/S1/frames/Phoning1.60457274/frame1906.png', '/vol/biodata/data/human3.6m/training/S1/frames/Phoning1.60457274/frame0334.png', '/vol/biodata/data/human3.6m/training/S1/frames/Phoning1.60457274/frame0493.png', '/vol/biodata/data/human3.6m/training/S1/frames/Phoning1.60457274/frame2000.png', '/vol/biodata/data/human3.6m/training/S1/frames/Phoning1.60457274/frame0755.png', '/vol/biodata/data/human3.6m/training/S1/frames/Phoning1.60457274/frame1115.png', '/vol/biodata/data/human3.6m/training/S1/frames/Phoning1.60457274/frame2539.png', '/vol/biodata/data/human3.6m/training/S1/frames/Phoning1.60457274/frame2158.png', '/vol/biodata/data/human3.6m/training/S1/frames/Phoning1.60457274/frame2189.png', '/vol/biodata/data/human3.6m/training/S1/frames/Phoning1.60457274/frame0968.png', '/vol/biodata/data/human3.6m/training/S1/frames/Phoning1.60457274/frame0024.png', '/vol/biodata/data/human3.6m/training/S1/frames/Phoning1.60457274/frame0783.png', '/vol/biodata/data/human3.6m/training/S1/frames/Phoning1.60457274/frame1664.png', '/vol/biodata/data/human3.6m/training/S1/frames/Phoning1.60457274/frame1205.png', '/vol/biodata/data/human3.6m/training/S1/frames/Phoning1.60457274/frame0837.png', '/vol/biodata/data/human3.6m/training/S1/frames/Phoning1.60457274/frame0445.png', '/vol/biodata/data/human3.6m/training/S1/frames/Phoning1.60457274/frame2310.png', '/vol/biodata/data/human3.6m/training/S1/frames/Phoning1.60457274/frame2466.png', '/vol/biodata/data/human3.6m/training/S1/frames/Phoning1.60457274/frame0494.png', '/vol/biodata/data/human3.6m/training/S1/frames/Phoning1.60457274/frame0333.png', '/vol/biodata/data/human3.6m/training/S1/frames/Phoning1.60457274/frame1901.png', '/vol/biodata/data/human3.6m/training/S1/frames/Phoning1.60457274/frame1573.png', '/vol/biodata/data/human3.6m/training/S1/frames/Phoning1.60457274/frame2007.png', '/vol/biodata/data/human3.6m/training/S1/frames/Phoning1.60457274/frame1112.png', '/vol/biodata/data/human3.6m/training/S1/frames/Phoning1.60457274/frame0752.png', '/vol/biodata/data/human3.6m/training/S1/frames/Phoning1.60457274/frame1859.png', '/vol/biodata/data/human3.6m/training/S1/frames/Phoning1.60457274/frame2299.png', '/vol/biodata/data/human3.6m/training/S1/frames/Phoning1.60457274/frame2629.png', '/vol/biodata/data/human3.6m/training/S1/frames/Phoning1.60457274/frame2248.png', '/vol/biodata/data/human3.6m/training/S1/frames/Phoning1.60457274/frame1888.png', '/vol/biodata/data/human3.6m/training/S1/frames/Phoning1.60457274/frame0058.png', '/vol/biodata/data/human3.6m/training/S1/frames/Phoning1.60457274/frame1618.png', '/vol/biodata/data/human3.6m/training/S1/frames/Phoning1.60457274/frame1279.png', '/vol/biodata/data/human3.6m/training/S1/frames/Phoning1.60457274/frame0439.png', '/vol/biodata/data/human3.6m/training/S1/frames/Phoning1.60457274/frame0089.png', '/vol/biodata/data/human3.6m/training/S1/frames/Phoning1.60457274/frame2542.png', '/vol/biodata/data/human3.6m/training/S1/frames/Phoning1.60457274/frame0217.png', '/vol/biodata/data/human3.6m/training/S1/frames/Phoning1.60457274/frame1457.png', '/vol/biodata/data/human3.6m/training/S1/frames/Phoning1.60457274/frame1825.png', '/vol/biodata/data/human3.6m/training/S1/frames/Phoning1.60457274/frame2123.png', '/vol/biodata/data/human3.6m/training/S1/frames/Phoning1.60457274/frame1036.png', '/vol/biodata/data/human3.6m/training/S1/frames/Phoning1.60457274/frame1791.png', '/vol/biodata/data/human3.6m/training/S1/frames/Phoning1.60457274/frame0676.png', '/vol/biodata/data/human3.6m/training/S1/frames/Phoning1.60457274/frame0100.png', '/vol/biodata/data/human3.6m/training/S1/frames/Phoning1.60457274/frame1740.png', '/vol/biodata/data/human3.6m/training/S1/frames/Phoning1.60457274/frame1486.png', '/vol/biodata/data/human3.6m/training/S1/frames/Phoning1.60457274/frame1321.png', '/vol/biodata/data/human3.6m/training/S1/frames/Phoning1.60457274/frame0561.png', '/vol/biodata/data/human3.6m/training/S1/frames/Phoning1.60457274/frame0913.png', '/vol/biodata/data/human3.6m/training/S1/frames/Phoning1.60457274/frame2593.png', '/vol/biodata/data/human3.6m/training/S1/frames/Phoning1.60457274/frame2234.png', '/vol/biodata/data/human3.6m/training/S1/frames/Phoning1.60457274/frame2032.png', '/vol/biodata/data/human3.6m/training/S1/frames/Phoning1.60457274/frame1127.png', '/vol/biodata/data/human3.6m/training/S1/frames/Phoning1.60457274/frame1680.png', '/vol/biodata/data/human3.6m/training/S1/frames/Phoning1.60457274/frame0767.png', '/vol/biodata/data/human3.6m/training/S1/frames/Phoning1.60457274/frame2453.png', '/vol/biodata/data/human3.6m/training/S1/frames/Phoning1.60457274/frame0306.png', '/vol/biodata/data/human3.6m/training/S1/frames/Phoning1.60457274/frame1934.png', '/vol/biodata/data/human3.6m/training/S1/frames/Phoning1.60457274/frame1546.png', '/vol/biodata/data/human3.6m/training/S1/frames/Phoning1.60457274/frame1597.png', '/vol/biodata/data/human3.6m/training/S1/frames/Phoning1.60457274/frame1230.png', '/vol/biodata/data/human3.6m/training/S1/frames/Phoning1.60457274/frame0802.png', '/vol/biodata/data/human3.6m/training/S1/frames/Phoning1.60457274/frame0470.png', '/vol/biodata/data/human3.6m/training/S1/frames/Phoning1.60457274/frame2482.png', '/vol/biodata/data/human3.6m/training/S1/frames/Phoning1.60457274/frame2325.png', '/vol/biodata/data/human3.6m/training/S1/frames/Phoning1.60457274/frame0011.png', '/vol/biodata/data/human3.6m/training/S1/frames/Phoning1.60457274/frame1651.png', '/vol/biodata/data/human3.6m/training/S1/frames/Phoning1.60457274/frame1368.png', '/vol/biodata/data/human3.6m/training/S1/frames/Phoning1.60457274/frame0528.png', '/vol/biodata/data/human3.6m/training/S1/frames/Phoning1.60457274/frame0149.png', '/vol/biodata/data/human3.6m/training/S1/frames/Phoning1.60457274/frame1709.png', '/vol/biodata/data/human3.6m/training/S1/frames/Phoning1.60457274/frame0198.png', '/vol/biodata/data/human3.6m/training/S1/frames/Phoning1.60457274/frame1948.png', '/vol/biodata/data/human3.6m/training/S1/frames/Phoning1.60457274/frame2388.png', '/vol/biodata/data/human3.6m/training/S1/frames/Phoning1.60457274/frame2359.png', '/vol/biodata/data/human3.6m/training/S1/frames/Phoning1.60457274/frame1999.png', '/vol/biodata/data/human3.6m/training/S1/frames/Phoning1.60457274/frame1314.png', '/vol/biodata/data/human3.6m/training/S1/frames/Phoning1.60457274/frame0554.png', '/vol/biodata/data/human3.6m/training/S1/frames/Phoning1.60457274/frame0926.png', '/vol/biodata/data/human3.6m/training/S1/frames/Phoning1.60457274/frame2201.png', '/vol/biodata/data/human3.6m/training/S1/frames/Phoning1.60457274/frame0135.png', '/vol/biodata/data/human3.6m/training/S1/frames/Phoning1.60457274/frame0692.png', '/vol/biodata/data/human3.6m/training/S1/frames/Phoning1.60457274/frame1775.png', '/vol/biodata/data/human3.6m/training/S1/frames/Phoning1.60457274/frame2116.png', '/vol/biodata/data/human3.6m/training/S1/frames/Phoning1.60457274/frame1003.png', '/vol/biodata/data/human3.6m/training/S1/frames/Phoning1.60457274/frame0643.png', '/vol/biodata/data/human3.6m/training/S1/frames/Phoning1.60457274/frame2577.png', '/vol/biodata/data/human3.6m/training/S1/frames/Phoning1.60457274/frame0585.png', '/vol/biodata/data/human3.6m/training/S1/frames/Phoning1.60457274/frame0222.png', '/vol/biodata/data/human3.6m/training/S1/frames/Phoning1.60457274/frame1462.png', '/vol/biodata/data/human3.6m/training/S1/frames/Phoning1.60457274/frame1810.png', '/vol/biodata/data/human3.6m/training/S1/frames/Phoning1.60457274/frame2049.png', '/vol/biodata/data/human3.6m/training/S1/frames/Phoning1.60457274/frame2428.png', '/vol/biodata/data/human3.6m/training/S1/frames/Phoning1.60457274/frame0879.png', '/vol/biodata/data/human3.6m/training/S1/frames/Phoning1.60457274/frame2098.png', '/vol/biodata/data/human3.6m/training/S1/frames/Phoning1.60457274/frame0921.png', '/vol/biodata/data/human3.6m/training/S1/frames/Phoning1.60457274/frame0553.png', '/vol/biodata/data/human3.6m/training/S1/frames/Phoning1.60457274/frame1313.png', '/vol/biodata/data/human3.6m/training/S1/frames/Phoning1.60457274/frame2206.png', '/vol/biodata/data/human3.6m/training/S1/frames/Phoning1.60457274/frame1772.png', '/vol/biodata/data/human3.6m/training/S1/frames/Phoning1.60457274/frame0695.png', '/vol/biodata/data/human3.6m/training/S1/frames/Phoning1.60457274/frame0132.png', '/vol/biodata/data/human3.6m/training/S1/frames/Phoning1.60457274/frame2111.png', '/vol/biodata/data/human3.6m/training/S1/frames/Phoning1.60457274/frame0644.png', '/vol/biodata/data/human3.6m/training/S1/frames/Phoning1.60457274/frame1004.png', '/vol/biodata/data/human3.6m/training/S1/frames/Phoning1.60457274/frame2570.png', '/vol/biodata/data/human3.6m/training/S1/frames/Phoning1.60457274/frame1817.png', '/vol/biodata/data/human3.6m/training/S1/frames/Phoning1.60457274/frame1465.png', '/vol/biodata/data/human3.6m/training/S1/frames/Phoning1.60457274/frame0225.png', '/vol/biodata/data/human3.6m/training/S1/frames/Phoning1.60457274/frame0582.png', '/vol/biodata/data/human3.6m/training/S1/frames/Phoning1.60457274/frame2035.png', '/vol/biodata/data/human3.6m/training/S1/frames/Phoning1.60457274/frame0760.png', '/vol/biodata/data/human3.6m/training/S1/frames/Phoning1.60457274/frame1687.png', '/vol/biodata/data/human3.6m/training/S1/frames/Phoning1.60457274/frame1120.png', '/vol/biodata/data/human3.6m/training/S1/frames/Phoning1.60457274/frame2454.png', '/vol/biodata/data/human3.6m/training/S1/frames/Phoning1.60457274/frame1541.png', '/vol/biodata/data/human3.6m/training/S1/frames/Phoning1.60457274/frame1933.png', '/vol/biodata/data/human3.6m/training/S1/frames/Phoning1.60457274/frame0301.png', '/vol/biodata/data/human3.6m/training/S1/frames/Phoning1.60457274/frame0477.png', '/vol/biodata/data/human3.6m/training/S1/frames/Phoning1.60457274/frame0805.png', '/vol/biodata/data/human3.6m/training/S1/frames/Phoning1.60457274/frame1237.png', '/vol/biodata/data/human3.6m/training/S1/frames/Phoning1.60457274/frame1590.png', '/vol/biodata/data/human3.6m/training/S1/frames/Phoning1.60457274/frame2322.png', '/vol/biodata/data/human3.6m/training/S1/frames/Phoning1.60457274/frame2485.png', '/vol/biodata/data/human3.6m/training/S1/frames/Phoning1.60457274/frame1656.png', '/vol/biodata/data/human3.6m/training/S1/frames/Phoning1.60457274/frame0016.png', '/vol/biodata/data/human3.6m/training/S1/frames/Phoning1.60457274/frame0288.png', '/vol/biodata/data/human3.6m/training/S1/frames/Phoning1.60457274/frame0638.png', '/vol/biodata/data/human3.6m/training/S1/frames/Phoning1.60457274/frame1078.png', '/vol/biodata/data/human3.6m/training/S1/frames/Phoning1.60457274/frame1419.png', '/vol/biodata/data/human3.6m/training/S1/frames/Phoning1.60457274/frame0259.png', '/vol/biodata/data/human3.6m/training/S1/frames/Phoning1.60457274/frame2047.png', '/vol/biodata/data/human3.6m/training/S1/frames/Phoning1.60457274/frame1152.png', '/vol/biodata/data/human3.6m/training/S1/frames/Phoning1.60457274/frame0712.png', '/vol/biodata/data/human3.6m/training/S1/frames/Phoning1.60457274/frame2426.png', '/vol/biodata/data/human3.6m/training/S1/frames/Phoning1.60457274/frame2381.png', '/vol/biodata/data/human3.6m/training/S1/frames/Phoning1.60457274/frame0373.png', '/vol/biodata/data/human3.6m/training/S1/frames/Phoning1.60457274/frame1533.png', '/vol/biodata/data/human3.6m/training/S1/frames/Phoning1.60457274/frame1941.png', '/vol/biodata/data/human3.6m/training/S1/frames/Phoning1.60457274/frame1294.png', '/vol/biodata/data/human3.6m/training/S1/frames/Phoning1.60457274/frame1990.png', '/vol/biodata/data/human3.6m/training/S1/frames/Phoning1.60457274/frame1245.png', '/vol/biodata/data/human3.6m/training/S1/frames/Phoning1.60457274/frame0405.png', '/vol/biodata/data/human3.6m/training/S1/frames/Phoning1.60457274/frame0877.png', '/vol/biodata/data/human3.6m/training/S1/frames/Phoning1.60457274/frame2350.png', '/vol/biodata/data/human3.6m/training/S1/frames/Phoning1.60457274/frame0064.png', '/vol/biodata/data/human3.6m/training/S1/frames/Phoning1.60457274/frame1183.png', '/vol/biodata/data/human3.6m/training/S1/frames/Phoning1.60457274/frame1624.png', '/vol/biodata/data/human3.6m/training/S1/frames/Phoning1.60457274/frame2096.png', '/vol/biodata/data/human3.6m/training/S1/frames/Phoning1.60457274/frame2208.png', '/vol/biodata/data/human3.6m/training/S1/frames/Phoning1.60457274/frame1819.png', '/vol/biodata/data/human3.6m/training/S1/frames/Phoning1.60457274/frame1689.png', '/vol/biodata/data/human3.6m/training/S1/frames/Phoning1.60457274/frame1239.png', '/vol/biodata/data/human3.6m/training/S1/frames/Phoning1.60457274/frame0479.png', '/vol/biodata/data/human3.6m/training/S1/frames/Phoning1.60457274/frame0018.png', '/vol/biodata/data/human3.6m/training/S1/frames/Phoning1.60457274/frame1658.png', '/vol/biodata/data/human3.6m/training/S1/frames/Phoning1.60457274/frame1361.png', '/vol/biodata/data/human3.6m/training/S1/frames/Phoning1.60457274/frame0953.png', '/vol/biodata/data/human3.6m/training/S1/frames/Phoning1.60457274/frame0521.png', '/vol/biodata/data/human3.6m/training/S1/frames/Phoning1.60457274/frame0286.png', '/vol/biodata/data/human3.6m/training/S1/frames/Phoning1.60457274/frame2274.png', '/vol/biodata/data/human3.6m/training/S1/frames/Phoning1.60457274/frame0140.png', '/vol/biodata/data/human3.6m/training/S1/frames/Phoning1.60457274/frame1700.png', '/vol/biodata/data/human3.6m/training/S1/frames/Phoning1.60457274/frame2615.png', '/vol/biodata/data/human3.6m/training/S1/frames/Phoning1.60457274/frame2163.png', '/vol/biodata/data/human3.6m/training/S1/frames/Phoning1.60457274/frame1076.png', '/vol/biodata/data/human3.6m/training/S1/frames/Phoning1.60457274/frame0191.png', '/vol/biodata/data/human3.6m/training/S1/frames/Phoning1.60457274/frame0636.png', '/vol/biodata/data/human3.6m/training/S1/frames/Phoning1.60457274/frame2502.png', '/vol/biodata/data/human3.6m/training/S1/frames/Phoning1.60457274/frame0982.png', '/vol/biodata/data/human3.6m/training/S1/frames/Phoning1.60457274/frame0257.png', '/vol/biodata/data/human3.6m/training/S1/frames/Phoning1.60457274/frame1865.png', '/vol/biodata/data/human3.6m/training/S1/frames/Phoning1.60457274/frame1417.png', '/vol/biodata/data/human3.6m/training/S1/frames/Phoning1.60457274/frame0769.png', '/vol/biodata/data/human3.6m/training/S1/frames/Phoning1.60457274/frame1129.png', '/vol/biodata/data/human3.6m/training/S1/frames/Phoning1.60457274/frame1548.png', '/vol/biodata/data/human3.6m/training/S1/frames/Phoning1.60457274/frame0308.png', '/vol/biodata/data/human3.6m/training/S1/frames/Phoning1.60457274/frame1599.png', '/vol/biodata/data/human3.6m/training/S1/frames/Phoning1.60457274/frame0281.png', '/vol/biodata/data/human3.6m/training/S1/frames/Phoning1.60457274/frame0526.png', '/vol/biodata/data/human3.6m/training/S1/frames/Phoning1.60457274/frame0954.png', '/vol/biodata/data/human3.6m/training/S1/frames/Phoning1.60457274/frame1366.png', '/vol/biodata/data/human3.6m/training/S1/frames/Phoning1.60457274/frame2273.png', '/vol/biodata/data/human3.6m/training/S1/frames/Phoning1.60457274/frame1707.png', '/vol/biodata/data/human3.6m/training/S1/frames/Phoning1.60457274/frame0147.png', '/vol/biodata/data/human3.6m/training/S1/frames/Phoning1.60457274/frame2612.png', '/vol/biodata/data/human3.6m/training/S1/frames/Phoning1.60457274/frame2164.png', '/vol/biodata/data/human3.6m/training/S1/frames/Phoning1.60457274/frame0631.png', '/vol/biodata/data/human3.6m/training/S1/frames/Phoning1.60457274/frame0196.png', '/vol/biodata/data/human3.6m/training/S1/frames/Phoning1.60457274/frame1071.png', '/vol/biodata/data/human3.6m/training/S1/frames/Phoning1.60457274/frame2505.png', '/vol/biodata/data/human3.6m/training/S1/frames/Phoning1.60457274/frame1410.png', '/vol/biodata/data/human3.6m/training/S1/frames/Phoning1.60457274/frame1862.png', '/vol/biodata/data/human3.6m/training/S1/frames/Phoning1.60457274/frame0250.png', '/vol/biodata/data/human3.6m/training/S1/frames/Phoning1.60457274/frame0985.png', '/vol/biodata/data/human3.6m/training/S1/frames/Phoning1.60457274/frame2040.png', '/vol/biodata/data/human3.6m/training/S1/frames/Phoning1.60457274/frame0715.png', '/vol/biodata/data/human3.6m/training/S1/frames/Phoning1.60457274/frame1155.png', '/vol/biodata/data/human3.6m/training/S1/frames/Phoning1.60457274/frame2386.png', '/vol/biodata/data/human3.6m/training/S1/frames/Phoning1.60457274/frame2421.png', '/vol/biodata/data/human3.6m/training/S1/frames/Phoning1.60457274/frame1293.png', '/vol/biodata/data/human3.6m/training/S1/frames/Phoning1.60457274/frame1946.png', '/vol/biodata/data/human3.6m/training/S1/frames/Phoning1.60457274/frame1534.png', '/vol/biodata/data/human3.6m/training/S1/frames/Phoning1.60457274/frame0374.png', '/vol/biodata/data/human3.6m/training/S1/frames/Phoning1.60457274/frame0870.png', '/vol/biodata/data/human3.6m/training/S1/frames/Phoning1.60457274/frame0402.png', '/vol/biodata/data/human3.6m/training/S1/frames/Phoning1.60457274/frame1242.png', '/vol/biodata/data/human3.6m/training/S1/frames/Phoning1.60457274/frame1997.png', '/vol/biodata/data/human3.6m/training/S1/frames/Phoning1.60457274/frame2357.png', '/vol/biodata/data/human3.6m/training/S1/frames/Phoning1.60457274/frame1623.png', '/vol/biodata/data/human3.6m/training/S1/frames/Phoning1.60457274/frame1184.png', '/vol/biodata/data/human3.6m/training/S1/frames/Phoning1.60457274/frame0063.png', '/vol/biodata/data/human3.6m/training/S1/frames/Phoning1.60457274/frame2091.png', '/vol/biodata/data/human3.6m/training/S1/frames/Phoning1.60457274/frame0928.png', '/vol/biodata/data/human3.6m/training/S1/frames/Phoning1.60457274/frame2118.png', '/vol/biodata/data/human3.6m/training/S1/frames/Phoning1.60457274/frame2579.png', '/vol/biodata/data/human3.6m/training/S1/frames/Phoning1.60457274/frame1722.png', '/vol/biodata/data/human3.6m/training/S1/frames/Phoning1.60457274/frame1085.png', '/vol/biodata/data/human3.6m/training/S1/frames/Phoning1.60457274/frame0162.png', '/vol/biodata/data/human3.6m/training/S1/frames/Phoning1.60457274/frame2637.png', '/vol/biodata/data/human3.6m/training/S1/frames/Phoning1.60457274/frame2190.png', '/vol/biodata/data/human3.6m/training/S1/frames/Phoning1.60457274/frame0971.png', '/vol/biodata/data/human3.6m/training/S1/frames/Phoning1.60457274/frame0503.png', '/vol/biodata/data/human3.6m/training/S1/frames/Phoning1.60457274/frame1343.png', '/vol/biodata/data/human3.6m/training/S1/frames/Phoning1.60457274/frame1896.png', '/vol/biodata/data/human3.6m/training/S1/frames/Phoning1.60457274/frame2256.png', '/vol/biodata/data/human3.6m/training/S1/frames/Phoning1.60457274/frame2287.png', '/vol/biodata/data/human3.6m/training/S1/frames/Phoning1.60457274/frame2520.png', '/vol/biodata/data/human3.6m/training/S1/frames/Phoning1.60457274/frame1392.png', '/vol/biodata/data/human3.6m/training/S1/frames/Phoning1.60457274/frame1847.png', '/vol/biodata/data/human3.6m/training/S1/frames/Phoning1.60457274/frame1435.png', '/vol/biodata/data/human3.6m/training/S1/frames/Phoning1.60457274/frame0275.png', '/vol/biodata/data/human3.6m/training/S1/frames/Phoning1.60457274/frame2141.png', '/vol/biodata/data/human3.6m/training/S1/frames/Phoning1.60457274/frame0614.png', '/vol/biodata/data/human3.6m/training/S1/frames/Phoning1.60457274/frame1054.png', '/vol/biodata/data/human3.6m/training/S1/frames/Phoning1.60457274/frame2478.png', '/vol/biodata/data/human3.6m/training/S1/frames/Phoning1.60457274/frame2019.png', '/vol/biodata/data/human3.6m/training/S1/frames/Phoning1.60457274/frame0829.png', '/vol/biodata/data/human3.6m/training/S1/frames/Phoning1.60457274/frame1498.png', '/vol/biodata/data/human3.6m/training/S1/frames/Phoning1.60457274/frame1449.png', '/vol/biodata/data/human3.6m/training/S1/frames/Phoning1.60457274/frame0209.png', '/vol/biodata/data/human3.6m/training/S1/frames/Phoning1.60457274/frame0668.png', '/vol/biodata/data/human3.6m/training/S1/frames/Phoning1.60457274/frame1028.png', '/vol/biodata/data/human3.6m/training/S1/frames/Phoning1.60457274/frame2404.png', '/vol/biodata/data/human3.6m/training/S1/frames/Phoning1.60457274/frame1511.png', '/vol/biodata/data/human3.6m/training/S1/frames/Phoning1.60457274/frame1963.png', '/vol/biodata/data/human3.6m/training/S1/frames/Phoning1.60457274/frame0351.png', '/vol/biodata/data/human3.6m/training/S1/frames/Phoning1.60457274/frame0884.png', '/vol/biodata/data/human3.6m/training/S1/frames/Phoning1.60457274/frame2065.png', '/vol/biodata/data/human3.6m/training/S1/frames/Phoning1.60457274/frame0730.png', '/vol/biodata/data/human3.6m/training/S1/frames/Phoning1.60457274/frame0097.png', '/vol/biodata/data/human3.6m/training/S1/frames/Phoning1.60457274/frame1170.png', '/vol/biodata/data/human3.6m/training/S1/frames/Phoning1.60457274/frame1606.png', '/vol/biodata/data/human3.6m/training/S1/frames/Phoning1.60457274/frame0046.png', '/vol/biodata/data/human3.6m/training/S1/frames/Phoning1.60457274/frame0380.png', '/vol/biodata/data/human3.6m/training/S1/frames/Phoning1.60457274/frame0427.png', '/vol/biodata/data/human3.6m/training/S1/frames/Phoning1.60457274/frame0855.png', '/vol/biodata/data/human3.6m/training/S1/frames/Phoning1.60457274/frame1267.png', '/vol/biodata/data/human3.6m/training/S1/frames/Phoning1.60457274/frame2372.png', '/vol/biodata/data/human3.6m/training/S1/frames/Phoning1.60457274/frame0119.png', '/vol/biodata/data/human3.6m/training/S1/frames/Phoning1.60457274/frame1759.png', '/vol/biodata/data/human3.6m/training/S1/frames/Phoning1.60457274/frame1338.png', '/vol/biodata/data/human3.6m/training/S1/frames/Phoning1.60457274/frame0578.png', '/vol/biodata/data/human3.6m/training/S1/frames/Phoning1.60457274/frame1788.png', '/vol/biodata/data/human3.6m/training/S1/frames/Phoning1.60457274/frame2403.png', '/vol/biodata/data/human3.6m/training/S1/frames/Phoning1.60457274/frame0883.png', '/vol/biodata/data/human3.6m/training/S1/frames/Phoning1.60457274/frame0356.png', '/vol/biodata/data/human3.6m/training/S1/frames/Phoning1.60457274/frame1964.png', '/vol/biodata/data/human3.6m/training/S1/frames/Phoning1.60457274/frame1516.png', '/vol/biodata/data/human3.6m/training/S1/frames/Phoning1.60457274/frame2062.png', '/vol/biodata/data/human3.6m/training/S1/frames/Phoning1.60457274/frame1177.png', '/vol/biodata/data/human3.6m/training/S1/frames/Phoning1.60457274/frame0090.png', '/vol/biodata/data/human3.6m/training/S1/frames/Phoning1.60457274/frame0737.png', '/vol/biodata/data/human3.6m/training/S1/frames/Phoning1.60457274/frame0041.png', '/vol/biodata/data/human3.6m/training/S1/frames/Phoning1.60457274/frame1601.png', '/vol/biodata/data/human3.6m/training/S1/frames/Phoning1.60457274/frame1260.png', '/vol/biodata/data/human3.6m/training/S1/frames/Phoning1.60457274/frame0852.png', '/vol/biodata/data/human3.6m/training/S1/frames/Phoning1.60457274/frame0420.png', '/vol/biodata/data/human3.6m/training/S1/frames/Phoning1.60457274/frame0387.png', '/vol/biodata/data/human3.6m/training/S1/frames/Phoning1.60457274/frame2375.png', '/vol/biodata/data/human3.6m/training/S1/frames/Phoning1.60457274/frame0165.png', '/vol/biodata/data/human3.6m/training/S1/frames/Phoning1.60457274/frame1082.png', '/vol/biodata/data/human3.6m/training/S1/frames/Phoning1.60457274/frame1725.png', '/vol/biodata/data/human3.6m/training/S1/frames/Phoning1.60457274/frame2197.png', '/vol/biodata/data/human3.6m/training/S1/frames/Phoning1.60457274/frame2630.png', '/vol/biodata/data/human3.6m/training/S1/frames/Phoning1.60457274/frame1891.png', '/vol/biodata/data/human3.6m/training/S1/frames/Phoning1.60457274/frame1344.png', '/vol/biodata/data/human3.6m/training/S1/frames/Phoning1.60457274/frame0504.png', '/vol/biodata/data/human3.6m/training/S1/frames/Phoning1.60457274/frame0976.png', '/vol/biodata/data/human3.6m/training/S1/frames/Phoning1.60457274/frame2251.png', '/vol/biodata/data/human3.6m/training/S1/frames/Phoning1.60457274/frame2527.png', '/vol/biodata/data/human3.6m/training/S1/frames/Phoning1.60457274/frame2280.png', '/vol/biodata/data/human3.6m/training/S1/frames/Phoning1.60457274/frame0272.png', '/vol/biodata/data/human3.6m/training/S1/frames/Phoning1.60457274/frame1432.png', '/vol/biodata/data/human3.6m/training/S1/frames/Phoning1.60457274/frame1840.png', '/vol/biodata/data/human3.6m/training/S1/frames/Phoning1.60457274/frame1395.png', '/vol/biodata/data/human3.6m/training/S1/frames/Phoning1.60457274/frame2146.png', '/vol/biodata/data/human3.6m/training/S1/frames/Phoning1.60457274/frame1053.png', '/vol/biodata/data/human3.6m/training/S1/frames/Phoning1.60457274/frame0613.png', '/vol/biodata/data/human3.6m/training/S1/frames/Phoning1.60457274/frame1918.png', '/vol/biodata/data/human3.6m/training/S1/frames/Phoning1.60457274/frame2309.png', '/vol/biodata/data/human3.6m/training/S1/frames/Phoning1.60457274/frame1757.png', '/vol/biodata/data/human3.6m/training/S1/frames/Phoning1.60457274/frame0117.png', '/vol/biodata/data/human3.6m/training/S1/frames/Phoning1.60457274/frame0576.png', '/vol/biodata/data/human3.6m/training/S1/frames/Phoning1.60457274/frame0904.png', '/vol/biodata/data/human3.6m/training/S1/frames/Phoning1.60457274/frame1336.png', '/vol/biodata/data/human3.6m/training/S1/frames/Phoning1.60457274/frame1491.png', '/vol/biodata/data/human3.6m/training/S1/frames/Phoning1.60457274/frame2223.png', '/vol/biodata/data/human3.6m/training/S1/frames/Phoning1.60457274/frame2584.png', '/vol/biodata/data/human3.6m/training/S1/frames/Phoning1.60457274/frame2555.png', '/vol/biodata/data/human3.6m/training/S1/frames/Phoning1.60457274/frame1440.png', '/vol/biodata/data/human3.6m/training/S1/frames/Phoning1.60457274/frame1832.png', '/vol/biodata/data/human3.6m/training/S1/frames/Phoning1.60457274/frame0200.png', '/vol/biodata/data/human3.6m/training/S1/frames/Phoning1.60457274/frame2134.png', '/vol/biodata/data/human3.6m/training/S1/frames/Phoning1.60457274/frame0661.png', '/vol/biodata/data/human3.6m/training/S1/frames/Phoning1.60457274/frame1786.png', '/vol/biodata/data/human3.6m/training/S1/frames/Phoning1.60457274/frame1021.png', '/vol/biodata/data/human3.6m/training/S1/frames/Phoning1.60457274/frame1518.png', '/vol/biodata/data/human3.6m/training/S1/frames/Phoning1.60457274/frame0358.png', '/vol/biodata/data/human3.6m/training/S1/frames/Phoning1.60457274/frame0739.png', '/vol/biodata/data/human3.6m/training/S1/frames/Phoning1.60457274/frame1179.png', '/vol/biodata/data/human3.6m/training/S1/frames/Phoning1.60457274/frame0389.png', '/vol/biodata/data/human3.6m/training/S1/frames/Phoning1.60457274/frame2199.png', '/vol/biodata/data/human3.6m/training/S1/frames/Phoning1.60457274/frame0978.png', '/vol/biodata/data/human3.6m/training/S1/frames/Phoning1.60457274/frame2529.png', '/vol/biodata/data/human3.6m/training/S1/frames/Phoning1.60457274/frame2148.png', '/vol/biodata/data/human3.6m/training/S1/frames/Phoning1.60457274/frame2471.png', '/vol/biodata/data/human3.6m/training/S1/frames/Phoning1.60457274/frame1916.png', '/vol/biodata/data/human3.6m/training/S1/frames/Phoning1.60457274/frame1564.png', '/vol/biodata/data/human3.6m/training/S1/frames/Phoning1.60457274/frame0324.png', '/vol/biodata/data/human3.6m/training/S1/frames/Phoning1.60457274/frame0483.png', '/vol/biodata/data/human3.6m/training/S1/frames/Phoning1.60457274/frame2010.png', '/vol/biodata/data/human3.6m/training/S1/frames/Phoning1.60457274/frame0745.png', '/vol/biodata/data/human3.6m/training/S1/frames/Phoning1.60457274/frame1105.png', '/vol/biodata/data/human3.6m/training/S1/frames/Phoning1.60457274/frame1673.png', '/vol/biodata/data/human3.6m/training/S1/frames/Phoning1.60457274/frame0794.png', '/vol/biodata/data/human3.6m/training/S1/frames/Phoning1.60457274/frame0033.png', '/vol/biodata/data/human3.6m/training/S1/frames/Phoning1.60457274/frame0820.png', '/vol/biodata/data/human3.6m/training/S1/frames/Phoning1.60457274/frame0452.png', '/vol/biodata/data/human3.6m/training/S1/frames/Phoning1.60457274/frame1212.png', '/vol/biodata/data/human3.6m/training/S1/frames/Phoning1.60457274/frame2307.png', '/vol/biodata/data/human3.6m/training/S1/frames/Phoning1.60457274/frame2258.png', '/vol/biodata/data/human3.6m/training/S1/frames/Phoning1.60457274/frame1898.png', '/vol/biodata/data/human3.6m/training/S1/frames/Phoning1.60457274/frame1849.png', '/vol/biodata/data/human3.6m/training/S1/frames/Phoning1.60457274/frame2289.png', '/vol/biodata/data/human3.6m/training/S1/frames/Phoning1.60457274/frame2476.png', '/vol/biodata/data/human3.6m/training/S1/frames/Phoning1.60457274/frame0484.png', '/vol/biodata/data/human3.6m/training/S1/frames/Phoning1.60457274/frame0323.png', '/vol/biodata/data/human3.6m/training/S1/frames/Phoning1.60457274/frame1563.png', '/vol/biodata/data/human3.6m/training/S1/frames/Phoning1.60457274/frame1911.png', '/vol/biodata/data/human3.6m/training/S1/frames/Phoning1.60457274/frame2017.png', '/vol/biodata/data/human3.6m/training/S1/frames/Phoning1.60457274/frame1102.png', '/vol/biodata/data/human3.6m/training/S1/frames/Phoning1.60457274/frame0742.png', '/vol/biodata/data/human3.6m/training/S1/frames/Phoning1.60457274/frame0034.png', '/vol/biodata/data/human3.6m/training/S1/frames/Phoning1.60457274/frame0793.png', '/vol/biodata/data/human3.6m/training/S1/frames/Phoning1.60457274/frame1674.png', '/vol/biodata/data/human3.6m/training/S1/frames/Phoning1.60457274/frame1215.png', '/vol/biodata/data/human3.6m/training/S1/frames/Phoning1.60457274/frame0455.png', '/vol/biodata/data/human3.6m/training/S1/frames/Phoning1.60457274/frame0827.png', '/vol/biodata/data/human3.6m/training/S1/frames/Phoning1.60457274/frame2300.png', '/vol/biodata/data/human3.6m/training/S1/frames/Phoning1.60457274/frame0110.png', '/vol/biodata/data/human3.6m/training/S1/frames/Phoning1.60457274/frame1750.png', '/vol/biodata/data/human3.6m/training/S1/frames/Phoning1.60457274/frame1496.png', '/vol/biodata/data/human3.6m/training/S1/frames/Phoning1.60457274/frame1331.png', '/vol/biodata/data/human3.6m/training/S1/frames/Phoning1.60457274/frame0903.png', '/vol/biodata/data/human3.6m/training/S1/frames/Phoning1.60457274/frame0571.png', '/vol/biodata/data/human3.6m/training/S1/frames/Phoning1.60457274/frame2583.png', '/vol/biodata/data/human3.6m/training/S1/frames/Phoning1.60457274/frame2224.png', '/vol/biodata/data/human3.6m/training/S1/frames/Phoning1.60457274/frame2552.png', '/vol/biodata/data/human3.6m/training/S1/frames/Phoning1.60457274/frame0207.png', '/vol/biodata/data/human3.6m/training/S1/frames/Phoning1.60457274/frame1835.png', '/vol/biodata/data/human3.6m/training/S1/frames/Phoning1.60457274/frame1447.png', '/vol/biodata/data/human3.6m/training/S1/frames/Phoning1.60457274/frame2133.png', '/vol/biodata/data/human3.6m/training/S1/frames/Phoning1.60457274/frame1026.png', '/vol/biodata/data/human3.6m/training/S1/frames/Phoning1.60457274/frame1781.png', '/vol/biodata/data/human3.6m/training/S1/frames/Phoning1.60457274/frame0666.png', '/vol/biodata/data/human3.6m/training/S1/frames/Phoning1.60457274/frame0099.png', '/vol/biodata/data/human3.6m/training/S1/frames/Phoning1.60457274/frame0048.png', '/vol/biodata/data/human3.6m/training/S1/frames/Phoning1.60457274/frame1608.png', '/vol/biodata/data/human3.6m/training/S1/frames/Phoning1.60457274/frame1269.png', '/vol/biodata/data/human3.6m/training/S1/frames/Phoning1.60457274/frame0429.png', '/vol/biodata/data/human3.6m/training/S1/frames/Phoning1.60457274/frame0188.png', '/vol/biodata/data/human3.6m/training/S1/frames/Phoning1.60457274/frame1378.png', '/vol/biodata/data/human3.6m/training/S1/frames/Phoning1.60457274/frame0538.png', '/vol/biodata/data/human3.6m/training/S1/frames/Phoning1.60457274/frame0159.png', '/vol/biodata/data/human3.6m/training/S1/frames/Phoning1.60457274/frame1719.png', '/vol/biodata/data/human3.6m/training/S1/frames/Phoning1.60457274/frame1587.png', '/vol/biodata/data/human3.6m/training/S1/frames/Phoning1.60457274/frame1220.png', '/vol/biodata/data/human3.6m/training/S1/frames/Phoning1.60457274/frame0460.png', '/vol/biodata/data/human3.6m/training/S1/frames/Phoning1.60457274/frame0812.png', '/vol/biodata/data/human3.6m/training/S1/frames/Phoning1.60457274/frame2492.png', '/vol/biodata/data/human3.6m/training/S1/frames/Phoning1.60457274/frame2335.png', '/vol/biodata/data/human3.6m/training/S1/frames/Phoning1.60457274/frame0001.png', '/vol/biodata/data/human3.6m/training/S1/frames/Phoning1.60457274/frame1641.png', '/vol/biodata/data/human3.6m/training/S1/frames/Phoning1.60457274/frame2022.png', '/vol/biodata/data/human3.6m/training/S1/frames/Phoning1.60457274/frame1137.png', '/vol/biodata/data/human3.6m/training/S1/frames/Phoning1.60457274/frame1690.png', '/vol/biodata/data/human3.6m/training/S1/frames/Phoning1.60457274/frame0777.png', '/vol/biodata/data/human3.6m/training/S1/frames/Phoning1.60457274/frame2443.png', '/vol/biodata/data/human3.6m/training/S1/frames/Phoning1.60457274/frame0316.png', '/vol/biodata/data/human3.6m/training/S1/frames/Phoning1.60457274/frame1556.png', '/vol/biodata/data/human3.6m/training/S1/frames/Phoning1.60457274/frame1924.png', '/vol/biodata/data/human3.6m/training/S1/frames/Phoning1.60457274/frame2106.png', '/vol/biodata/data/human3.6m/training/S1/frames/Phoning1.60457274/frame1013.png', '/vol/biodata/data/human3.6m/training/S1/frames/Phoning1.60457274/frame0653.png', '/vol/biodata/data/human3.6m/training/S1/frames/Phoning1.60457274/frame2567.png', '/vol/biodata/data/human3.6m/training/S1/frames/Phoning1.60457274/frame0595.png', '/vol/biodata/data/human3.6m/training/S1/frames/Phoning1.60457274/frame0232.png', '/vol/biodata/data/human3.6m/training/S1/frames/Phoning1.60457274/frame1800.png', '/vol/biodata/data/human3.6m/training/S1/frames/Phoning1.60457274/frame1472.png', '/vol/biodata/data/human3.6m/training/S1/frames/Phoning1.60457274/frame1304.png', '/vol/biodata/data/human3.6m/training/S1/frames/Phoning1.60457274/frame0936.png', '/vol/biodata/data/human3.6m/training/S1/frames/Phoning1.60457274/frame0544.png', '/vol/biodata/data/human3.6m/training/S1/frames/Phoning1.60457274/frame2211.png', '/vol/biodata/data/human3.6m/training/S1/frames/Phoning1.60457274/frame0125.png', '/vol/biodata/data/human3.6m/training/S1/frames/Phoning1.60457274/frame0682.png', '/vol/biodata/data/human3.6m/training/S1/frames/Phoning1.60457274/frame1765.png', '/vol/biodata/data/human3.6m/training/S1/frames/Phoning1.60457274/frame2349.png', '/vol/biodata/data/human3.6m/training/S1/frames/Phoning1.60457274/frame1989.png', '/vol/biodata/data/human3.6m/training/S1/frames/Phoning1.60457274/frame1958.png', '/vol/biodata/data/human3.6m/training/S1/frames/Phoning1.60457274/frame2398.png', '/vol/biodata/data/human3.6m/training/S1/frames/Phoning1.60457274/frame2101.png', '/vol/biodata/data/human3.6m/training/S1/frames/Phoning1.60457274/frame0654.png', '/vol/biodata/data/human3.6m/training/S1/frames/Phoning1.60457274/frame1014.png', '/vol/biodata/data/human3.6m/training/S1/frames/Phoning1.60457274/frame2560.png', '/vol/biodata/data/human3.6m/training/S1/frames/Phoning1.60457274/frame1475.png', '/vol/biodata/data/human3.6m/training/S1/frames/Phoning1.60457274/frame1807.png', '/vol/biodata/data/human3.6m/training/S1/frames/Phoning1.60457274/frame0235.png', '/vol/biodata/data/human3.6m/training/S1/frames/Phoning1.60457274/frame0592.png', '/vol/biodata/data/human3.6m/training/S1/frames/Phoning1.60457274/frame0543.png', '/vol/biodata/data/human3.6m/training/S1/frames/Phoning1.60457274/frame0931.png', '/vol/biodata/data/human3.6m/training/S1/frames/Phoning1.60457274/frame1303.png', '/vol/biodata/data/human3.6m/training/S1/frames/Phoning1.60457274/frame2216.png', '/vol/biodata/data/human3.6m/training/S1/frames/Phoning1.60457274/frame1762.png', '/vol/biodata/data/human3.6m/training/S1/frames/Phoning1.60457274/frame0685.png', '/vol/biodata/data/human3.6m/training/S1/frames/Phoning1.60457274/frame0122.png', '/vol/biodata/data/human3.6m/training/S1/frames/Phoning1.60457274/frame0869.png', '/vol/biodata/data/human3.6m/training/S1/frames/Phoning1.60457274/frame2088.png', '/vol/biodata/data/human3.6m/training/S1/frames/Phoning1.60457274/frame2059.png', '/vol/biodata/data/human3.6m/training/S1/frames/Phoning1.60457274/frame2438.png', '/vol/biodata/data/human3.6m/training/S1/frames/Phoning1.60457274/frame0628.png', '/vol/biodata/data/human3.6m/training/S1/frames/Phoning1.60457274/frame1068.png', '/vol/biodata/data/human3.6m/training/S1/frames/Phoning1.60457274/frame1409.png', '/vol/biodata/data/human3.6m/training/S1/frames/Phoning1.60457274/frame0249.png', '/vol/biodata/data/human3.6m/training/S1/frames/Phoning1.60457274/frame0298.png', '/vol/biodata/data/human3.6m/training/S1/frames/Phoning1.60457274/frame0815.png', '/vol/biodata/data/human3.6m/training/S1/frames/Phoning1.60457274/frame0467.png', '/vol/biodata/data/human3.6m/training/S1/frames/Phoning1.60457274/frame1227.png', '/vol/biodata/data/human3.6m/training/S1/frames/Phoning1.60457274/frame1580.png', '/vol/biodata/data/human3.6m/training/S1/frames/Phoning1.60457274/frame2332.png', '/vol/biodata/data/human3.6m/training/S1/frames/Phoning1.60457274/frame2495.png', '/vol/biodata/data/human3.6m/training/S1/frames/Phoning1.60457274/frame1646.png', '/vol/biodata/data/human3.6m/training/S1/frames/Phoning1.60457274/frame0006.png', '/vol/biodata/data/human3.6m/training/S1/frames/Phoning1.60457274/frame2025.png', '/vol/biodata/data/human3.6m/training/S1/frames/Phoning1.60457274/frame0770.png', '/vol/biodata/data/human3.6m/training/S1/frames/Phoning1.60457274/frame1697.png', '/vol/biodata/data/human3.6m/training/S1/frames/Phoning1.60457274/frame1130.png', '/vol/biodata/data/human3.6m/training/S1/frames/Phoning1.60457274/frame2444.png', '/vol/biodata/data/human3.6m/training/S1/frames/Phoning1.60457274/frame1923.png', '/vol/biodata/data/human3.6m/training/S1/frames/Phoning1.60457274/frame1551.png', '/vol/biodata/data/human3.6m/training/S1/frames/Phoning1.60457274/frame0311.png', '/vol/biodata/data/human3.6m/training/S1/frames/Phoning1.60457274/frame1809.png', '/vol/biodata/data/human3.6m/training/S1/frames/Phoning1.60457274/frame2218.png', '/vol/biodata/data/human3.6m/training/S1/frames/Phoning1.60457274/frame1980.png', '/vol/biodata/data/human3.6m/training/S1/frames/Phoning1.60457274/frame1255.png', '/vol/biodata/data/human3.6m/training/S1/frames/Phoning1.60457274/frame0867.png', '/vol/biodata/data/human3.6m/training/S1/frames/Phoning1.60457274/frame0415.png', '/vol/biodata/data/human3.6m/training/S1/frames/Phoning1.60457274/frame2340.png', '/vol/biodata/data/human3.6m/training/S1/frames/Phoning1.60457274/frame0074.png', '/vol/biodata/data/human3.6m/training/S1/frames/Phoning1.60457274/frame1193.png', '/vol/biodata/data/human3.6m/training/S1/frames/Phoning1.60457274/frame1634.png', '/vol/biodata/data/human3.6m/training/S1/frames/Phoning1.60457274/frame2086.png', '/vol/biodata/data/human3.6m/training/S1/frames/Phoning1.60457274/frame2057.png', '/vol/biodata/data/human3.6m/training/S1/frames/Phoning1.60457274/frame1142.png', '/vol/biodata/data/human3.6m/training/S1/frames/Phoning1.60457274/frame0702.png', '/vol/biodata/data/human3.6m/training/S1/frames/Phoning1.60457274/frame2436.png', '/vol/biodata/data/human3.6m/training/S1/frames/Phoning1.60457274/frame2391.png', '/vol/biodata/data/human3.6m/training/S1/frames/Phoning1.60457274/frame0363.png', '/vol/biodata/data/human3.6m/training/S1/frames/Phoning1.60457274/frame1951.png', '/vol/biodata/data/human3.6m/training/S1/frames/Phoning1.60457274/frame1523.png', '/vol/biodata/data/human3.6m/training/S1/frames/Phoning1.60457274/frame1284.png', '/vol/biodata/data/human3.6m/training/S1/frames/Phoning1.60457274/frame2173.png', '/vol/biodata/data/human3.6m/training/S1/frames/Phoning1.60457274/frame1066.png', '/vol/biodata/data/human3.6m/training/S1/frames/Phoning1.60457274/frame0181.png', '/vol/biodata/data/human3.6m/training/S1/frames/Phoning1.60457274/frame0626.png', '/vol/biodata/data/human3.6m/training/S1/frames/Phoning1.60457274/frame2512.png', '/vol/biodata/data/human3.6m/training/S1/frames/Phoning1.60457274/frame0992.png', '/vol/biodata/data/human3.6m/training/S1/frames/Phoning1.60457274/frame0247.png', '/vol/biodata/data/human3.6m/training/S1/frames/Phoning1.60457274/frame1407.png', '/vol/biodata/data/human3.6m/training/S1/frames/Phoning1.60457274/frame1875.png', '/vol/biodata/data/human3.6m/training/S1/frames/Phoning1.60457274/frame1371.png', '/vol/biodata/data/human3.6m/training/S1/frames/Phoning1.60457274/frame0531.png', '/vol/biodata/data/human3.6m/training/S1/frames/Phoning1.60457274/frame0943.png', '/vol/biodata/data/human3.6m/training/S1/frames/Phoning1.60457274/frame0296.png', '/vol/biodata/data/human3.6m/training/S1/frames/Phoning1.60457274/frame2264.png', '/vol/biodata/data/human3.6m/training/S1/frames/Phoning1.60457274/frame0150.png', '/vol/biodata/data/human3.6m/training/S1/frames/Phoning1.60457274/frame1710.png', '/vol/biodata/data/human3.6m/training/S1/frames/Phoning1.60457274/frame2605.png', '/vol/biodata/data/human3.6m/training/S1/frames/Phoning1.60457274/frame1229.png', '/vol/biodata/data/human3.6m/training/S1/frames/Phoning1.60457274/frame0469.png', '/vol/biodata/data/human3.6m/training/S1/frames/Phoning1.60457274/frame0008.png', '/vol/biodata/data/human3.6m/training/S1/frames/Phoning1.60457274/frame1648.png', '/vol/biodata/data/human3.6m/training/S1/frames/Phoning1.60457274/frame1699.png', '/vol/biodata/data/human3.6m/training/S1/frames/Phoning1.60457274/frame2174.png', '/vol/biodata/data/human3.6m/training/S1/frames/Phoning1.60457274/frame0621.png', '/vol/biodata/data/human3.6m/training/S1/frames/Phoning1.60457274/frame0186.png', '/vol/biodata/data/human3.6m/training/S1/frames/Phoning1.60457274/frame1061.png', '/vol/biodata/data/human3.6m/training/S1/frames/Phoning1.60457274/frame2515.png', '/vol/biodata/data/human3.6m/training/S1/frames/Phoning1.60457274/frame1872.png', '/vol/biodata/data/human3.6m/training/S1/frames/Phoning1.60457274/frame1400.png', '/vol/biodata/data/human3.6m/training/S1/frames/Phoning1.60457274/frame0240.png', '/vol/biodata/data/human3.6m/training/S1/frames/Phoning1.60457274/frame0995.png', '/vol/biodata/data/human3.6m/training/S1/frames/Phoning1.60457274/frame0291.png', '/vol/biodata/data/human3.6m/training/S1/frames/Phoning1.60457274/frame0944.png', '/vol/biodata/data/human3.6m/training/S1/frames/Phoning1.60457274/frame0536.png', '/vol/biodata/data/human3.6m/training/S1/frames/Phoning1.60457274/frame1376.png', '/vol/biodata/data/human3.6m/training/S1/frames/Phoning1.60457274/frame2263.png', '/vol/biodata/data/human3.6m/training/S1/frames/Phoning1.60457274/frame1717.png', '/vol/biodata/data/human3.6m/training/S1/frames/Phoning1.60457274/frame0157.png', '/vol/biodata/data/human3.6m/training/S1/frames/Phoning1.60457274/frame2602.png', '/vol/biodata/data/human3.6m/training/S1/frames/Phoning1.60457274/frame1589.png', '/vol/biodata/data/human3.6m/training/S1/frames/Phoning1.60457274/frame0779.png', '/vol/biodata/data/human3.6m/training/S1/frames/Phoning1.60457274/frame1139.png', '/vol/biodata/data/human3.6m/training/S1/frames/Phoning1.60457274/frame1558.png', '/vol/biodata/data/human3.6m/training/S1/frames/Phoning1.60457274/frame0318.png', '/vol/biodata/data/human3.6m/training/S1/frames/Phoning1.60457274/frame2108.png', '/vol/biodata/data/human3.6m/training/S1/frames/Phoning1.60457274/frame2569.png', '/vol/biodata/data/human3.6m/training/S1/frames/Phoning1.60457274/frame0938.png', '/vol/biodata/data/human3.6m/training/S1/frames/Phoning1.60457274/frame0412.png', '/vol/biodata/data/human3.6m/training/S1/frames/Phoning1.60457274/frame0860.png', '/vol/biodata/data/human3.6m/training/S1/frames/Phoning1.60457274/frame1252.png', '/vol/biodata/data/human3.6m/training/S1/frames/Phoning1.60457274/frame1987.png', '/vol/biodata/data/human3.6m/training/S1/frames/Phoning1.60457274/frame2347.png', '/vol/biodata/data/human3.6m/training/S1/frames/Phoning1.60457274/frame1633.png', '/vol/biodata/data/human3.6m/training/S1/frames/Phoning1.60457274/frame1194.png', '/vol/biodata/data/human3.6m/training/S1/frames/Phoning1.60457274/frame0073.png', '/vol/biodata/data/human3.6m/training/S1/frames/Phoning1.60457274/frame2081.png', '/vol/biodata/data/human3.6m/training/S1/frames/Phoning1.60457274/frame2050.png', '/vol/biodata/data/human3.6m/training/S1/frames/Phoning1.60457274/frame0705.png', '/vol/biodata/data/human3.6m/training/S1/frames/Phoning1.60457274/frame1145.png', '/vol/biodata/data/human3.6m/training/S1/frames/Phoning1.60457274/frame2396.png', '/vol/biodata/data/human3.6m/training/S1/frames/Phoning1.60457274/frame2431.png', '/vol/biodata/data/human3.6m/training/S1/frames/Phoning1.60457274/frame1283.png', '/vol/biodata/data/human3.6m/training/S1/frames/Phoning1.60457274/frame1524.png', '/vol/biodata/data/human3.6m/training/S1/frames/Phoning1.60457274/frame1956.png', '/vol/biodata/data/human3.6m/training/S1/frames/Phoning1.60457274/frame0364.png', '/vol/biodata/data/human3.6m/training/S1/frames/Phoning1.60457274/frame0768.png', '/vol/biodata/data/human3.6m/training/S1/frames/Phoning1.60457274/frame1128.png', '/vol/biodata/data/human3.6m/training/S1/frames/Phoning1.60457274/frame1549.png', '/vol/biodata/data/human3.6m/training/S1/frames/Phoning1.60457274/frame0309.png', '/vol/biodata/data/human3.6m/training/S1/frames/Phoning1.60457274/frame1598.png', '/vol/biodata/data/human3.6m/training/S1/frames/Phoning1.60457274/frame2272.png', '/vol/biodata/data/human3.6m/training/S1/frames/Phoning1.60457274/frame0527.png', '/vol/biodata/data/human3.6m/training/S1/frames/Phoning1.60457274/frame0955.png', '/vol/biodata/data/human3.6m/training/S1/frames/Phoning1.60457274/frame0280.png', '/vol/biodata/data/human3.6m/training/S1/frames/Phoning1.60457274/frame1367.png', '/vol/biodata/data/human3.6m/training/S1/frames/Phoning1.60457274/frame2613.png', '/vol/biodata/data/human3.6m/training/S1/frames/Phoning1.60457274/frame1706.png', '/vol/biodata/data/human3.6m/training/S1/frames/Phoning1.60457274/frame0146.png', '/vol/biodata/data/human3.6m/training/S1/frames/Phoning1.60457274/frame0197.png', '/vol/biodata/data/human3.6m/training/S1/frames/Phoning1.60457274/frame0630.png', '/vol/biodata/data/human3.6m/training/S1/frames/Phoning1.60457274/frame1070.png', '/vol/biodata/data/human3.6m/training/S1/frames/Phoning1.60457274/frame2165.png', '/vol/biodata/data/human3.6m/training/S1/frames/Phoning1.60457274/frame1411.png', '/vol/biodata/data/human3.6m/training/S1/frames/Phoning1.60457274/frame1863.png', '/vol/biodata/data/human3.6m/training/S1/frames/Phoning1.60457274/frame0984.png', '/vol/biodata/data/human3.6m/training/S1/frames/Phoning1.60457274/frame0251.png', '/vol/biodata/data/human3.6m/training/S1/frames/Phoning1.60457274/frame2504.png', '/vol/biodata/data/human3.6m/training/S1/frames/Phoning1.60457274/frame0714.png', '/vol/biodata/data/human3.6m/training/S1/frames/Phoning1.60457274/frame1154.png', '/vol/biodata/data/human3.6m/training/S1/frames/Phoning1.60457274/frame2041.png', '/vol/biodata/data/human3.6m/training/S1/frames/Phoning1.60457274/frame1947.png', '/vol/biodata/data/human3.6m/training/S1/frames/Phoning1.60457274/frame1535.png', '/vol/biodata/data/human3.6m/training/S1/frames/Phoning1.60457274/frame1292.png', '/vol/biodata/data/human3.6m/training/S1/frames/Phoning1.60457274/frame0375.png', '/vol/biodata/data/human3.6m/training/S1/frames/Phoning1.60457274/frame2420.png', '/vol/biodata/data/human3.6m/training/S1/frames/Phoning1.60457274/frame2387.png', '/vol/biodata/data/human3.6m/training/S1/frames/Phoning1.60457274/frame2356.png', '/vol/biodata/data/human3.6m/training/S1/frames/Phoning1.60457274/frame0871.png', '/vol/biodata/data/human3.6m/training/S1/frames/Phoning1.60457274/frame0403.png', '/vol/biodata/data/human3.6m/training/S1/frames/Phoning1.60457274/frame1996.png', '/vol/biodata/data/human3.6m/training/S1/frames/Phoning1.60457274/frame1243.png', '/vol/biodata/data/human3.6m/training/S1/frames/Phoning1.60457274/frame2090.png', '/vol/biodata/data/human3.6m/training/S1/frames/Phoning1.60457274/frame1185.png', '/vol/biodata/data/human3.6m/training/S1/frames/Phoning1.60457274/frame1622.png', '/vol/biodata/data/human3.6m/training/S1/frames/Phoning1.60457274/frame0062.png', '/vol/biodata/data/human3.6m/training/S1/frames/Phoning1.60457274/frame0929.png', '/vol/biodata/data/human3.6m/training/S1/frames/Phoning1.60457274/frame2119.png', '/vol/biodata/data/human3.6m/training/S1/frames/Phoning1.60457274/frame2578.png', '/vol/biodata/data/human3.6m/training/S1/frames/Phoning1.60457274/frame1153.png', '/vol/biodata/data/human3.6m/training/S1/frames/Phoning1.60457274/frame0713.png', '/vol/biodata/data/human3.6m/training/S1/frames/Phoning1.60457274/frame2046.png', '/vol/biodata/data/human3.6m/training/S1/frames/Phoning1.60457274/frame0372.png', '/vol/biodata/data/human3.6m/training/S1/frames/Phoning1.60457274/frame1295.png', '/vol/biodata/data/human3.6m/training/S1/frames/Phoning1.60457274/frame1532.png', '/vol/biodata/data/human3.6m/training/S1/frames/Phoning1.60457274/frame1940.png', '/vol/biodata/data/human3.6m/training/S1/frames/Phoning1.60457274/frame2380.png', '/vol/biodata/data/human3.6m/training/S1/frames/Phoning1.60457274/frame2427.png', '/vol/biodata/data/human3.6m/training/S1/frames/Phoning1.60457274/frame2351.png', '/vol/biodata/data/human3.6m/training/S1/frames/Phoning1.60457274/frame1244.png', '/vol/biodata/data/human3.6m/training/S1/frames/Phoning1.60457274/frame1991.png', '/vol/biodata/data/human3.6m/training/S1/frames/Phoning1.60457274/frame0404.png', '/vol/biodata/data/human3.6m/training/S1/frames/Phoning1.60457274/frame0876.png', '/vol/biodata/data/human3.6m/training/S1/frames/Phoning1.60457274/frame2097.png', '/vol/biodata/data/human3.6m/training/S1/frames/Phoning1.60457274/frame0065.png', '/vol/biodata/data/human3.6m/training/S1/frames/Phoning1.60457274/frame1625.png', '/vol/biodata/data/human3.6m/training/S1/frames/Phoning1.60457274/frame1182.png', '/vol/biodata/data/human3.6m/training/S1/frames/Phoning1.60457274/frame2209.png', '/vol/biodata/data/human3.6m/training/S1/frames/Phoning1.60457274/frame1818.png', '/vol/biodata/data/human3.6m/training/S1/frames/Phoning1.60457274/frame1688.png', '/vol/biodata/data/human3.6m/training/S1/frames/Phoning1.60457274/frame1238.png', '/vol/biodata/data/human3.6m/training/S1/frames/Phoning1.60457274/frame0478.png', '/vol/biodata/data/human3.6m/training/S1/frames/Phoning1.60457274/frame0019.png', '/vol/biodata/data/human3.6m/training/S1/frames/Phoning1.60457274/frame1659.png', '/vol/biodata/data/human3.6m/training/S1/frames/Phoning1.60457274/frame2275.png', '/vol/biodata/data/human3.6m/training/S1/frames/Phoning1.60457274/frame1360.png', '/vol/biodata/data/human3.6m/training/S1/frames/Phoning1.60457274/frame0287.png', '/vol/biodata/data/human3.6m/training/S1/frames/Phoning1.60457274/frame0952.png', '/vol/biodata/data/human3.6m/training/S1/frames/Phoning1.60457274/frame0520.png', '/vol/biodata/data/human3.6m/training/S1/frames/Phoning1.60457274/frame2614.png', '/vol/biodata/data/human3.6m/training/S1/frames/Phoning1.60457274/frame0141.png', '/vol/biodata/data/human3.6m/training/S1/frames/Phoning1.60457274/frame1701.png', '/vol/biodata/data/human3.6m/training/S1/frames/Phoning1.60457274/frame1077.png', '/vol/biodata/data/human3.6m/training/S1/frames/Phoning1.60457274/frame0637.png', '/vol/biodata/data/human3.6m/training/S1/frames/Phoning1.60457274/frame0190.png', '/vol/biodata/data/human3.6m/training/S1/frames/Phoning1.60457274/frame2162.png', '/vol/biodata/data/human3.6m/training/S1/frames/Phoning1.60457274/frame0256.png', '/vol/biodata/data/human3.6m/training/S1/frames/Phoning1.60457274/frame0983.png', '/vol/biodata/data/human3.6m/training/S1/frames/Phoning1.60457274/frame1864.png', '/vol/biodata/data/human3.6m/training/S1/frames/Phoning1.60457274/frame1416.png', '/vol/biodata/data/human3.6m/training/S1/frames/Phoning1.60457274/frame2503.png', '/vol/biodata/data/human3.6m/training/S1/frames/Phoning1.60457274/frame2048.png', '/vol/biodata/data/human3.6m/training/S1/frames/Phoning1.60457274/frame2429.png', '/vol/biodata/data/human3.6m/training/S1/frames/Phoning1.60457274/frame0878.png', '/vol/biodata/data/human3.6m/training/S1/frames/Phoning1.60457274/frame2099.png', '/vol/biodata/data/human3.6m/training/S1/frames/Phoning1.60457274/frame2207.png', '/vol/biodata/data/human3.6m/training/S1/frames/Phoning1.60457274/frame0920.png', '/vol/biodata/data/human3.6m/training/S1/frames/Phoning1.60457274/frame0552.png', '/vol/biodata/data/human3.6m/training/S1/frames/Phoning1.60457274/frame1312.png', '/vol/biodata/data/human3.6m/training/S1/frames/Phoning1.60457274/frame1773.png', '/vol/biodata/data/human3.6m/training/S1/frames/Phoning1.60457274/frame0133.png', '/vol/biodata/data/human3.6m/training/S1/frames/Phoning1.60457274/frame0694.png', '/vol/biodata/data/human3.6m/training/S1/frames/Phoning1.60457274/frame0645.png', '/vol/biodata/data/human3.6m/training/S1/frames/Phoning1.60457274/frame1005.png', '/vol/biodata/data/human3.6m/training/S1/frames/Phoning1.60457274/frame2110.png', '/vol/biodata/data/human3.6m/training/S1/frames/Phoning1.60457274/frame1816.png', '/vol/biodata/data/human3.6m/training/S1/frames/Phoning1.60457274/frame1464.png', '/vol/biodata/data/human3.6m/training/S1/frames/Phoning1.60457274/frame0583.png', '/vol/biodata/data/human3.6m/training/S1/frames/Phoning1.60457274/frame0224.png', '/vol/biodata/data/human3.6m/training/S1/frames/Phoning1.60457274/frame2571.png', '/vol/biodata/data/human3.6m/training/S1/frames/Phoning1.60457274/frame0761.png', '/vol/biodata/data/human3.6m/training/S1/frames/Phoning1.60457274/frame1121.png', '/vol/biodata/data/human3.6m/training/S1/frames/Phoning1.60457274/frame1686.png', '/vol/biodata/data/human3.6m/training/S1/frames/Phoning1.60457274/frame2034.png', '/vol/biodata/data/human3.6m/training/S1/frames/Phoning1.60457274/frame1540.png', '/vol/biodata/data/human3.6m/training/S1/frames/Phoning1.60457274/frame1932.png', '/vol/biodata/data/human3.6m/training/S1/frames/Phoning1.60457274/frame0300.png', '/vol/biodata/data/human3.6m/training/S1/frames/Phoning1.60457274/frame2455.png', '/vol/biodata/data/human3.6m/training/S1/frames/Phoning1.60457274/frame2484.png', '/vol/biodata/data/human3.6m/training/S1/frames/Phoning1.60457274/frame2323.png', '/vol/biodata/data/human3.6m/training/S1/frames/Phoning1.60457274/frame0476.png', '/vol/biodata/data/human3.6m/training/S1/frames/Phoning1.60457274/frame0804.png', '/vol/biodata/data/human3.6m/training/S1/frames/Phoning1.60457274/frame1591.png', '/vol/biodata/data/human3.6m/training/S1/frames/Phoning1.60457274/frame1236.png', '/vol/biodata/data/human3.6m/training/S1/frames/Phoning1.60457274/frame1657.png', '/vol/biodata/data/human3.6m/training/S1/frames/Phoning1.60457274/frame0017.png', '/vol/biodata/data/human3.6m/training/S1/frames/Phoning1.60457274/frame0289.png', '/vol/biodata/data/human3.6m/training/S1/frames/Phoning1.60457274/frame0639.png', '/vol/biodata/data/human3.6m/training/S1/frames/Phoning1.60457274/frame1079.png', '/vol/biodata/data/human3.6m/training/S1/frames/Phoning1.60457274/frame1418.png', '/vol/biodata/data/human3.6m/training/S1/frames/Phoning1.60457274/frame0258.png', '/vol/biodata/data/human3.6m/training/S1/frames/Phoning1.60457274/frame1681.png', '/vol/biodata/data/human3.6m/training/S1/frames/Phoning1.60457274/frame1126.png', '/vol/biodata/data/human3.6m/training/S1/frames/Phoning1.60457274/frame0766.png', '/vol/biodata/data/human3.6m/training/S1/frames/Phoning1.60457274/frame2033.png', '/vol/biodata/data/human3.6m/training/S1/frames/Phoning1.60457274/frame0307.png', '/vol/biodata/data/human3.6m/training/S1/frames/Phoning1.60457274/frame1935.png', '/vol/biodata/data/human3.6m/training/S1/frames/Phoning1.60457274/frame1547.png', '/vol/biodata/data/human3.6m/training/S1/frames/Phoning1.60457274/frame2452.png', '/vol/biodata/data/human3.6m/training/S1/frames/Phoning1.60457274/frame2324.png', '/vol/biodata/data/human3.6m/training/S1/frames/Phoning1.60457274/frame2483.png', '/vol/biodata/data/human3.6m/training/S1/frames/Phoning1.60457274/frame1231.png', '/vol/biodata/data/human3.6m/training/S1/frames/Phoning1.60457274/frame1596.png', '/vol/biodata/data/human3.6m/training/S1/frames/Phoning1.60457274/frame0803.png', '/vol/biodata/data/human3.6m/training/S1/frames/Phoning1.60457274/frame0471.png', '/vol/biodata/data/human3.6m/training/S1/frames/Phoning1.60457274/frame0010.png', '/vol/biodata/data/human3.6m/training/S1/frames/Phoning1.60457274/frame1650.png', '/vol/biodata/data/human3.6m/training/S1/frames/Phoning1.60457274/frame1369.png', '/vol/biodata/data/human3.6m/training/S1/frames/Phoning1.60457274/frame0529.png', '/vol/biodata/data/human3.6m/training/S1/frames/Phoning1.60457274/frame0148.png', '/vol/biodata/data/human3.6m/training/S1/frames/Phoning1.60457274/frame1708.png', '/vol/biodata/data/human3.6m/training/S1/frames/Phoning1.60457274/frame0199.png', '/vol/biodata/data/human3.6m/training/S1/frames/Phoning1.60457274/frame2389.png', '/vol/biodata/data/human3.6m/training/S1/frames/Phoning1.60457274/frame1949.png', '/vol/biodata/data/human3.6m/training/S1/frames/Phoning1.60457274/frame1998.png', '/vol/biodata/data/human3.6m/training/S1/frames/Phoning1.60457274/frame2358.png', '/vol/biodata/data/human3.6m/training/S1/frames/Phoning1.60457274/frame2200.png', '/vol/biodata/data/human3.6m/training/S1/frames/Phoning1.60457274/frame1315.png', '/vol/biodata/data/human3.6m/training/S1/frames/Phoning1.60457274/frame0555.png', '/vol/biodata/data/human3.6m/training/S1/frames/Phoning1.60457274/frame0927.png', '/vol/biodata/data/human3.6m/training/S1/frames/Phoning1.60457274/frame0693.png', '/vol/biodata/data/human3.6m/training/S1/frames/Phoning1.60457274/frame0134.png', '/vol/biodata/data/human3.6m/training/S1/frames/Phoning1.60457274/frame1774.png', '/vol/biodata/data/human3.6m/training/S1/frames/Phoning1.60457274/frame1002.png', '/vol/biodata/data/human3.6m/training/S1/frames/Phoning1.60457274/frame0642.png', '/vol/biodata/data/human3.6m/training/S1/frames/Phoning1.60457274/frame2117.png', '/vol/biodata/data/human3.6m/training/S1/frames/Phoning1.60457274/frame0223.png', '/vol/biodata/data/human3.6m/training/S1/frames/Phoning1.60457274/frame0584.png', '/vol/biodata/data/human3.6m/training/S1/frames/Phoning1.60457274/frame1463.png', '/vol/biodata/data/human3.6m/training/S1/frames/Phoning1.60457274/frame1811.png', '/vol/biodata/data/human3.6m/training/S1/frames/Phoning1.60457274/frame2576.png', '/vol/biodata/data/human3.6m/training/S1/frames/Phoning1.60457274/frame0782.png', '/vol/biodata/data/human3.6m/training/S1/frames/Phoning1.60457274/frame0025.png', '/vol/biodata/data/human3.6m/training/S1/frames/Phoning1.60457274/frame1665.png', '/vol/biodata/data/human3.6m/training/S1/frames/Phoning1.60457274/frame2311.png', '/vol/biodata/data/human3.6m/training/S1/frames/Phoning1.60457274/frame1204.png', '/vol/biodata/data/human3.6m/training/S1/frames/Phoning1.60457274/frame0836.png', '/vol/biodata/data/human3.6m/training/S1/frames/Phoning1.60457274/frame0444.png', '/vol/biodata/data/human3.6m/training/S1/frames/Phoning1.60457274/frame0332.png', '/vol/biodata/data/human3.6m/training/S1/frames/Phoning1.60457274/frame0495.png', '/vol/biodata/data/human3.6m/training/S1/frames/Phoning1.60457274/frame1900.png', '/vol/biodata/data/human3.6m/training/S1/frames/Phoning1.60457274/frame1572.png', '/vol/biodata/data/human3.6m/training/S1/frames/Phoning1.60457274/frame2467.png', '/vol/biodata/data/human3.6m/training/S1/frames/Phoning1.60457274/frame1113.png', '/vol/biodata/data/human3.6m/training/S1/frames/Phoning1.60457274/frame0753.png', '/vol/biodata/data/human3.6m/training/S1/frames/Phoning1.60457274/frame2006.png', '/vol/biodata/data/human3.6m/training/S1/frames/Phoning1.60457274/frame2298.png', '/vol/biodata/data/human3.6m/training/S1/frames/Phoning1.60457274/frame1858.png', '/vol/biodata/data/human3.6m/training/S1/frames/Phoning1.60457274/frame2628.png', '/vol/biodata/data/human3.6m/training/S1/frames/Phoning1.60457274/frame1889.png', '/vol/biodata/data/human3.6m/training/S1/frames/Phoning1.60457274/frame2249.png', '/vol/biodata/data/human3.6m/training/S1/frames/Phoning1.60457274/frame0059.png', '/vol/biodata/data/human3.6m/training/S1/frames/Phoning1.60457274/frame1619.png', '/vol/biodata/data/human3.6m/training/S1/frames/Phoning1.60457274/frame1278.png', '/vol/biodata/data/human3.6m/training/S1/frames/Phoning1.60457274/frame0438.png', '/vol/biodata/data/human3.6m/training/S1/frames/Phoning1.60457274/frame0088.png', '/vol/biodata/data/human3.6m/training/S1/frames/Phoning1.60457274/frame0216.png', '/vol/biodata/data/human3.6m/training/S1/frames/Phoning1.60457274/frame1456.png', '/vol/biodata/data/human3.6m/training/S1/frames/Phoning1.60457274/frame1824.png', '/vol/biodata/data/human3.6m/training/S1/frames/Phoning1.60457274/frame2543.png', '/vol/biodata/data/human3.6m/training/S1/frames/Phoning1.60457274/frame1790.png', '/vol/biodata/data/human3.6m/training/S1/frames/Phoning1.60457274/frame1037.png', '/vol/biodata/data/human3.6m/training/S1/frames/Phoning1.60457274/frame0677.png', '/vol/biodata/data/human3.6m/training/S1/frames/Phoning1.60457274/frame2122.png', '/vol/biodata/data/human3.6m/training/S1/frames/Phoning1.60457274/frame0101.png', '/vol/biodata/data/human3.6m/training/S1/frames/Phoning1.60457274/frame1741.png', '/vol/biodata/data/human3.6m/training/S1/frames/Phoning1.60457274/frame2235.png', '/vol/biodata/data/human3.6m/training/S1/frames/Phoning1.60457274/frame2592.png', '/vol/biodata/data/human3.6m/training/S1/frames/Phoning1.60457274/frame1320.png', '/vol/biodata/data/human3.6m/training/S1/frames/Phoning1.60457274/frame1487.png', '/vol/biodata/data/human3.6m/training/S1/frames/Phoning1.60457274/frame0560.png', '/vol/biodata/data/human3.6m/training/S1/frames/Phoning1.60457274/frame0912.png', '/vol/biodata/data/human3.6m/training/S1/frames/Phoning1.60457274/frame0398.png', '/vol/biodata/data/human3.6m/training/S1/frames/Phoning1.60457274/frame1509.png', '/vol/biodata/data/human3.6m/training/S1/frames/Phoning1.60457274/frame0349.png', '/vol/biodata/data/human3.6m/training/S1/frames/Phoning1.60457274/frame0728.png', '/vol/biodata/data/human3.6m/training/S1/frames/Phoning1.60457274/frame1168.png', '/vol/biodata/data/human3.6m/training/S1/frames/Phoning1.60457274/frame1823.png', '/vol/biodata/data/human3.6m/training/S1/frames/Phoning1.60457274/frame1451.png', '/vol/biodata/data/human3.6m/training/S1/frames/Phoning1.60457274/frame0211.png', '/vol/biodata/data/human3.6m/training/S1/frames/Phoning1.60457274/frame2544.png', '/vol/biodata/data/human3.6m/training/S1/frames/Phoning1.60457274/frame0670.png', '/vol/biodata/data/human3.6m/training/S1/frames/Phoning1.60457274/frame1030.png', '/vol/biodata/data/human3.6m/training/S1/frames/Phoning1.60457274/frame1797.png', '/vol/biodata/data/human3.6m/training/S1/frames/Phoning1.60457274/frame2125.png', '/vol/biodata/data/human3.6m/training/S1/frames/Phoning1.60457274/frame1746.png', '/vol/biodata/data/human3.6m/training/S1/frames/Phoning1.60457274/frame0106.png', '/vol/biodata/data/human3.6m/training/S1/frames/Phoning1.60457274/frame2595.png', '/vol/biodata/data/human3.6m/training/S1/frames/Phoning1.60457274/frame2232.png', '/vol/biodata/data/human3.6m/training/S1/frames/Phoning1.60457274/frame0915.png', '/vol/biodata/data/human3.6m/training/S1/frames/Phoning1.60457274/frame0567.png', '/vol/biodata/data/human3.6m/training/S1/frames/Phoning1.60457274/frame1480.png', '/vol/biodata/data/human3.6m/training/S1/frames/Phoning1.60457274/frame1327.png', '/vol/biodata/data/human3.6m/training/S1/frames/Phoning1.60457274/frame1662.png', '/vol/biodata/data/human3.6m/training/S1/frames/Phoning1.60457274/frame0022.png', '/vol/biodata/data/human3.6m/training/S1/frames/Phoning1.60457274/frame0785.png', '/vol/biodata/data/human3.6m/training/S1/frames/Phoning1.60457274/frame2316.png', '/vol/biodata/data/human3.6m/training/S1/frames/Phoning1.60457274/frame0443.png', '/vol/biodata/data/human3.6m/training/S1/frames/Phoning1.60457274/frame0831.png', '/vol/biodata/data/human3.6m/training/S1/frames/Phoning1.60457274/frame1203.png', '/vol/biodata/data/human3.6m/training/S1/frames/Phoning1.60457274/frame1575.png', '/vol/biodata/data/human3.6m/training/S1/frames/Phoning1.60457274/frame1907.png', '/vol/biodata/data/human3.6m/training/S1/frames/Phoning1.60457274/frame0492.png', '/vol/biodata/data/human3.6m/training/S1/frames/Phoning1.60457274/frame0335.png', '/vol/biodata/data/human3.6m/training/S1/frames/Phoning1.60457274/frame2460.png', '/vol/biodata/data/human3.6m/training/S1/frames/Phoning1.60457274/frame0754.png', '/vol/biodata/data/human3.6m/training/S1/frames/Phoning1.60457274/frame1114.png', '/vol/biodata/data/human3.6m/training/S1/frames/Phoning1.60457274/frame2001.png', '/vol/biodata/data/human3.6m/training/S1/frames/Phoning1.60457274/frame2538.png', '/vol/biodata/data/human3.6m/training/S1/frames/Phoning1.60457274/frame2159.png', '/vol/biodata/data/human3.6m/training/S1/frames/Phoning1.60457274/frame2188.png', '/vol/biodata/data/human3.6m/training/S1/frames/Phoning1.60457274/frame0969.png', '/vol/biodata/data/human3.6m/training/S1/frames/Phoning1.60457274/frame0050.png', '/vol/biodata/data/human3.6m/training/S1/frames/Phoning1.60457274/frame1610.png', '/vol/biodata/data/human3.6m/training/S1/frames/Phoning1.60457274/frame2364.png', '/vol/biodata/data/human3.6m/training/S1/frames/Phoning1.60457274/frame1271.png', '/vol/biodata/data/human3.6m/training/S1/frames/Phoning1.60457274/frame0396.png', '/vol/biodata/data/human3.6m/training/S1/frames/Phoning1.60457274/frame0431.png', '/vol/biodata/data/human3.6m/training/S1/frames/Phoning1.60457274/frame0843.png', '/vol/biodata/data/human3.6m/training/S1/frames/Phoning1.60457274/frame0347.png', '/vol/biodata/data/human3.6m/training/S1/frames/Phoning1.60457274/frame0892.png', '/vol/biodata/data/human3.6m/training/S1/frames/Phoning1.60457274/frame1507.png', '/vol/biodata/data/human3.6m/training/S1/frames/Phoning1.60457274/frame1975.png', '/vol/biodata/data/human3.6m/training/S1/frames/Phoning1.60457274/frame2412.png', '/vol/biodata/data/human3.6m/training/S1/frames/Phoning1.60457274/frame1166.png', '/vol/biodata/data/human3.6m/training/S1/frames/Phoning1.60457274/frame0726.png', '/vol/biodata/data/human3.6m/training/S1/frames/Phoning1.60457274/frame0081.png', '/vol/biodata/data/human3.6m/training/S1/frames/Phoning1.60457274/frame2073.png', '/vol/biodata/data/human3.6m/training/S1/frames/Phoning1.60457274/frame1799.png', '/vol/biodata/data/human3.6m/training/S1/frames/Phoning1.60457274/frame0108.png', '/vol/biodata/data/human3.6m/training/S1/frames/Phoning1.60457274/frame1748.png', '/vol/biodata/data/human3.6m/training/S1/frames/Phoning1.60457274/frame1329.png', '/vol/biodata/data/human3.6m/training/S1/frames/Phoning1.60457274/frame0569.png', '/vol/biodata/data/human3.6m/training/S1/frames/Phoning1.60457274/frame2318.png', '/vol/biodata/data/human3.6m/training/S1/frames/Phoning1.60457274/frame1909.png', '/vol/biodata/data/human3.6m/training/S1/frames/Phoning1.60457274/frame0263.png', '/vol/biodata/data/human3.6m/training/S1/frames/Phoning1.60457274/frame1384.png', '/vol/biodata/data/human3.6m/training/S1/frames/Phoning1.60457274/frame1851.png', '/vol/biodata/data/human3.6m/training/S1/frames/Phoning1.60457274/frame1423.png', '/vol/biodata/data/human3.6m/training/S1/frames/Phoning1.60457274/frame2291.png', '/vol/biodata/data/human3.6m/training/S1/frames/Phoning1.60457274/frame2536.png', '/vol/biodata/data/human3.6m/training/S1/frames/Phoning1.60457274/frame1042.png', '/vol/biodata/data/human3.6m/training/S1/frames/Phoning1.60457274/frame0602.png', '/vol/biodata/data/human3.6m/training/S1/frames/Phoning1.60457274/frame2157.png', '/vol/biodata/data/human3.6m/training/S1/frames/Phoning1.60457274/frame2621.png', '/vol/biodata/data/human3.6m/training/S1/frames/Phoning1.60457274/frame2186.png', '/vol/biodata/data/human3.6m/training/S1/frames/Phoning1.60457274/frame0174.png', '/vol/biodata/data/human3.6m/training/S1/frames/Phoning1.60457274/frame1734.png', '/vol/biodata/data/human3.6m/training/S1/frames/Phoning1.60457274/frame1093.png', '/vol/biodata/data/human3.6m/training/S1/frames/Phoning1.60457274/frame2240.png', '/vol/biodata/data/human3.6m/training/S1/frames/Phoning1.60457274/frame1355.png', '/vol/biodata/data/human3.6m/training/S1/frames/Phoning1.60457274/frame1880.png', '/vol/biodata/data/human3.6m/training/S1/frames/Phoning1.60457274/frame0967.png', '/vol/biodata/data/human3.6m/training/S1/frames/Phoning1.60457274/frame0515.png', '/vol/biodata/data/human3.6m/training/S1/frames/Phoning1.60457274/frame0838.png', '/vol/biodata/data/human3.6m/training/S1/frames/Phoning1.60457274/frame2469.png', '/vol/biodata/data/human3.6m/training/S1/frames/Phoning1.60457274/frame2008.png', '/vol/biodata/data/human3.6m/training/S1/frames/Phoning1.60457274/frame1424.png', '/vol/biodata/data/human3.6m/training/S1/frames/Phoning1.60457274/frame1856.png', '/vol/biodata/data/human3.6m/training/S1/frames/Phoning1.60457274/frame1383.png', '/vol/biodata/data/human3.6m/training/S1/frames/Phoning1.60457274/frame0264.png', '/vol/biodata/data/human3.6m/training/S1/frames/Phoning1.60457274/frame2531.png', '/vol/biodata/data/human3.6m/training/S1/frames/Phoning1.60457274/frame2296.png', '/vol/biodata/data/human3.6m/training/S1/frames/Phoning1.60457274/frame0605.png', '/vol/biodata/data/human3.6m/training/S1/frames/Phoning1.60457274/frame1045.png', '/vol/biodata/data/human3.6m/training/S1/frames/Phoning1.60457274/frame2150.png', '/vol/biodata/data/human3.6m/training/S1/frames/Phoning1.60457274/frame2181.png', '/vol/biodata/data/human3.6m/training/S1/frames/Phoning1.60457274/frame2626.png', '/vol/biodata/data/human3.6m/training/S1/frames/Phoning1.60457274/frame1094.png', '/vol/biodata/data/human3.6m/training/S1/frames/Phoning1.60457274/frame1733.png', '/vol/biodata/data/human3.6m/training/S1/frames/Phoning1.60457274/frame0173.png', '/vol/biodata/data/human3.6m/training/S1/frames/Phoning1.60457274/frame2247.png', '/vol/biodata/data/human3.6m/training/S1/frames/Phoning1.60457274/frame0512.png', '/vol/biodata/data/human3.6m/training/S1/frames/Phoning1.60457274/frame0960.png', '/vol/biodata/data/human3.6m/training/S1/frames/Phoning1.60457274/frame1887.png', '/vol/biodata/data/human3.6m/training/S1/frames/Phoning1.60457274/frame1352.png', '/vol/biodata/data/human3.6m/training/S1/frames/Phoning1.60457274/frame1617.png', '/vol/biodata/data/human3.6m/training/S1/frames/Phoning1.60457274/frame0057.png', '/vol/biodata/data/human3.6m/training/S1/frames/Phoning1.60457274/frame2363.png', '/vol/biodata/data/human3.6m/training/S1/frames/Phoning1.60457274/frame0844.png', '/vol/biodata/data/human3.6m/training/S1/frames/Phoning1.60457274/frame0436.png', '/vol/biodata/data/human3.6m/training/S1/frames/Phoning1.60457274/frame0391.png', '/vol/biodata/data/human3.6m/training/S1/frames/Phoning1.60457274/frame1276.png', '/vol/biodata/data/human3.6m/training/S1/frames/Phoning1.60457274/frame1972.png', '/vol/biodata/data/human3.6m/training/S1/frames/Phoning1.60457274/frame1500.png', '/vol/biodata/data/human3.6m/training/S1/frames/Phoning1.60457274/frame0895.png', '/vol/biodata/data/human3.6m/training/S1/frames/Phoning1.60457274/frame0340.png', '/vol/biodata/data/human3.6m/training/S1/frames/Phoning1.60457274/frame2415.png', '/vol/biodata/data/human3.6m/training/S1/frames/Phoning1.60457274/frame0086.png', '/vol/biodata/data/human3.6m/training/S1/frames/Phoning1.60457274/frame0721.png', '/vol/biodata/data/human3.6m/training/S1/frames/Phoning1.60457274/frame1161.png', '/vol/biodata/data/human3.6m/training/S1/frames/Phoning1.60457274/frame2074.png', '/vol/biodata/data/human3.6m/training/S1/frames/Phoning1.60457274/frame1458.png', '/vol/biodata/data/human3.6m/training/S1/frames/Phoning1.60457274/frame0218.png', '/vol/biodata/data/human3.6m/training/S1/frames/Phoning1.60457274/frame0679.png', '/vol/biodata/data/human3.6m/training/S1/frames/Phoning1.60457274/frame1039.png', '/vol/biodata/data/human3.6m/training/S1/frames/Phoning1.60457274/frame1489.png', '/vol/biodata/data/human3.6m/training/S1/frames/Phoning1.60457274/frame2383.png', '/vol/biodata/data/human3.6m/training/S1/frames/Phoning1.60457274/frame2424.png', '/vol/biodata/data/human3.6m/training/S1/frames/Phoning1.60457274/frame1296.png', '/vol/biodata/data/human3.6m/training/S1/frames/Phoning1.60457274/frame1943.png', '/vol/biodata/data/human3.6m/training/S1/frames/Phoning1.60457274/frame1531.png', '/vol/biodata/data/human3.6m/training/S1/frames/Phoning1.60457274/frame0371.png', '/vol/biodata/data/human3.6m/training/S1/frames/Phoning1.60457274/frame2045.png', '/vol/biodata/data/human3.6m/training/S1/frames/Phoning1.60457274/frame0710.png', '/vol/biodata/data/human3.6m/training/S1/frames/Phoning1.60457274/frame1150.png', '/vol/biodata/data/human3.6m/training/S1/frames/Phoning1.60457274/frame1626.png', '/vol/biodata/data/human3.6m/training/S1/frames/Phoning1.60457274/frame1181.png', '/vol/biodata/data/human3.6m/training/S1/frames/Phoning1.60457274/frame0066.png', '/vol/biodata/data/human3.6m/training/S1/frames/Phoning1.60457274/frame2094.png', '/vol/biodata/data/human3.6m/training/S1/frames/Phoning1.60457274/frame0875.png', '/vol/biodata/data/human3.6m/training/S1/frames/Phoning1.60457274/frame0407.png', '/vol/biodata/data/human3.6m/training/S1/frames/Phoning1.60457274/frame1247.png', '/vol/biodata/data/human3.6m/training/S1/frames/Phoning1.60457274/frame1992.png', '/vol/biodata/data/human3.6m/training/S1/frames/Phoning1.60457274/frame2352.png', '/vol/biodata/data/human3.6m/training/S1/frames/Phoning1.60457274/frame0699.png', '/vol/biodata/data/human3.6m/training/S1/frames/Phoning1.60457274/frame1469.png', '/vol/biodata/data/human3.6m/training/S1/frames/Phoning1.60457274/frame0229.png', '/vol/biodata/data/human3.6m/training/S1/frames/Phoning1.60457274/frame0648.png', '/vol/biodata/data/human3.6m/training/S1/frames/Phoning1.60457274/frame1008.png', '/vol/biodata/data/human3.6m/training/S1/frames/Phoning1.60457274/frame2458.png', '/vol/biodata/data/human3.6m/training/S1/frames/Phoning1.60457274/frame2039.png', '/vol/biodata/data/human3.6m/training/S1/frames/Phoning1.60457274/frame2489.png', '/vol/biodata/data/human3.6m/training/S1/frames/Phoning1.60457274/frame0809.png', '/vol/biodata/data/human3.6m/training/S1/frames/Phoning1.60457274/frame1702.png', '/vol/biodata/data/human3.6m/training/S1/frames/Phoning1.60457274/frame0142.png', '/vol/biodata/data/human3.6m/training/S1/frames/Phoning1.60457274/frame2617.png', '/vol/biodata/data/human3.6m/training/S1/frames/Phoning1.60457274/frame0284.png', '/vol/biodata/data/human3.6m/training/S1/frames/Phoning1.60457274/frame0523.png', '/vol/biodata/data/human3.6m/training/S1/frames/Phoning1.60457274/frame0951.png', '/vol/biodata/data/human3.6m/training/S1/frames/Phoning1.60457274/frame1363.png', '/vol/biodata/data/human3.6m/training/S1/frames/Phoning1.60457274/frame2276.png', '/vol/biodata/data/human3.6m/training/S1/frames/Phoning1.60457274/frame2500.png', '/vol/biodata/data/human3.6m/training/S1/frames/Phoning1.60457274/frame1415.png', '/vol/biodata/data/human3.6m/training/S1/frames/Phoning1.60457274/frame1867.png', '/vol/biodata/data/human3.6m/training/S1/frames/Phoning1.60457274/frame0255.png', '/vol/biodata/data/human3.6m/training/S1/frames/Phoning1.60457274/frame0980.png', '/vol/biodata/data/human3.6m/training/S1/frames/Phoning1.60457274/frame2161.png', '/vol/biodata/data/human3.6m/training/S1/frames/Phoning1.60457274/frame0634.png', '/vol/biodata/data/human3.6m/training/S1/frames/Phoning1.60457274/frame0193.png', '/vol/biodata/data/human3.6m/training/S1/frames/Phoning1.60457274/frame1074.png', '/vol/biodata/data/human3.6m/training/S1/frames/Phoning1.60457274/frame1938.png', '/vol/biodata/data/human3.6m/training/S1/frames/Phoning1.60457274/frame2329.png', '/vol/biodata/data/human3.6m/training/S1/frames/Phoning1.60457274/frame0145.png', '/vol/biodata/data/human3.6m/training/S1/frames/Phoning1.60457274/frame1705.png', '/vol/biodata/data/human3.6m/training/S1/frames/Phoning1.60457274/frame2610.png', '/vol/biodata/data/human3.6m/training/S1/frames/Phoning1.60457274/frame1364.png', '/vol/biodata/data/human3.6m/training/S1/frames/Phoning1.60457274/frame0956.png', '/vol/biodata/data/human3.6m/training/S1/frames/Phoning1.60457274/frame0524.png', '/vol/biodata/data/human3.6m/training/S1/frames/Phoning1.60457274/frame0283.png', '/vol/biodata/data/human3.6m/training/S1/frames/Phoning1.60457274/frame2271.png', '/vol/biodata/data/human3.6m/training/S1/frames/Phoning1.60457274/frame2507.png', '/vol/biodata/data/human3.6m/training/S1/frames/Phoning1.60457274/frame0987.png', '/vol/biodata/data/human3.6m/training/S1/frames/Phoning1.60457274/frame0252.png', '/vol/biodata/data/human3.6m/training/S1/frames/Phoning1.60457274/frame1860.png', '/vol/biodata/data/human3.6m/training/S1/frames/Phoning1.60457274/frame1412.png', '/vol/biodata/data/human3.6m/training/S1/frames/Phoning1.60457274/frame2166.png', '/vol/biodata/data/human3.6m/training/S1/frames/Phoning1.60457274/frame1073.png', '/vol/biodata/data/human3.6m/training/S1/frames/Phoning1.60457274/frame0194.png', '/vol/biodata/data/human3.6m/training/S1/frames/Phoning1.60457274/frame0633.png', '/vol/biodata/data/human3.6m/training/S1/frames/Phoning1.60457274/frame2423.png', '/vol/biodata/data/human3.6m/training/S1/frames/Phoning1.60457274/frame2384.png', '/vol/biodata/data/human3.6m/training/S1/frames/Phoning1.60457274/frame0376.png', '/vol/biodata/data/human3.6m/training/S1/frames/Phoning1.60457274/frame1536.png', '/vol/biodata/data/human3.6m/training/S1/frames/Phoning1.60457274/frame1944.png', '/vol/biodata/data/human3.6m/training/S1/frames/Phoning1.60457274/frame1291.png', '/vol/biodata/data/human3.6m/training/S1/frames/Phoning1.60457274/frame2042.png', '/vol/biodata/data/human3.6m/training/S1/frames/Phoning1.60457274/frame1157.png', '/vol/biodata/data/human3.6m/training/S1/frames/Phoning1.60457274/frame0717.png', '/vol/biodata/data/human3.6m/training/S1/frames/Phoning1.60457274/frame0061.png', '/vol/biodata/data/human3.6m/training/S1/frames/Phoning1.60457274/frame1186.png', '/vol/biodata/data/human3.6m/training/S1/frames/Phoning1.60457274/frame1621.png', '/vol/biodata/data/human3.6m/training/S1/frames/Phoning1.60457274/frame2093.png', '/vol/biodata/data/human3.6m/training/S1/frames/Phoning1.60457274/frame1995.png', '/vol/biodata/data/human3.6m/training/S1/frames/Phoning1.60457274/frame1240.png', '/vol/biodata/data/human3.6m/training/S1/frames/Phoning1.60457274/frame0400.png', '/vol/biodata/data/human3.6m/training/S1/frames/Phoning1.60457274/frame0872.png', '/vol/biodata/data/human3.6m/training/S1/frames/Phoning1.60457274/frame2355.png', '/vol/biodata/data/human3.6m/training/S1/frames/Phoning1.60457274/frame0139.png', '/vol/biodata/data/human3.6m/training/S1/frames/Phoning1.60457274/frame1779.png', '/vol/biodata/data/human3.6m/training/S1/frames/Phoning1.60457274/frame1318.png', '/vol/biodata/data/human3.6m/training/S1/frames/Phoning1.60457274/frame0558.png', '/vol/biodata/data/human3.6m/training/S1/frames/Phoning1.60457274/frame0589.png', '/vol/biodata/data/human3.6m/training/S1/frames/Phoning1.60457274/frame2451.png', '/vol/biodata/data/human3.6m/training/S1/frames/Phoning1.60457274/frame1544.png', '/vol/biodata/data/human3.6m/training/S1/frames/Phoning1.60457274/frame1936.png', '/vol/biodata/data/human3.6m/training/S1/frames/Phoning1.60457274/frame0304.png', '/vol/biodata/data/human3.6m/training/S1/frames/Phoning1.60457274/frame2030.png', '/vol/biodata/data/human3.6m/training/S1/frames/Phoning1.60457274/frame0765.png', '/vol/biodata/data/human3.6m/training/S1/frames/Phoning1.60457274/frame1682.png', '/vol/biodata/data/human3.6m/training/S1/frames/Phoning1.60457274/frame1125.png', '/vol/biodata/data/human3.6m/training/S1/frames/Phoning1.60457274/frame1653.png', '/vol/biodata/data/human3.6m/training/S1/frames/Phoning1.60457274/frame0013.png', '/vol/biodata/data/human3.6m/training/S1/frames/Phoning1.60457274/frame0472.png', '/vol/biodata/data/human3.6m/training/S1/frames/Phoning1.60457274/frame0800.png', '/vol/biodata/data/human3.6m/training/S1/frames/Phoning1.60457274/frame1232.png', '/vol/biodata/data/human3.6m/training/S1/frames/Phoning1.60457274/frame1595.png', '/vol/biodata/data/human3.6m/training/S1/frames/Phoning1.60457274/frame2327.png', '/vol/biodata/data/human3.6m/training/S1/frames/Phoning1.60457274/frame2480.png', '/vol/biodata/data/human3.6m/training/S1/frames/Phoning1.60457274/frame0958.png', '/vol/biodata/data/human3.6m/training/S1/frames/Phoning1.60457274/frame0989.png', '/vol/biodata/data/human3.6m/training/S1/frames/Phoning1.60457274/frame2509.png', '/vol/biodata/data/human3.6m/training/S1/frames/Phoning1.60457274/frame2168.png', '/vol/biodata/data/human3.6m/training/S1/frames/Phoning1.60457274/frame1538.png', '/vol/biodata/data/human3.6m/training/S1/frames/Phoning1.60457274/frame0378.png', '/vol/biodata/data/human3.6m/training/S1/frames/Phoning1.60457274/frame0719.png', '/vol/biodata/data/human3.6m/training/S1/frames/Phoning1.60457274/frame1159.png', '/vol/biodata/data/human3.6m/training/S1/frames/Phoning1.60457274/frame1188.png', '/vol/biodata/data/human3.6m/training/S1/frames/Phoning1.60457274/frame1777.png', '/vol/biodata/data/human3.6m/training/S1/frames/Phoning1.60457274/frame0690.png', '/vol/biodata/data/human3.6m/training/S1/frames/Phoning1.60457274/frame0137.png', '/vol/biodata/data/human3.6m/training/S1/frames/Phoning1.60457274/frame0924.png', '/vol/biodata/data/human3.6m/training/S1/frames/Phoning1.60457274/frame0556.png', '/vol/biodata/data/human3.6m/training/S1/frames/Phoning1.60457274/frame1316.png', '/vol/biodata/data/human3.6m/training/S1/frames/Phoning1.60457274/frame2203.png', '/vol/biodata/data/human3.6m/training/S1/frames/Phoning1.60457274/frame2575.png', '/vol/biodata/data/human3.6m/training/S1/frames/Phoning1.60457274/frame1812.png', '/vol/biodata/data/human3.6m/training/S1/frames/Phoning1.60457274/frame1460.png', '/vol/biodata/data/human3.6m/training/S1/frames/Phoning1.60457274/frame0220.png', '/vol/biodata/data/human3.6m/training/S1/frames/Phoning1.60457274/frame0587.png', '/vol/biodata/data/human3.6m/training/S1/frames/Phoning1.60457274/frame2114.png', '/vol/biodata/data/human3.6m/training/S1/frames/Phoning1.60457274/frame0641.png', '/vol/biodata/data/human3.6m/training/S1/frames/Phoning1.60457274/frame1001.png', '/vol/biodata/data/human3.6m/training/S1/frames/Phoning1.60457274/frame1298.png', '/vol/biodata/data/human3.6m/training/S1/frames/Phoning1.60457274/frame0068.png', '/vol/biodata/data/human3.6m/training/S1/frames/Phoning1.60457274/frame1628.png', '/vol/biodata/data/human3.6m/training/S1/frames/Phoning1.60457274/frame1249.png', '/vol/biodata/data/human3.6m/training/S1/frames/Phoning1.60457274/frame0409.png', '/vol/biodata/data/human3.6m/training/S1/frames/Phoning1.60457274/frame0130.png', '/vol/biodata/data/human3.6m/training/S1/frames/Phoning1.60457274/frame0697.png', '/vol/biodata/data/human3.6m/training/S1/frames/Phoning1.60457274/frame1770.png', '/vol/biodata/data/human3.6m/training/S1/frames/Phoning1.60457274/frame1311.png', '/vol/biodata/data/human3.6m/training/S1/frames/Phoning1.60457274/frame0551.png', '/vol/biodata/data/human3.6m/training/S1/frames/Phoning1.60457274/frame0923.png', '/vol/biodata/data/human3.6m/training/S1/frames/Phoning1.60457274/frame2204.png', '/vol/biodata/data/human3.6m/training/S1/frames/Phoning1.60457274/frame2572.png', '/vol/biodata/data/human3.6m/training/S1/frames/Phoning1.60457274/frame0580.png', '/vol/biodata/data/human3.6m/training/S1/frames/Phoning1.60457274/frame0227.png', '/vol/biodata/data/human3.6m/training/S1/frames/Phoning1.60457274/frame1467.png', '/vol/biodata/data/human3.6m/training/S1/frames/Phoning1.60457274/frame1815.png', '/vol/biodata/data/human3.6m/training/S1/frames/Phoning1.60457274/frame2113.png', '/vol/biodata/data/human3.6m/training/S1/frames/Phoning1.60457274/frame1006.png', '/vol/biodata/data/human3.6m/training/S1/frames/Phoning1.60457274/frame0646.png', '/vol/biodata/data/human3.6m/training/S1/frames/Phoning1.60457274/frame2456.png', '/vol/biodata/data/human3.6m/training/S1/frames/Phoning1.60457274/frame0303.png', '/vol/biodata/data/human3.6m/training/S1/frames/Phoning1.60457274/frame1931.png', '/vol/biodata/data/human3.6m/training/S1/frames/Phoning1.60457274/frame1543.png', '/vol/biodata/data/human3.6m/training/S1/frames/Phoning1.60457274/frame2037.png', '/vol/biodata/data/human3.6m/training/S1/frames/Phoning1.60457274/frame1122.png', '/vol/biodata/data/human3.6m/training/S1/frames/Phoning1.60457274/frame1685.png', '/vol/biodata/data/human3.6m/training/S1/frames/Phoning1.60457274/frame0762.png', '/vol/biodata/data/human3.6m/training/S1/frames/Phoning1.60457274/frame0014.png', '/vol/biodata/data/human3.6m/training/S1/frames/Phoning1.60457274/frame1654.png', '/vol/biodata/data/human3.6m/training/S1/frames/Phoning1.60457274/frame1592.png', '/vol/biodata/data/human3.6m/training/S1/frames/Phoning1.60457274/frame1235.png', '/vol/biodata/data/human3.6m/training/S1/frames/Phoning1.60457274/frame0807.png', '/vol/biodata/data/human3.6m/training/S1/frames/Phoning1.60457274/frame0475.png', '/vol/biodata/data/human3.6m/training/S1/frames/Phoning1.60457274/frame2487.png', '/vol/biodata/data/human3.6m/training/S1/frames/Phoning1.60457274/frame2320.png', '/vol/biodata/data/human3.6m/training/S1/frames/Phoning1.60457274/frame2619.png', '/vol/biodata/data/human3.6m/training/S1/frames/Phoning1.60457274/frame2278.png', '/vol/biodata/data/human3.6m/training/S1/frames/Phoning1.60457274/frame1869.png', '/vol/biodata/data/human3.6m/training/S1/frames/Phoning1.60457274/frame2369.png', '/vol/biodata/data/human3.6m/training/S1/frames/Phoning1.60457274/frame1978.png', '/vol/biodata/data/human3.6m/training/S1/frames/Phoning1.60457274/frame2126.png', '/vol/biodata/data/human3.6m/training/S1/frames/Phoning1.60457274/frame1033.png', '/vol/biodata/data/human3.6m/training/S1/frames/Phoning1.60457274/frame1794.png', '/vol/biodata/data/human3.6m/training/S1/frames/Phoning1.60457274/frame0673.png', '/vol/biodata/data/human3.6m/training/S1/frames/Phoning1.60457274/frame2547.png', '/vol/biodata/data/human3.6m/training/S1/frames/Phoning1.60457274/frame0212.png', '/vol/biodata/data/human3.6m/training/S1/frames/Phoning1.60457274/frame1452.png', '/vol/biodata/data/human3.6m/training/S1/frames/Phoning1.60457274/frame1820.png', '/vol/biodata/data/human3.6m/training/S1/frames/Phoning1.60457274/frame1483.png', '/vol/biodata/data/human3.6m/training/S1/frames/Phoning1.60457274/frame1324.png', '/vol/biodata/data/human3.6m/training/S1/frames/Phoning1.60457274/frame0564.png', '/vol/biodata/data/human3.6m/training/S1/frames/Phoning1.60457274/frame0916.png', '/vol/biodata/data/human3.6m/training/S1/frames/Phoning1.60457274/frame2596.png', '/vol/biodata/data/human3.6m/training/S1/frames/Phoning1.60457274/frame2231.png', '/vol/biodata/data/human3.6m/training/S1/frames/Phoning1.60457274/frame0105.png', '/vol/biodata/data/human3.6m/training/S1/frames/Phoning1.60457274/frame1745.png', '/vol/biodata/data/human3.6m/training/S1/frames/Phoning1.60457274/frame1200.png', '/vol/biodata/data/human3.6m/training/S1/frames/Phoning1.60457274/frame0832.png', '/vol/biodata/data/human3.6m/training/S1/frames/Phoning1.60457274/frame0440.png', '/vol/biodata/data/human3.6m/training/S1/frames/Phoning1.60457274/frame2315.png', '/vol/biodata/data/human3.6m/training/S1/frames/Phoning1.60457274/frame0021.png', '/vol/biodata/data/human3.6m/training/S1/frames/Phoning1.60457274/frame0786.png', '/vol/biodata/data/human3.6m/training/S1/frames/Phoning1.60457274/frame1661.png', '/vol/biodata/data/human3.6m/training/S1/frames/Phoning1.60457274/frame2002.png', '/vol/biodata/data/human3.6m/training/S1/frames/Phoning1.60457274/frame1117.png', '/vol/biodata/data/human3.6m/training/S1/frames/Phoning1.60457274/frame0757.png', '/vol/biodata/data/human3.6m/training/S1/frames/Phoning1.60457274/frame2463.png', '/vol/biodata/data/human3.6m/training/S1/frames/Phoning1.60457274/frame0491.png', '/vol/biodata/data/human3.6m/training/S1/frames/Phoning1.60457274/frame0336.png', '/vol/biodata/data/human3.6m/training/S1/frames/Phoning1.60457274/frame1904.png', '/vol/biodata/data/human3.6m/training/S1/frames/Phoning1.60457274/frame1576.png', '/vol/biodata/data/human3.6m/training/S1/frames/Phoning1.60457274/frame1389.png', '/vol/biodata/data/human3.6m/training/S1/frames/Phoning1.60457274/frame1358.png', '/vol/biodata/data/human3.6m/training/S1/frames/Phoning1.60457274/frame0518.png', '/vol/biodata/data/human3.6m/training/S1/frames/Phoning1.60457274/frame0179.png', '/vol/biodata/data/human3.6m/training/S1/frames/Phoning1.60457274/frame1739.png', '/vol/biodata/data/human3.6m/training/S1/frames/Phoning1.60457274/frame0447.png', '/vol/biodata/data/human3.6m/training/S1/frames/Phoning1.60457274/frame0835.png', '/vol/biodata/data/human3.6m/training/S1/frames/Phoning1.60457274/frame1207.png', '/vol/biodata/data/human3.6m/training/S1/frames/Phoning1.60457274/frame2312.png', '/vol/biodata/data/human3.6m/training/S1/frames/Phoning1.60457274/frame1666.png', '/vol/biodata/data/human3.6m/training/S1/frames/Phoning1.60457274/frame0781.png', '/vol/biodata/data/human3.6m/training/S1/frames/Phoning1.60457274/frame0026.png', '/vol/biodata/data/human3.6m/training/S1/frames/Phoning1.60457274/frame2005.png', '/vol/biodata/data/human3.6m/training/S1/frames/Phoning1.60457274/frame0750.png', '/vol/biodata/data/human3.6m/training/S1/frames/Phoning1.60457274/frame1110.png', '/vol/biodata/data/human3.6m/training/S1/frames/Phoning1.60457274/frame2464.png', '/vol/biodata/data/human3.6m/training/S1/frames/Phoning1.60457274/frame1571.png', '/vol/biodata/data/human3.6m/training/S1/frames/Phoning1.60457274/frame1903.png', '/vol/biodata/data/human3.6m/training/S1/frames/Phoning1.60457274/frame0331.png', '/vol/biodata/data/human3.6m/training/S1/frames/Phoning1.60457274/frame0496.png', '/vol/biodata/data/human3.6m/training/S1/frames/Phoning1.60457274/frame0608.png', '/vol/biodata/data/human3.6m/training/S1/frames/Phoning1.60457274/frame1048.png', '/vol/biodata/data/human3.6m/training/S1/frames/Phoning1.60457274/frame1429.png', '/vol/biodata/data/human3.6m/training/S1/frames/Phoning1.60457274/frame0269.png', '/vol/biodata/data/human3.6m/training/S1/frames/Phoning1.60457274/frame1099.png', '/vol/biodata/data/human3.6m/training/S1/frames/Phoning1.60457274/frame0849.png', '/vol/biodata/data/human3.6m/training/S1/frames/Phoning1.60457274/frame2079.png', '/vol/biodata/data/human3.6m/training/S1/frames/Phoning1.60457274/frame0898.png', '/vol/biodata/data/human3.6m/training/S1/frames/Phoning1.60457274/frame2418.png', '/vol/biodata/data/human3.6m/training/S1/frames/Phoning1.60457274/frame2121.png', '/vol/biodata/data/human3.6m/training/S1/frames/Phoning1.60457274/frame0674.png', '/vol/biodata/data/human3.6m/training/S1/frames/Phoning1.60457274/frame1793.png', '/vol/biodata/data/human3.6m/training/S1/frames/Phoning1.60457274/frame1034.png', '/vol/biodata/data/human3.6m/training/S1/frames/Phoning1.60457274/frame2540.png', '/vol/biodata/data/human3.6m/training/S1/frames/Phoning1.60457274/frame1827.png', '/vol/biodata/data/human3.6m/training/S1/frames/Phoning1.60457274/frame1455.png', '/vol/biodata/data/human3.6m/training/S1/frames/Phoning1.60457274/frame0215.png', '/vol/biodata/data/human3.6m/training/S1/frames/Phoning1.60457274/frame0911.png', '/vol/biodata/data/human3.6m/training/S1/frames/Phoning1.60457274/frame0563.png', '/vol/biodata/data/human3.6m/training/S1/frames/Phoning1.60457274/frame1323.png', '/vol/biodata/data/human3.6m/training/S1/frames/Phoning1.60457274/frame1484.png', '/vol/biodata/data/human3.6m/training/S1/frames/Phoning1.60457274/frame2236.png', '/vol/biodata/data/human3.6m/training/S1/frames/Phoning1.60457274/frame2591.png', '/vol/biodata/data/human3.6m/training/S1/frames/Phoning1.60457274/frame1742.png', '/vol/biodata/data/human3.6m/training/S1/frames/Phoning1.60457274/frame0102.png', '/vol/biodata/data/human3.6m/training/S1/frames/Phoning1.60457274/frame1209.png', '/vol/biodata/data/human3.6m/training/S1/frames/Phoning1.60457274/frame0449.png', '/vol/biodata/data/human3.6m/training/S1/frames/Phoning1.60457274/frame0028.png', '/vol/biodata/data/human3.6m/training/S1/frames/Phoning1.60457274/frame1668.png', '/vol/biodata/data/human3.6m/training/S1/frames/Phoning1.60457274/frame0498.png', '/vol/biodata/data/human3.6m/training/S1/frames/Phoning1.60457274/frame2153.png', '/vol/biodata/data/human3.6m/training/S1/frames/Phoning1.60457274/frame1046.png', '/vol/biodata/data/human3.6m/training/S1/frames/Phoning1.60457274/frame0606.png', '/vol/biodata/data/human3.6m/training/S1/frames/Phoning1.60457274/frame2532.png', '/vol/biodata/data/human3.6m/training/S1/frames/Phoning1.60457274/frame2295.png', '/vol/biodata/data/human3.6m/training/S1/frames/Phoning1.60457274/frame0267.png', '/vol/biodata/data/human3.6m/training/S1/frames/Phoning1.60457274/frame1855.png', '/vol/biodata/data/human3.6m/training/S1/frames/Phoning1.60457274/frame1427.png', '/vol/biodata/data/human3.6m/training/S1/frames/Phoning1.60457274/frame1380.png', '/vol/biodata/data/human3.6m/training/S1/frames/Phoning1.60457274/frame1884.png', '/vol/biodata/data/human3.6m/training/S1/frames/Phoning1.60457274/frame1351.png', '/vol/biodata/data/human3.6m/training/S1/frames/Phoning1.60457274/frame0963.png', '/vol/biodata/data/human3.6m/training/S1/frames/Phoning1.60457274/frame0511.png', '/vol/biodata/data/human3.6m/training/S1/frames/Phoning1.60457274/frame2244.png', '/vol/biodata/data/human3.6m/training/S1/frames/Phoning1.60457274/frame0170.png', '/vol/biodata/data/human3.6m/training/S1/frames/Phoning1.60457274/frame1097.png', '/vol/biodata/data/human3.6m/training/S1/frames/Phoning1.60457274/frame1730.png', '/vol/biodata/data/human3.6m/training/S1/frames/Phoning1.60457274/frame2182.png', '/vol/biodata/data/human3.6m/training/S1/frames/Phoning1.60457274/frame2625.png', '/vol/biodata/data/human3.6m/training/S1/frames/Phoning1.60457274/frame1275.png', '/vol/biodata/data/human3.6m/training/S1/frames/Phoning1.60457274/frame0435.png', '/vol/biodata/data/human3.6m/training/S1/frames/Phoning1.60457274/frame0847.png', '/vol/biodata/data/human3.6m/training/S1/frames/Phoning1.60457274/frame0392.png', '/vol/biodata/data/human3.6m/training/S1/frames/Phoning1.60457274/frame2360.png', '/vol/biodata/data/human3.6m/training/S1/frames/Phoning1.60457274/frame0054.png', '/vol/biodata/data/human3.6m/training/S1/frames/Phoning1.60457274/frame1614.png', '/vol/biodata/data/human3.6m/training/S1/frames/Phoning1.60457274/frame2077.png', '/vol/biodata/data/human3.6m/training/S1/frames/Phoning1.60457274/frame1162.png', '/vol/biodata/data/human3.6m/training/S1/frames/Phoning1.60457274/frame0085.png', '/vol/biodata/data/human3.6m/training/S1/frames/Phoning1.60457274/frame0722.png', '/vol/biodata/data/human3.6m/training/S1/frames/Phoning1.60457274/frame2416.png', '/vol/biodata/data/human3.6m/training/S1/frames/Phoning1.60457274/frame0896.png', '/vol/biodata/data/human3.6m/training/S1/frames/Phoning1.60457274/frame0343.png', '/vol/biodata/data/human3.6m/training/S1/frames/Phoning1.60457274/frame1503.png', '/vol/biodata/data/human3.6m/training/S1/frames/Phoning1.60457274/frame1971.png', '/vol/biodata/data/human3.6m/training/S1/frames/Phoning1.60457274/frame1829.png', '/vol/biodata/data/human3.6m/training/S1/frames/Phoning1.60457274/frame2238.png', '/vol/biodata/data/human3.6m/training/S1/frames/Phoning1.60457274/frame0395.png', '/vol/biodata/data/human3.6m/training/S1/frames/Phoning1.60457274/frame0840.png', '/vol/biodata/data/human3.6m/training/S1/frames/Phoning1.60457274/frame0432.png', '/vol/biodata/data/human3.6m/training/S1/frames/Phoning1.60457274/frame1272.png', '/vol/biodata/data/human3.6m/training/S1/frames/Phoning1.60457274/frame2367.png', '/vol/biodata/data/human3.6m/training/S1/frames/Phoning1.60457274/frame1613.png', '/vol/biodata/data/human3.6m/training/S1/frames/Phoning1.60457274/frame0053.png', '/vol/biodata/data/human3.6m/training/S1/frames/Phoning1.60457274/frame2070.png', '/vol/biodata/data/human3.6m/training/S1/frames/Phoning1.60457274/frame0725.png', '/vol/biodata/data/human3.6m/training/S1/frames/Phoning1.60457274/frame0082.png', '/vol/biodata/data/human3.6m/training/S1/frames/Phoning1.60457274/frame1165.png', '/vol/biodata/data/human3.6m/training/S1/frames/Phoning1.60457274/frame2411.png', '/vol/biodata/data/human3.6m/training/S1/frames/Phoning1.60457274/frame1976.png', '/vol/biodata/data/human3.6m/training/S1/frames/Phoning1.60457274/frame1504.png', '/vol/biodata/data/human3.6m/training/S1/frames/Phoning1.60457274/frame0344.png', '/vol/biodata/data/human3.6m/training/S1/frames/Phoning1.60457274/frame0891.png', '/vol/biodata/data/human3.6m/training/S1/frames/Phoning1.60457274/frame2128.png', '/vol/biodata/data/human3.6m/training/S1/frames/Phoning1.60457274/frame2549.png', '/vol/biodata/data/human3.6m/training/S1/frames/Phoning1.60457274/frame2598.png', '/vol/biodata/data/human3.6m/training/S1/frames/Phoning1.60457274/frame0918.png', '/vol/biodata/data/human3.6m/training/S1/frames/Phoning1.60457274/frame0788.png', '/vol/biodata/data/human3.6m/training/S1/frames/Phoning1.60457274/frame0759.png', '/vol/biodata/data/human3.6m/training/S1/frames/Phoning1.60457274/frame1119.png', '/vol/biodata/data/human3.6m/training/S1/frames/Phoning1.60457274/frame1578.png', '/vol/biodata/data/human3.6m/training/S1/frames/Phoning1.60457274/frame0338.png', '/vol/biodata/data/human3.6m/training/S1/frames/Phoning1.60457274/frame2154.png', '/vol/biodata/data/human3.6m/training/S1/frames/Phoning1.60457274/frame0601.png', '/vol/biodata/data/human3.6m/training/S1/frames/Phoning1.60457274/frame1041.png', '/vol/biodata/data/human3.6m/training/S1/frames/Phoning1.60457274/frame2292.png', '/vol/biodata/data/human3.6m/training/S1/frames/Phoning1.60457274/frame2535.png', '/vol/biodata/data/human3.6m/training/S1/frames/Phoning1.60457274/frame1387.png', '/vol/biodata/data/human3.6m/training/S1/frames/Phoning1.60457274/frame1420.png', '/vol/biodata/data/human3.6m/training/S1/frames/Phoning1.60457274/frame1852.png', '/vol/biodata/data/human3.6m/training/S1/frames/Phoning1.60457274/frame0260.png', '/vol/biodata/data/human3.6m/training/S1/frames/Phoning1.60457274/frame0516.png', '/vol/biodata/data/human3.6m/training/S1/frames/Phoning1.60457274/frame0964.png', '/vol/biodata/data/human3.6m/training/S1/frames/Phoning1.60457274/frame1356.png', '/vol/biodata/data/human3.6m/training/S1/frames/Phoning1.60457274/frame1883.png', '/vol/biodata/data/human3.6m/training/S1/frames/Phoning1.60457274/frame2243.png', '/vol/biodata/data/human3.6m/training/S1/frames/Phoning1.60457274/frame1737.png', '/vol/biodata/data/human3.6m/training/S1/frames/Phoning1.60457274/frame1090.png', '/vol/biodata/data/human3.6m/training/S1/frames/Phoning1.60457274/frame0177.png', '/vol/biodata/data/human3.6m/training/S1/frames/Phoning1.60457274/frame2622.png', '/vol/biodata/data/human3.6m/training/S1/frames/Phoning1.60457274/frame2185.png', '/vol/biodata/data/human3.6m/training/S1/frames/Phoning1.60457274/frame0909.png', '/vol/biodata/data/human3.6m/training/S1/frames/Phoning1.60457274/frame2589.png', '/vol/biodata/data/human3.6m/training/S1/frames/Phoning1.60457274/frame2139.png', '/vol/biodata/data/human3.6m/training/S1/frames/Phoning1.60457274/frame2558.png', '/vol/biodata/data/human3.6m/training/S1/frames/Phoning1.60457274/frame0093.png', '/vol/biodata/data/human3.6m/training/S1/frames/Phoning1.60457274/frame0734.png', '/vol/biodata/data/human3.6m/training/S1/frames/Phoning1.60457274/frame1174.png', '/vol/biodata/data/human3.6m/training/S1/frames/Phoning1.60457274/frame2061.png', '/vol/biodata/data/human3.6m/training/S1/frames/Phoning1.60457274/frame1515.png', '/vol/biodata/data/human3.6m/training/S1/frames/Phoning1.60457274/frame1967.png', '/vol/biodata/data/human3.6m/training/S1/frames/Phoning1.60457274/frame0880.png', '/vol/biodata/data/human3.6m/training/S1/frames/Phoning1.60457274/frame0355.png', '/vol/biodata/data/human3.6m/training/S1/frames/Phoning1.60457274/frame2400.png', '/vol/biodata/data/human3.6m/training/S1/frames/Phoning1.60457274/frame2376.png', '/vol/biodata/data/human3.6m/training/S1/frames/Phoning1.60457274/frame0423.png', '/vol/biodata/data/human3.6m/training/S1/frames/Phoning1.60457274/frame0851.png', '/vol/biodata/data/human3.6m/training/S1/frames/Phoning1.60457274/frame0384.png', '/vol/biodata/data/human3.6m/training/S1/frames/Phoning1.60457274/frame1263.png', '/vol/biodata/data/human3.6m/training/S1/frames/Phoning1.60457274/frame1602.png', '/vol/biodata/data/human3.6m/training/S1/frames/Phoning1.60457274/frame0042.png', '/vol/biodata/data/human3.6m/training/S1/frames/Phoning1.60457274/frame2252.png', '/vol/biodata/data/human3.6m/training/S1/frames/Phoning1.60457274/frame0975.png', '/vol/biodata/data/human3.6m/training/S1/frames/Phoning1.60457274/frame0507.png', '/vol/biodata/data/human3.6m/training/S1/frames/Phoning1.60457274/frame1892.png', '/vol/biodata/data/human3.6m/training/S1/frames/Phoning1.60457274/frame1347.png', '/vol/biodata/data/human3.6m/training/S1/frames/Phoning1.60457274/frame2194.png', '/vol/biodata/data/human3.6m/training/S1/frames/Phoning1.60457274/frame2633.png', '/vol/biodata/data/human3.6m/training/S1/frames/Phoning1.60457274/frame1081.png', '/vol/biodata/data/human3.6m/training/S1/frames/Phoning1.60457274/frame1726.png', '/vol/biodata/data/human3.6m/training/S1/frames/Phoning1.60457274/frame0166.png', '/vol/biodata/data/human3.6m/training/S1/frames/Phoning1.60457274/frame0610.png', '/vol/biodata/data/human3.6m/training/S1/frames/Phoning1.60457274/frame1050.png', '/vol/biodata/data/human3.6m/training/S1/frames/Phoning1.60457274/frame2145.png', '/vol/biodata/data/human3.6m/training/S1/frames/Phoning1.60457274/frame1843.png', '/vol/biodata/data/human3.6m/training/S1/frames/Phoning1.60457274/frame1431.png', '/vol/biodata/data/human3.6m/training/S1/frames/Phoning1.60457274/frame1396.png', '/vol/biodata/data/human3.6m/training/S1/frames/Phoning1.60457274/frame0271.png', '/vol/biodata/data/human3.6m/training/S1/frames/Phoning1.60457274/frame2524.png', '/vol/biodata/data/human3.6m/training/S1/frames/Phoning1.60457274/frame2283.png', '/vol/biodata/data/human3.6m/training/S1/frames/Phoning1.60457274/frame0748.png', '/vol/biodata/data/human3.6m/training/S1/frames/Phoning1.60457274/frame1108.png', '/vol/biodata/data/human3.6m/training/S1/frames/Phoning1.60457274/frame1569.png', '/vol/biodata/data/human3.6m/training/S1/frames/Phoning1.60457274/frame0329.png', '/vol/biodata/data/human3.6m/training/S1/frames/Phoning1.60457274/frame0799.png', '/vol/biodata/data/human3.6m/training/S1/frames/Phoning1.60457274/frame2255.png', '/vol/biodata/data/human3.6m/training/S1/frames/Phoning1.60457274/frame1340.png', '/vol/biodata/data/human3.6m/training/S1/frames/Phoning1.60457274/frame1895.png', '/vol/biodata/data/human3.6m/training/S1/frames/Phoning1.60457274/frame0500.png', '/vol/biodata/data/human3.6m/training/S1/frames/Phoning1.60457274/frame0972.png', '/vol/biodata/data/human3.6m/training/S1/frames/Phoning1.60457274/frame2634.png', '/vol/biodata/data/human3.6m/training/S1/frames/Phoning1.60457274/frame2193.png', '/vol/biodata/data/human3.6m/training/S1/frames/Phoning1.60457274/frame0161.png', '/vol/biodata/data/human3.6m/training/S1/frames/Phoning1.60457274/frame1721.png', '/vol/biodata/data/human3.6m/training/S1/frames/Phoning1.60457274/frame1086.png', '/vol/biodata/data/human3.6m/training/S1/frames/Phoning1.60457274/frame1057.png', '/vol/biodata/data/human3.6m/training/S1/frames/Phoning1.60457274/frame0617.png', '/vol/biodata/data/human3.6m/training/S1/frames/Phoning1.60457274/frame2142.png', '/vol/biodata/data/human3.6m/training/S1/frames/Phoning1.60457274/frame0276.png', '/vol/biodata/data/human3.6m/training/S1/frames/Phoning1.60457274/frame1391.png', '/vol/biodata/data/human3.6m/training/S1/frames/Phoning1.60457274/frame1436.png', '/vol/biodata/data/human3.6m/training/S1/frames/Phoning1.60457274/frame1844.png', '/vol/biodata/data/human3.6m/training/S1/frames/Phoning1.60457274/frame2284.png', '/vol/biodata/data/human3.6m/training/S1/frames/Phoning1.60457274/frame2523.png', '/vol/biodata/data/human3.6m/training/S1/frames/Phoning1.60457274/frame0489.png', '/vol/biodata/data/human3.6m/training/S1/frames/Phoning1.60457274/frame1218.png', '/vol/biodata/data/human3.6m/training/S1/frames/Phoning1.60457274/frame0458.png', '/vol/biodata/data/human3.6m/training/S1/frames/Phoning1.60457274/frame0039.png', '/vol/biodata/data/human3.6m/training/S1/frames/Phoning1.60457274/frame1679.png', '/vol/biodata/data/human3.6m/training/S1/frames/Phoning1.60457274/frame2229.png', '/vol/biodata/data/human3.6m/training/S1/frames/Phoning1.60457274/frame1838.png', '/vol/biodata/data/human3.6m/training/S1/frames/Phoning1.60457274/frame1173.png', '/vol/biodata/data/human3.6m/training/S1/frames/Phoning1.60457274/frame0733.png', '/vol/biodata/data/human3.6m/training/S1/frames/Phoning1.60457274/frame0094.png', '/vol/biodata/data/human3.6m/training/S1/frames/Phoning1.60457274/frame2066.png', '/vol/biodata/data/human3.6m/training/S1/frames/Phoning1.60457274/frame0352.png', '/vol/biodata/data/human3.6m/training/S1/frames/Phoning1.60457274/frame0887.png', '/vol/biodata/data/human3.6m/training/S1/frames/Phoning1.60457274/frame1960.png', '/vol/biodata/data/human3.6m/training/S1/frames/Phoning1.60457274/frame1512.png', '/vol/biodata/data/human3.6m/training/S1/frames/Phoning1.60457274/frame2407.png', '/vol/biodata/data/human3.6m/training/S1/frames/Phoning1.60457274/frame2371.png', '/vol/biodata/data/human3.6m/training/S1/frames/Phoning1.60457274/frame1264.png', '/vol/biodata/data/human3.6m/training/S1/frames/Phoning1.60457274/frame0383.png', '/vol/biodata/data/human3.6m/training/S1/frames/Phoning1.60457274/frame0856.png', '/vol/biodata/data/human3.6m/training/S1/frames/Phoning1.60457274/frame0424.png', '/vol/biodata/data/human3.6m/training/S1/frames/Phoning1.60457274/frame0045.png', '/vol/biodata/data/human3.6m/training/S1/frames/Phoning1.60457274/frame1605.png', '/vol/biodata/data/human3.6m/training/S1/frames/Phoning1.60457274/frame1088.png', '/vol/biodata/data/human3.6m/training/S1/frames/Phoning1.60457274/frame0619.png', '/vol/biodata/data/human3.6m/training/S1/frames/Phoning1.60457274/frame1059.png', '/vol/biodata/data/human3.6m/training/S1/frames/Phoning1.60457274/frame1438.png', '/vol/biodata/data/human3.6m/training/S1/frames/Phoning1.60457274/frame0278.png', '/vol/biodata/data/human3.6m/training/S1/frames/Phoning1.60457274/frame0741.png', '/vol/biodata/data/human3.6m/training/S1/frames/Phoning1.60457274/frame1101.png', '/vol/biodata/data/human3.6m/training/S1/frames/Phoning1.60457274/frame2014.png', '/vol/biodata/data/human3.6m/training/S1/frames/Phoning1.60457274/frame1912.png', '/vol/biodata/data/human3.6m/training/S1/frames/Phoning1.60457274/frame1560.png', '/vol/biodata/data/human3.6m/training/S1/frames/Phoning1.60457274/frame0487.png', '/vol/biodata/data/human3.6m/training/S1/frames/Phoning1.60457274/frame0320.png', '/vol/biodata/data/human3.6m/training/S1/frames/Phoning1.60457274/frame2475.png', '/vol/biodata/data/human3.6m/training/S1/frames/Phoning1.60457274/frame2303.png', '/vol/biodata/data/human3.6m/training/S1/frames/Phoning1.60457274/frame0824.png', '/vol/biodata/data/human3.6m/training/S1/frames/Phoning1.60457274/frame0456.png', '/vol/biodata/data/human3.6m/training/S1/frames/Phoning1.60457274/frame1216.png', '/vol/biodata/data/human3.6m/training/S1/frames/Phoning1.60457274/frame1677.png', '/vol/biodata/data/human3.6m/training/S1/frames/Phoning1.60457274/frame0037.png', '/vol/biodata/data/human3.6m/training/S1/frames/Phoning1.60457274/frame0790.png', '/vol/biodata/data/human3.6m/training/S1/frames/Phoning1.60457274/frame2580.png', '/vol/biodata/data/human3.6m/training/S1/frames/Phoning1.60457274/frame2227.png', '/vol/biodata/data/human3.6m/training/S1/frames/Phoning1.60457274/frame0572.png', '/vol/biodata/data/human3.6m/training/S1/frames/Phoning1.60457274/frame0900.png', '/vol/biodata/data/human3.6m/training/S1/frames/Phoning1.60457274/frame1495.png', '/vol/biodata/data/human3.6m/training/S1/frames/Phoning1.60457274/frame1332.png', '/vol/biodata/data/human3.6m/training/S1/frames/Phoning1.60457274/frame1753.png', '/vol/biodata/data/human3.6m/training/S1/frames/Phoning1.60457274/frame0113.png', '/vol/biodata/data/human3.6m/training/S1/frames/Phoning1.60457274/frame0665.png', '/vol/biodata/data/human3.6m/training/S1/frames/Phoning1.60457274/frame1025.png', '/vol/biodata/data/human3.6m/training/S1/frames/Phoning1.60457274/frame1782.png', '/vol/biodata/data/human3.6m/training/S1/frames/Phoning1.60457274/frame2130.png', '/vol/biodata/data/human3.6m/training/S1/frames/Phoning1.60457274/frame1444.png', '/vol/biodata/data/human3.6m/training/S1/frames/Phoning1.60457274/frame1836.png', '/vol/biodata/data/human3.6m/training/S1/frames/Phoning1.60457274/frame0204.png', '/vol/biodata/data/human3.6m/training/S1/frames/Phoning1.60457274/frame2551.png', '/vol/biodata/data/human3.6m/training/S1/frames/Phoning1.60457274/frame2068.png', '/vol/biodata/data/human3.6m/training/S1/frames/Phoning1.60457274/frame2409.png', '/vol/biodata/data/human3.6m/training/S1/frames/Phoning1.60457274/frame0889.png', '/vol/biodata/data/human3.6m/training/S1/frames/Phoning1.60457274/frame0858.png', '/vol/biodata/data/human3.6m/training/S1/frames/Phoning1.60457274/frame2220.png', '/vol/biodata/data/human3.6m/training/S1/frames/Phoning1.60457274/frame2587.png', '/vol/biodata/data/human3.6m/training/S1/frames/Phoning1.60457274/frame1335.png', '/vol/biodata/data/human3.6m/training/S1/frames/Phoning1.60457274/frame1492.png', '/vol/biodata/data/human3.6m/training/S1/frames/Phoning1.60457274/frame0907.png', '/vol/biodata/data/human3.6m/training/S1/frames/Phoning1.60457274/frame0575.png', '/vol/biodata/data/human3.6m/training/S1/frames/Phoning1.60457274/frame0114.png', '/vol/biodata/data/human3.6m/training/S1/frames/Phoning1.60457274/frame1754.png', '/vol/biodata/data/human3.6m/training/S1/frames/Phoning1.60457274/frame1785.png', '/vol/biodata/data/human3.6m/training/S1/frames/Phoning1.60457274/frame1022.png', '/vol/biodata/data/human3.6m/training/S1/frames/Phoning1.60457274/frame0662.png', '/vol/biodata/data/human3.6m/training/S1/frames/Phoning1.60457274/frame2137.png', '/vol/biodata/data/human3.6m/training/S1/frames/Phoning1.60457274/frame0203.png', '/vol/biodata/data/human3.6m/training/S1/frames/Phoning1.60457274/frame1831.png', '/vol/biodata/data/human3.6m/training/S1/frames/Phoning1.60457274/frame1443.png', '/vol/biodata/data/human3.6m/training/S1/frames/Phoning1.60457274/frame2556.png', '/vol/biodata/data/human3.6m/training/S1/frames/Phoning1.60457274/frame1969.png', '/vol/biodata/data/human3.6m/training/S1/frames/Phoning1.60457274/frame2378.png', '/vol/biodata/data/human3.6m/training/S1/frames/Phoning1.60457274/frame1349.png', '/vol/biodata/data/human3.6m/training/S1/frames/Phoning1.60457274/frame0509.png', '/vol/biodata/data/human3.6m/training/S1/frames/Phoning1.60457274/frame0168.png', '/vol/biodata/data/human3.6m/training/S1/frames/Phoning1.60457274/frame1728.png', '/vol/biodata/data/human3.6m/training/S1/frames/Phoning1.60457274/frame1398.png', '/vol/biodata/data/human3.6m/training/S1/frames/Phoning1.60457274/frame1106.png', '/vol/biodata/data/human3.6m/training/S1/frames/Phoning1.60457274/frame0746.png', '/vol/biodata/data/human3.6m/training/S1/frames/Phoning1.60457274/frame2013.png', '/vol/biodata/data/human3.6m/training/S1/frames/Phoning1.60457274/frame0327.png', '/vol/biodata/data/human3.6m/training/S1/frames/Phoning1.60457274/frame0480.png', '/vol/biodata/data/human3.6m/training/S1/frames/Phoning1.60457274/frame1567.png', '/vol/biodata/data/human3.6m/training/S1/frames/Phoning1.60457274/frame1915.png', '/vol/biodata/data/human3.6m/training/S1/frames/Phoning1.60457274/frame2472.png', '/vol/biodata/data/human3.6m/training/S1/frames/Phoning1.60457274/frame2304.png', '/vol/biodata/data/human3.6m/training/S1/frames/Phoning1.60457274/frame1211.png', '/vol/biodata/data/human3.6m/training/S1/frames/Phoning1.60457274/frame0451.png', '/vol/biodata/data/human3.6m/training/S1/frames/Phoning1.60457274/frame0823.png', '/vol/biodata/data/human3.6m/training/S1/frames/Phoning1.60457274/frame0797.png', '/vol/biodata/data/human3.6m/training/S1/frames/Phoning1.60457274/frame0030.png', '/vol/biodata/data/human3.6m/training/S1/frames/Phoning1.60457274/frame1670.png', '/vol/biodata/data/human3.6m/training/S1/frames/Phoning1.60457274/frame0236.png', '/vol/biodata/data/human3.6m/training/S1/frames/Phoning1.60457274/frame0591.png', '/vol/biodata/data/human3.6m/training/S1/frames/Phoning1.60457274/frame1804.png', '/vol/biodata/data/human3.6m/training/S1/frames/Phoning1.60457274/frame1476.png', '/vol/biodata/data/human3.6m/training/S1/frames/Phoning1.60457274/frame2563.png', '/vol/biodata/data/human3.6m/training/S1/frames/Phoning1.60457274/frame1017.png', '/vol/biodata/data/human3.6m/training/S1/frames/Phoning1.60457274/frame0657.png', '/vol/biodata/data/human3.6m/training/S1/frames/Phoning1.60457274/frame2102.png', '/vol/biodata/data/human3.6m/training/S1/frames/Phoning1.60457274/frame0686.png', '/vol/biodata/data/human3.6m/training/S1/frames/Phoning1.60457274/frame0121.png', '/vol/biodata/data/human3.6m/training/S1/frames/Phoning1.60457274/frame1761.png', '/vol/biodata/data/human3.6m/training/S1/frames/Phoning1.60457274/frame2215.png', '/vol/biodata/data/human3.6m/training/S1/frames/Phoning1.60457274/frame1300.png', '/vol/biodata/data/human3.6m/training/S1/frames/Phoning1.60457274/frame0932.png', '/vol/biodata/data/human3.6m/training/S1/frames/Phoning1.60457274/frame0540.png', '/vol/biodata/data/human3.6m/training/S1/frames/Phoning1.60457274/frame0079.png', '/vol/biodata/data/human3.6m/training/S1/frames/Phoning1.60457274/frame1639.png', '/vol/biodata/data/human3.6m/training/S1/frames/Phoning1.60457274/frame1258.png', '/vol/biodata/data/human3.6m/training/S1/frames/Phoning1.60457274/frame0418.png', '/vol/biodata/data/human3.6m/training/S1/frames/Phoning1.60457274/frame1289.png', '/vol/biodata/data/human3.6m/training/S1/frames/Phoning1.60457274/frame1878.png', '/vol/biodata/data/human3.6m/training/S1/frames/Phoning1.60457274/frame2608.png', '/vol/biodata/data/human3.6m/training/S1/frames/Phoning1.60457274/frame2269.png', '/vol/biodata/data/human3.6m/training/S1/frames/Phoning1.60457274/frame0005.png', '/vol/biodata/data/human3.6m/training/S1/frames/Phoning1.60457274/frame1645.png', '/vol/biodata/data/human3.6m/training/S1/frames/Phoning1.60457274/frame2331.png', '/vol/biodata/data/human3.6m/training/S1/frames/Phoning1.60457274/frame2496.png', '/vol/biodata/data/human3.6m/training/S1/frames/Phoning1.60457274/frame1224.png', '/vol/biodata/data/human3.6m/training/S1/frames/Phoning1.60457274/frame1583.png', '/vol/biodata/data/human3.6m/training/S1/frames/Phoning1.60457274/frame0464.png', '/vol/biodata/data/human3.6m/training/S1/frames/Phoning1.60457274/frame0816.png', '/vol/biodata/data/human3.6m/training/S1/frames/Phoning1.60457274/frame0312.png', '/vol/biodata/data/human3.6m/training/S1/frames/Phoning1.60457274/frame1552.png', '/vol/biodata/data/human3.6m/training/S1/frames/Phoning1.60457274/frame1920.png', '/vol/biodata/data/human3.6m/training/S1/frames/Phoning1.60457274/frame2447.png', '/vol/biodata/data/human3.6m/training/S1/frames/Phoning1.60457274/frame1694.png', '/vol/biodata/data/human3.6m/training/S1/frames/Phoning1.60457274/frame1133.png', '/vol/biodata/data/human3.6m/training/S1/frames/Phoning1.60457274/frame0773.png', '/vol/biodata/data/human3.6m/training/S1/frames/Phoning1.60457274/frame2026.png', '/vol/biodata/data/human3.6m/training/S1/frames/Phoning1.60457274/frame2518.png', '/vol/biodata/data/human3.6m/training/S1/frames/Phoning1.60457274/frame0998.png', '/vol/biodata/data/human3.6m/training/S1/frames/Phoning1.60457274/frame2179.png', '/vol/biodata/data/human3.6m/training/S1/frames/Phoning1.60457274/frame0949.png', '/vol/biodata/data/human3.6m/training/S1/frames/Phoning1.60457274/frame1642.png', '/vol/biodata/data/human3.6m/training/S1/frames/Phoning1.60457274/frame0002.png', '/vol/biodata/data/human3.6m/training/S1/frames/Phoning1.60457274/frame2491.png', '/vol/biodata/data/human3.6m/training/S1/frames/Phoning1.60457274/frame2336.png', '/vol/biodata/data/human3.6m/training/S1/frames/Phoning1.60457274/frame0811.png', '/vol/biodata/data/human3.6m/training/S1/frames/Phoning1.60457274/frame0463.png', '/vol/biodata/data/human3.6m/training/S1/frames/Phoning1.60457274/frame1584.png', '/vol/biodata/data/human3.6m/training/S1/frames/Phoning1.60457274/frame1223.png', '/vol/biodata/data/human3.6m/training/S1/frames/Phoning1.60457274/frame1927.png', '/vol/biodata/data/human3.6m/training/S1/frames/Phoning1.60457274/frame1555.png', '/vol/biodata/data/human3.6m/training/S1/frames/Phoning1.60457274/frame0315.png', '/vol/biodata/data/human3.6m/training/S1/frames/Phoning1.60457274/frame2440.png', '/vol/biodata/data/human3.6m/training/S1/frames/Phoning1.60457274/frame0774.png', '/vol/biodata/data/human3.6m/training/S1/frames/Phoning1.60457274/frame1134.png', '/vol/biodata/data/human3.6m/training/S1/frames/Phoning1.60457274/frame1693.png', '/vol/biodata/data/human3.6m/training/S1/frames/Phoning1.60457274/frame2021.png', '/vol/biodata/data/human3.6m/training/S1/frames/Phoning1.60457274/frame1471.png', '/vol/biodata/data/human3.6m/training/S1/frames/Phoning1.60457274/frame1803.png', '/vol/biodata/data/human3.6m/training/S1/frames/Phoning1.60457274/frame0596.png', '/vol/biodata/data/human3.6m/training/S1/frames/Phoning1.60457274/frame0231.png', '/vol/biodata/data/human3.6m/training/S1/frames/Phoning1.60457274/frame2564.png', '/vol/biodata/data/human3.6m/training/S1/frames/Phoning1.60457274/frame0650.png', '/vol/biodata/data/human3.6m/training/S1/frames/Phoning1.60457274/frame1010.png', '/vol/biodata/data/human3.6m/training/S1/frames/Phoning1.60457274/frame2105.png', '/vol/biodata/data/human3.6m/training/S1/frames/Phoning1.60457274/frame1766.png', '/vol/biodata/data/human3.6m/training/S1/frames/Phoning1.60457274/frame0126.png', '/vol/biodata/data/human3.6m/training/S1/frames/Phoning1.60457274/frame0681.png', '/vol/biodata/data/human3.6m/training/S1/frames/Phoning1.60457274/frame2212.png', '/vol/biodata/data/human3.6m/training/S1/frames/Phoning1.60457274/frame0547.png', '/vol/biodata/data/human3.6m/training/S1/frames/Phoning1.60457274/frame0935.png', '/vol/biodata/data/human3.6m/training/S1/frames/Phoning1.60457274/frame1307.png', '/vol/biodata/data/human3.6m/training/S1/frames/Phoning1.60457274/frame1199.png', '/vol/biodata/data/human3.6m/training/S1/frames/Phoning1.60457274/frame1529.png', '/vol/biodata/data/human3.6m/training/S1/frames/Phoning1.60457274/frame0369.png', '/vol/biodata/data/human3.6m/training/S1/frames/Phoning1.60457274/frame0708.png', '/vol/biodata/data/human3.6m/training/S1/frames/Phoning1.60457274/frame1148.png', '/vol/biodata/data/human3.6m/training/S1/frames/Phoning1.60457274/frame0243.png', '/vol/biodata/data/human3.6m/training/S1/frames/Phoning1.60457274/frame0996.png', '/vol/biodata/data/human3.6m/training/S1/frames/Phoning1.60457274/frame1403.png', '/vol/biodata/data/human3.6m/training/S1/frames/Phoning1.60457274/frame1871.png', '/vol/biodata/data/human3.6m/training/S1/frames/Phoning1.60457274/frame2516.png', '/vol/biodata/data/human3.6m/training/S1/frames/Phoning1.60457274/frame1062.png', '/vol/biodata/data/human3.6m/training/S1/frames/Phoning1.60457274/frame0622.png', '/vol/biodata/data/human3.6m/training/S1/frames/Phoning1.60457274/frame0185.png', '/vol/biodata/data/human3.6m/training/S1/frames/Phoning1.60457274/frame2177.png', '/vol/biodata/data/human3.6m/training/S1/frames/Phoning1.60457274/frame2601.png', '/vol/biodata/data/human3.6m/training/S1/frames/Phoning1.60457274/frame0154.png', '/vol/biodata/data/human3.6m/training/S1/frames/Phoning1.60457274/frame1714.png', '/vol/biodata/data/human3.6m/training/S1/frames/Phoning1.60457274/frame2260.png', '/vol/biodata/data/human3.6m/training/S1/frames/Phoning1.60457274/frame1375.png', '/vol/biodata/data/human3.6m/training/S1/frames/Phoning1.60457274/frame0292.png', '/vol/biodata/data/human3.6m/training/S1/frames/Phoning1.60457274/frame0535.png', '/vol/biodata/data/human3.6m/training/S1/frames/Phoning1.60457274/frame0947.png', '/vol/biodata/data/human3.6m/training/S1/frames/Phoning1.60457274/frame2338.png', '/vol/biodata/data/human3.6m/training/S1/frames/Phoning1.60457274/frame1929.png', '/vol/biodata/data/human3.6m/training/S1/frames/Phoning1.60457274/frame0598.png', '/vol/biodata/data/human3.6m/training/S1/frames/Phoning1.60457274/frame0128.png', '/vol/biodata/data/human3.6m/training/S1/frames/Phoning1.60457274/frame1768.png', '/vol/biodata/data/human3.6m/training/S1/frames/Phoning1.60457274/frame1309.png', '/vol/biodata/data/human3.6m/training/S1/frames/Phoning1.60457274/frame0549.png', '/vol/biodata/data/human3.6m/training/S1/frames/Phoning1.60457274/frame2082.png', '/vol/biodata/data/human3.6m/training/S1/frames/Phoning1.60457274/frame0070.png', '/vol/biodata/data/human3.6m/training/S1/frames/Phoning1.60457274/frame1630.png', '/vol/biodata/data/human3.6m/training/S1/frames/Phoning1.60457274/frame1197.png', '/vol/biodata/data/human3.6m/training/S1/frames/Phoning1.60457274/frame2344.png', '/vol/biodata/data/human3.6m/training/S1/frames/Phoning1.60457274/frame1251.png', '/vol/biodata/data/human3.6m/training/S1/frames/Phoning1.60457274/frame1984.png', '/vol/biodata/data/human3.6m/training/S1/frames/Phoning1.60457274/frame0863.png', '/vol/biodata/data/human3.6m/training/S1/frames/Phoning1.60457274/frame0411.png', '/vol/biodata/data/human3.6m/training/S1/frames/Phoning1.60457274/frame0367.png', '/vol/biodata/data/human3.6m/training/S1/frames/Phoning1.60457274/frame1280.png', '/vol/biodata/data/human3.6m/training/S1/frames/Phoning1.60457274/frame1955.png', '/vol/biodata/data/human3.6m/training/S1/frames/Phoning1.60457274/frame1527.png', '/vol/biodata/data/human3.6m/training/S1/frames/Phoning1.60457274/frame2395.png', '/vol/biodata/data/human3.6m/training/S1/frames/Phoning1.60457274/frame2432.png', '/vol/biodata/data/human3.6m/training/S1/frames/Phoning1.60457274/frame1146.png', '/vol/biodata/data/human3.6m/training/S1/frames/Phoning1.60457274/frame0706.png', '/vol/biodata/data/human3.6m/training/S1/frames/Phoning1.60457274/frame2053.png', '/vol/biodata/data/human3.6m/training/S1/frames/Phoning1.60457274/frame1478.png', '/vol/biodata/data/human3.6m/training/S1/frames/Phoning1.60457274/frame0238.png', '/vol/biodata/data/human3.6m/training/S1/frames/Phoning1.60457274/frame0659.png', '/vol/biodata/data/human3.6m/training/S1/frames/Phoning1.60457274/frame1019.png', '/vol/biodata/data/human3.6m/training/S1/frames/Phoning1.60457274/frame0688.png', '/vol/biodata/data/human3.6m/training/S1/frames/Phoning1.60457274/frame2085.png', '/vol/biodata/data/human3.6m/training/S1/frames/Phoning1.60457274/frame1190.png', '/vol/biodata/data/human3.6m/training/S1/frames/Phoning1.60457274/frame1637.png', '/vol/biodata/data/human3.6m/training/S1/frames/Phoning1.60457274/frame0077.png', '/vol/biodata/data/human3.6m/training/S1/frames/Phoning1.60457274/frame2343.png', '/vol/biodata/data/human3.6m/training/S1/frames/Phoning1.60457274/frame0416.png', '/vol/biodata/data/human3.6m/training/S1/frames/Phoning1.60457274/frame0864.png', '/vol/biodata/data/human3.6m/training/S1/frames/Phoning1.60457274/frame1983.png', '/vol/biodata/data/human3.6m/training/S1/frames/Phoning1.60457274/frame1256.png', '/vol/biodata/data/human3.6m/training/S1/frames/Phoning1.60457274/frame1520.png', '/vol/biodata/data/human3.6m/training/S1/frames/Phoning1.60457274/frame1952.png', '/vol/biodata/data/human3.6m/training/S1/frames/Phoning1.60457274/frame1287.png', '/vol/biodata/data/human3.6m/training/S1/frames/Phoning1.60457274/frame0360.png', '/vol/biodata/data/human3.6m/training/S1/frames/Phoning1.60457274/frame2435.png', '/vol/biodata/data/human3.6m/training/S1/frames/Phoning1.60457274/frame2392.png', '/vol/biodata/data/human3.6m/training/S1/frames/Phoning1.60457274/frame0701.png', '/vol/biodata/data/human3.6m/training/S1/frames/Phoning1.60457274/frame1141.png', '/vol/biodata/data/human3.6m/training/S1/frames/Phoning1.60457274/frame2054.png', '/vol/biodata/data/human3.6m/training/S1/frames/Phoning1.60457274/frame1876.png', '/vol/biodata/data/human3.6m/training/S1/frames/Phoning1.60457274/frame1404.png', '/vol/biodata/data/human3.6m/training/S1/frames/Phoning1.60457274/frame0991.png', '/vol/biodata/data/human3.6m/training/S1/frames/Phoning1.60457274/frame0244.png', '/vol/biodata/data/human3.6m/training/S1/frames/Phoning1.60457274/frame2511.png', '/vol/biodata/data/human3.6m/training/S1/frames/Phoning1.60457274/frame0182.png', '/vol/biodata/data/human3.6m/training/S1/frames/Phoning1.60457274/frame0625.png', '/vol/biodata/data/human3.6m/training/S1/frames/Phoning1.60457274/frame1065.png', '/vol/biodata/data/human3.6m/training/S1/frames/Phoning1.60457274/frame2170.png', '/vol/biodata/data/human3.6m/training/S1/frames/Phoning1.60457274/frame2606.png', '/vol/biodata/data/human3.6m/training/S1/frames/Phoning1.60457274/frame1713.png', '/vol/biodata/data/human3.6m/training/S1/frames/Phoning1.60457274/frame0153.png', '/vol/biodata/data/human3.6m/training/S1/frames/Phoning1.60457274/frame2267.png', '/vol/biodata/data/human3.6m/training/S1/frames/Phoning1.60457274/frame0940.png', '/vol/biodata/data/human3.6m/training/S1/frames/Phoning1.60457274/frame0532.png', '/vol/biodata/data/human3.6m/training/S1/frames/Phoning1.60457274/frame0295.png', '/vol/biodata/data/human3.6m/training/S1/frames/Phoning1.60457274/frame1372.png', '/vol/biodata/data/human3.6m/training/S1/frames/Phoning1.60457274/frame0818.png', '/vol/biodata/data/human3.6m/training/S1/frames/Phoning1.60457274/frame2498.png', '/vol/biodata/data/human3.6m/training/S1/frames/Phoning1.60457274/frame2449.png', '/vol/biodata/data/human3.6m/training/S1/frames/Phoning1.60457274/frame2028.png', '/vol/biodata/data/human3.6m/training/S1/frames/Phoning1.60457274/frame2366.png', '/vol/biodata/data/human3.6m/training/S1/frames/Phoning1.60457274/frame0841.png', '/vol/biodata/data/human3.6m/training/S1/frames/Phoning1.60457274/frame0433.png', '/vol/biodata/data/human3.6m/training/S1/frames/Phoning1.60457274/frame0394.png', '/vol/biodata/data/human3.6m/training/S1/frames/Phoning1.60457274/frame1273.png', '/vol/biodata/data/human3.6m/training/S1/frames/Phoning1.60457274/frame1612.png', '/vol/biodata/data/human3.6m/training/S1/frames/Phoning1.60457274/frame0052.png', '/vol/biodata/data/human3.6m/training/S1/frames/Phoning1.60457274/frame0083.png', '/vol/biodata/data/human3.6m/training/S1/frames/Phoning1.60457274/frame0724.png', '/vol/biodata/data/human3.6m/training/S1/frames/Phoning1.60457274/frame1164.png', '/vol/biodata/data/human3.6m/training/S1/frames/Phoning1.60457274/frame2071.png', '/vol/biodata/data/human3.6m/training/S1/frames/Phoning1.60457274/frame1977.png', '/vol/biodata/data/human3.6m/training/S1/frames/Phoning1.60457274/frame1505.png', '/vol/biodata/data/human3.6m/training/S1/frames/Phoning1.60457274/frame0890.png', '/vol/biodata/data/human3.6m/training/S1/frames/Phoning1.60457274/frame0345.png', '/vol/biodata/data/human3.6m/training/S1/frames/Phoning1.60457274/frame2410.png', '/vol/biodata/data/human3.6m/training/S1/frames/Phoning1.60457274/frame2129.png', '/vol/biodata/data/human3.6m/training/S1/frames/Phoning1.60457274/frame2548.png', '/vol/biodata/data/human3.6m/training/S1/frames/Phoning1.60457274/frame0919.png', '/vol/biodata/data/human3.6m/training/S1/frames/Phoning1.60457274/frame2599.png', '/vol/biodata/data/human3.6m/training/S1/frames/Phoning1.60457274/frame0789.png', '/vol/biodata/data/human3.6m/training/S1/frames/Phoning1.60457274/frame0758.png', '/vol/biodata/data/human3.6m/training/S1/frames/Phoning1.60457274/frame1118.png', '/vol/biodata/data/human3.6m/training/S1/frames/Phoning1.60457274/frame1579.png', '/vol/biodata/data/human3.6m/training/S1/frames/Phoning1.60457274/frame0339.png', '/vol/biodata/data/human3.6m/training/S1/frames/Phoning1.60457274/frame0600.png', '/vol/biodata/data/human3.6m/training/S1/frames/Phoning1.60457274/frame1040.png', '/vol/biodata/data/human3.6m/training/S1/frames/Phoning1.60457274/frame2155.png', '/vol/biodata/data/human3.6m/training/S1/frames/Phoning1.60457274/frame1421.png', '/vol/biodata/data/human3.6m/training/S1/frames/Phoning1.60457274/frame1853.png', '/vol/biodata/data/human3.6m/training/S1/frames/Phoning1.60457274/frame1386.png', '/vol/biodata/data/human3.6m/training/S1/frames/Phoning1.60457274/frame0261.png', '/vol/biodata/data/human3.6m/training/S1/frames/Phoning1.60457274/frame2534.png', '/vol/biodata/data/human3.6m/training/S1/frames/Phoning1.60457274/frame2293.png', '/vol/biodata/data/human3.6m/training/S1/frames/Phoning1.60457274/frame2242.png', '/vol/biodata/data/human3.6m/training/S1/frames/Phoning1.60457274/frame0517.png', '/vol/biodata/data/human3.6m/training/S1/frames/Phoning1.60457274/frame0965.png', '/vol/biodata/data/human3.6m/training/S1/frames/Phoning1.60457274/frame1882.png', '/vol/biodata/data/human3.6m/training/S1/frames/Phoning1.60457274/frame1357.png', '/vol/biodata/data/human3.6m/training/S1/frames/Phoning1.60457274/frame2184.png', '/vol/biodata/data/human3.6m/training/S1/frames/Phoning1.60457274/frame2623.png', '/vol/biodata/data/human3.6m/training/S1/frames/Phoning1.60457274/frame1091.png', '/vol/biodata/data/human3.6m/training/S1/frames/Phoning1.60457274/frame1736.png', '/vol/biodata/data/human3.6m/training/S1/frames/Phoning1.60457274/frame0176.png', '/vol/biodata/data/human3.6m/training/S1/frames/Phoning1.60457274/frame1208.png', '/vol/biodata/data/human3.6m/training/S1/frames/Phoning1.60457274/frame0448.png', '/vol/biodata/data/human3.6m/training/S1/frames/Phoning1.60457274/frame0029.png', '/vol/biodata/data/human3.6m/training/S1/frames/Phoning1.60457274/frame1669.png', '/vol/biodata/data/human3.6m/training/S1/frames/Phoning1.60457274/frame0499.png', '/vol/biodata/data/human3.6m/training/S1/frames/Phoning1.60457274/frame1047.png', '/vol/biodata/data/human3.6m/training/S1/frames/Phoning1.60457274/frame0607.png', '/vol/biodata/data/human3.6m/training/S1/frames/Phoning1.60457274/frame2152.png', '/vol/biodata/data/human3.6m/training/S1/frames/Phoning1.60457274/frame0266.png', '/vol/biodata/data/human3.6m/training/S1/frames/Phoning1.60457274/frame1381.png', '/vol/biodata/data/human3.6m/training/S1/frames/Phoning1.60457274/frame1854.png', '/vol/biodata/data/human3.6m/training/S1/frames/Phoning1.60457274/frame1426.png', '/vol/biodata/data/human3.6m/training/S1/frames/Phoning1.60457274/frame2294.png', '/vol/biodata/data/human3.6m/training/S1/frames/Phoning1.60457274/frame2533.png', '/vol/biodata/data/human3.6m/training/S1/frames/Phoning1.60457274/frame2245.png', '/vol/biodata/data/human3.6m/training/S1/frames/Phoning1.60457274/frame1350.png', '/vol/biodata/data/human3.6m/training/S1/frames/Phoning1.60457274/frame1885.png', '/vol/biodata/data/human3.6m/training/S1/frames/Phoning1.60457274/frame0962.png', '/vol/biodata/data/human3.6m/training/S1/frames/Phoning1.60457274/frame0510.png', '/vol/biodata/data/human3.6m/training/S1/frames/Phoning1.60457274/frame2624.png', '/vol/biodata/data/human3.6m/training/S1/frames/Phoning1.60457274/frame2183.png', '/vol/biodata/data/human3.6m/training/S1/frames/Phoning1.60457274/frame0171.png', '/vol/biodata/data/human3.6m/training/S1/frames/Phoning1.60457274/frame1731.png', '/vol/biodata/data/human3.6m/training/S1/frames/Phoning1.60457274/frame1096.png', '/vol/biodata/data/human3.6m/training/S1/frames/Phoning1.60457274/frame2361.png', '/vol/biodata/data/human3.6m/training/S1/frames/Phoning1.60457274/frame1274.png', '/vol/biodata/data/human3.6m/training/S1/frames/Phoning1.60457274/frame0393.png', '/vol/biodata/data/human3.6m/training/S1/frames/Phoning1.60457274/frame0434.png', '/vol/biodata/data/human3.6m/training/S1/frames/Phoning1.60457274/frame0846.png', '/vol/biodata/data/human3.6m/training/S1/frames/Phoning1.60457274/frame0055.png', '/vol/biodata/data/human3.6m/training/S1/frames/Phoning1.60457274/frame1615.png', '/vol/biodata/data/human3.6m/training/S1/frames/Phoning1.60457274/frame1163.png', '/vol/biodata/data/human3.6m/training/S1/frames/Phoning1.60457274/frame0723.png', '/vol/biodata/data/human3.6m/training/S1/frames/Phoning1.60457274/frame0084.png', '/vol/biodata/data/human3.6m/training/S1/frames/Phoning1.60457274/frame2076.png', '/vol/biodata/data/human3.6m/training/S1/frames/Phoning1.60457274/frame0342.png', '/vol/biodata/data/human3.6m/training/S1/frames/Phoning1.60457274/frame0897.png', '/vol/biodata/data/human3.6m/training/S1/frames/Phoning1.60457274/frame1502.png', '/vol/biodata/data/human3.6m/training/S1/frames/Phoning1.60457274/frame1970.png', '/vol/biodata/data/human3.6m/training/S1/frames/Phoning1.60457274/frame2417.png', '/vol/biodata/data/human3.6m/training/S1/frames/Phoning1.60457274/frame1828.png', '/vol/biodata/data/human3.6m/training/S1/frames/Phoning1.60457274/frame2239.png', '/vol/biodata/data/human3.6m/training/S1/frames/Phoning1.60457274/frame2313.png', '/vol/biodata/data/human3.6m/training/S1/frames/Phoning1.60457274/frame0446.png', '/vol/biodata/data/human3.6m/training/S1/frames/Phoning1.60457274/frame0834.png', '/vol/biodata/data/human3.6m/training/S1/frames/Phoning1.60457274/frame1206.png', '/vol/biodata/data/human3.6m/training/S1/frames/Phoning1.60457274/frame1667.png', '/vol/biodata/data/human3.6m/training/S1/frames/Phoning1.60457274/frame0027.png', '/vol/biodata/data/human3.6m/training/S1/frames/Phoning1.60457274/frame0780.png', '/vol/biodata/data/human3.6m/training/S1/frames/Phoning1.60457274/frame0751.png', '/vol/biodata/data/human3.6m/training/S1/frames/Phoning1.60457274/frame1111.png', '/vol/biodata/data/human3.6m/training/S1/frames/Phoning1.60457274/frame2004.png', '/vol/biodata/data/human3.6m/training/S1/frames/Phoning1.60457274/frame1570.png', '/vol/biodata/data/human3.6m/training/S1/frames/Phoning1.60457274/frame1902.png', '/vol/biodata/data/human3.6m/training/S1/frames/Phoning1.60457274/frame0497.png', '/vol/biodata/data/human3.6m/training/S1/frames/Phoning1.60457274/frame0330.png', '/vol/biodata/data/human3.6m/training/S1/frames/Phoning1.60457274/frame2465.png', '/vol/biodata/data/human3.6m/training/S1/frames/Phoning1.60457274/frame0609.png', '/vol/biodata/data/human3.6m/training/S1/frames/Phoning1.60457274/frame1049.png', '/vol/biodata/data/human3.6m/training/S1/frames/Phoning1.60457274/frame1428.png', '/vol/biodata/data/human3.6m/training/S1/frames/Phoning1.60457274/frame0268.png', '/vol/biodata/data/human3.6m/training/S1/frames/Phoning1.60457274/frame1098.png', '/vol/biodata/data/human3.6m/training/S1/frames/Phoning1.60457274/frame0848.png', '/vol/biodata/data/human3.6m/training/S1/frames/Phoning1.60457274/frame2078.png', '/vol/biodata/data/human3.6m/training/S1/frames/Phoning1.60457274/frame2419.png', '/vol/biodata/data/human3.6m/training/S1/frames/Phoning1.60457274/frame0899.png', '/vol/biodata/data/human3.6m/training/S1/frames/Phoning1.60457274/frame0675.png', '/vol/biodata/data/human3.6m/training/S1/frames/Phoning1.60457274/frame1035.png', '/vol/biodata/data/human3.6m/training/S1/frames/Phoning1.60457274/frame1792.png', '/vol/biodata/data/human3.6m/training/S1/frames/Phoning1.60457274/frame2120.png', '/vol/biodata/data/human3.6m/training/S1/frames/Phoning1.60457274/frame1826.png', '/vol/biodata/data/human3.6m/training/S1/frames/Phoning1.60457274/frame1454.png', '/vol/biodata/data/human3.6m/training/S1/frames/Phoning1.60457274/frame0214.png', '/vol/biodata/data/human3.6m/training/S1/frames/Phoning1.60457274/frame2541.png', '/vol/biodata/data/human3.6m/training/S1/frames/Phoning1.60457274/frame2590.png', '/vol/biodata/data/human3.6m/training/S1/frames/Phoning1.60457274/frame2237.png', '/vol/biodata/data/human3.6m/training/S1/frames/Phoning1.60457274/frame0910.png', '/vol/biodata/data/human3.6m/training/S1/frames/Phoning1.60457274/frame0562.png', '/vol/biodata/data/human3.6m/training/S1/frames/Phoning1.60457274/frame1485.png', '/vol/biodata/data/human3.6m/training/S1/frames/Phoning1.60457274/frame1322.png', '/vol/biodata/data/human3.6m/training/S1/frames/Phoning1.60457274/frame1743.png', '/vol/biodata/data/human3.6m/training/S1/frames/Phoning1.60457274/frame0103.png', '/vol/biodata/data/human3.6m/training/S1/frames/Phoning1.60457274/frame2368.png', '/vol/biodata/data/human3.6m/training/S1/frames/Phoning1.60457274/frame1979.png', '/vol/biodata/data/human3.6m/training/S1/frames/Phoning1.60457274/frame1795.png', '/vol/biodata/data/human3.6m/training/S1/frames/Phoning1.60457274/frame1032.png', '/vol/biodata/data/human3.6m/training/S1/frames/Phoning1.60457274/frame0672.png', '/vol/biodata/data/human3.6m/training/S1/frames/Phoning1.60457274/frame2127.png', '/vol/biodata/data/human3.6m/training/S1/frames/Phoning1.60457274/frame0213.png', '/vol/biodata/data/human3.6m/training/S1/frames/Phoning1.60457274/frame1453.png', '/vol/biodata/data/human3.6m/training/S1/frames/Phoning1.60457274/frame1821.png', '/vol/biodata/data/human3.6m/training/S1/frames/Phoning1.60457274/frame2546.png', '/vol/biodata/data/human3.6m/training/S1/frames/Phoning1.60457274/frame2230.png', '/vol/biodata/data/human3.6m/training/S1/frames/Phoning1.60457274/frame2597.png', '/vol/biodata/data/human3.6m/training/S1/frames/Phoning1.60457274/frame1325.png', '/vol/biodata/data/human3.6m/training/S1/frames/Phoning1.60457274/frame1482.png', '/vol/biodata/data/human3.6m/training/S1/frames/Phoning1.60457274/frame0565.png', '/vol/biodata/data/human3.6m/training/S1/frames/Phoning1.60457274/frame0917.png', '/vol/biodata/data/human3.6m/training/S1/frames/Phoning1.60457274/frame0104.png', '/vol/biodata/data/human3.6m/training/S1/frames/Phoning1.60457274/frame1744.png', '/vol/biodata/data/human3.6m/training/S1/frames/Phoning1.60457274/frame2314.png', '/vol/biodata/data/human3.6m/training/S1/frames/Phoning1.60457274/frame1201.png', '/vol/biodata/data/human3.6m/training/S1/frames/Phoning1.60457274/frame0833.png', '/vol/biodata/data/human3.6m/training/S1/frames/Phoning1.60457274/frame0441.png', '/vol/biodata/data/human3.6m/training/S1/frames/Phoning1.60457274/frame0787.png', '/vol/biodata/data/human3.6m/training/S1/frames/Phoning1.60457274/frame0020.png', '/vol/biodata/data/human3.6m/training/S1/frames/Phoning1.60457274/frame1660.png', '/vol/biodata/data/human3.6m/training/S1/frames/Phoning1.60457274/frame1116.png', '/vol/biodata/data/human3.6m/training/S1/frames/Phoning1.60457274/frame0756.png', '/vol/biodata/data/human3.6m/training/S1/frames/Phoning1.60457274/frame2003.png', '/vol/biodata/data/human3.6m/training/S1/frames/Phoning1.60457274/frame0337.png', '/vol/biodata/data/human3.6m/training/S1/frames/Phoning1.60457274/frame0490.png', '/vol/biodata/data/human3.6m/training/S1/frames/Phoning1.60457274/frame1905.png', '/vol/biodata/data/human3.6m/training/S1/frames/Phoning1.60457274/frame1577.png', '/vol/biodata/data/human3.6m/training/S1/frames/Phoning1.60457274/frame2462.png', '/vol/biodata/data/human3.6m/training/S1/frames/Phoning1.60457274/frame1388.png', '/vol/biodata/data/human3.6m/training/S1/frames/Phoning1.60457274/frame1359.png', '/vol/biodata/data/human3.6m/training/S1/frames/Phoning1.60457274/frame0519.png', '/vol/biodata/data/human3.6m/training/S1/frames/Phoning1.60457274/frame0178.png', '/vol/biodata/data/human3.6m/training/S1/frames/Phoning1.60457274/frame1738.png', '/vol/biodata/data/human3.6m/training/S1/frames/Phoning1.60457274/frame1299.png', '/vol/biodata/data/human3.6m/training/S1/frames/Phoning1.60457274/frame0069.png', '/vol/biodata/data/human3.6m/training/S1/frames/Phoning1.60457274/frame1629.png', '/vol/biodata/data/human3.6m/training/S1/frames/Phoning1.60457274/frame1248.png', '/vol/biodata/data/human3.6m/training/S1/frames/Phoning1.60457274/frame0408.png', '/vol/biodata/data/human3.6m/training/S1/frames/Phoning1.60457274/frame0696.png', '/vol/biodata/data/human3.6m/training/S1/frames/Phoning1.60457274/frame0131.png', '/vol/biodata/data/human3.6m/training/S1/frames/Phoning1.60457274/frame1771.png', '/vol/biodata/data/human3.6m/training/S1/frames/Phoning1.60457274/frame2205.png', '/vol/biodata/data/human3.6m/training/S1/frames/Phoning1.60457274/frame1310.png', '/vol/biodata/data/human3.6m/training/S1/frames/Phoning1.60457274/frame0550.png', '/vol/biodata/data/human3.6m/training/S1/frames/Phoning1.60457274/frame0922.png', '/vol/biodata/data/human3.6m/training/S1/frames/Phoning1.60457274/frame0226.png', '/vol/biodata/data/human3.6m/training/S1/frames/Phoning1.60457274/frame0581.png', '/vol/biodata/data/human3.6m/training/S1/frames/Phoning1.60457274/frame1466.png', '/vol/biodata/data/human3.6m/training/S1/frames/Phoning1.60457274/frame1814.png', '/vol/biodata/data/human3.6m/training/S1/frames/Phoning1.60457274/frame2573.png', '/vol/biodata/data/human3.6m/training/S1/frames/Phoning1.60457274/frame1007.png', '/vol/biodata/data/human3.6m/training/S1/frames/Phoning1.60457274/frame0647.png', '/vol/biodata/data/human3.6m/training/S1/frames/Phoning1.60457274/frame2112.png', '/vol/biodata/data/human3.6m/training/S1/frames/Phoning1.60457274/frame0302.png', '/vol/biodata/data/human3.6m/training/S1/frames/Phoning1.60457274/frame1930.png', '/vol/biodata/data/human3.6m/training/S1/frames/Phoning1.60457274/frame1542.png', '/vol/biodata/data/human3.6m/training/S1/frames/Phoning1.60457274/frame2457.png', '/vol/biodata/data/human3.6m/training/S1/frames/Phoning1.60457274/frame1684.png', '/vol/biodata/data/human3.6m/training/S1/frames/Phoning1.60457274/frame1123.png', '/vol/biodata/data/human3.6m/training/S1/frames/Phoning1.60457274/frame0763.png', '/vol/biodata/data/human3.6m/training/S1/frames/Phoning1.60457274/frame2036.png', '/vol/biodata/data/human3.6m/training/S1/frames/Phoning1.60457274/frame0015.png', '/vol/biodata/data/human3.6m/training/S1/frames/Phoning1.60457274/frame1655.png', '/vol/biodata/data/human3.6m/training/S1/frames/Phoning1.60457274/frame2321.png', '/vol/biodata/data/human3.6m/training/S1/frames/Phoning1.60457274/frame2486.png', '/vol/biodata/data/human3.6m/training/S1/frames/Phoning1.60457274/frame1234.png', '/vol/biodata/data/human3.6m/training/S1/frames/Phoning1.60457274/frame1593.png', '/vol/biodata/data/human3.6m/training/S1/frames/Phoning1.60457274/frame0806.png', '/vol/biodata/data/human3.6m/training/S1/frames/Phoning1.60457274/frame0474.png', '/vol/biodata/data/human3.6m/training/S1/frames/Phoning1.60457274/frame2618.png', '/vol/biodata/data/human3.6m/training/S1/frames/Phoning1.60457274/frame2279.png', '/vol/biodata/data/human3.6m/training/S1/frames/Phoning1.60457274/frame1868.png', '/vol/biodata/data/human3.6m/training/S1/frames/Phoning1.60457274/frame1545.png', '/vol/biodata/data/human3.6m/training/S1/frames/Phoning1.60457274/frame1937.png', '/vol/biodata/data/human3.6m/training/S1/frames/Phoning1.60457274/frame0305.png', '/vol/biodata/data/human3.6m/training/S1/frames/Phoning1.60457274/frame2450.png', '/vol/biodata/data/human3.6m/training/S1/frames/Phoning1.60457274/frame0764.png', '/vol/biodata/data/human3.6m/training/S1/frames/Phoning1.60457274/frame1124.png', '/vol/biodata/data/human3.6m/training/S1/frames/Phoning1.60457274/frame1683.png', '/vol/biodata/data/human3.6m/training/S1/frames/Phoning1.60457274/frame2031.png', '/vol/biodata/data/human3.6m/training/S1/frames/Phoning1.60457274/frame1652.png', '/vol/biodata/data/human3.6m/training/S1/frames/Phoning1.60457274/frame0012.png', '/vol/biodata/data/human3.6m/training/S1/frames/Phoning1.60457274/frame2481.png', '/vol/biodata/data/human3.6m/training/S1/frames/Phoning1.60457274/frame2326.png', '/vol/biodata/data/human3.6m/training/S1/frames/Phoning1.60457274/frame0473.png', '/vol/biodata/data/human3.6m/training/S1/frames/Phoning1.60457274/frame0801.png', '/vol/biodata/data/human3.6m/training/S1/frames/Phoning1.60457274/frame1594.png', '/vol/biodata/data/human3.6m/training/S1/frames/Phoning1.60457274/frame1233.png', '/vol/biodata/data/human3.6m/training/S1/frames/Phoning1.60457274/frame0959.png', '/vol/biodata/data/human3.6m/training/S1/frames/Phoning1.60457274/frame2508.png', '/vol/biodata/data/human3.6m/training/S1/frames/Phoning1.60457274/frame0988.png', '/vol/biodata/data/human3.6m/training/S1/frames/Phoning1.60457274/frame2169.png', '/vol/biodata/data/human3.6m/training/S1/frames/Phoning1.60457274/frame1539.png', '/vol/biodata/data/human3.6m/training/S1/frames/Phoning1.60457274/frame0379.png', '/vol/biodata/data/human3.6m/training/S1/frames/Phoning1.60457274/frame0718.png', '/vol/biodata/data/human3.6m/training/S1/frames/Phoning1.60457274/frame1158.png', '/vol/biodata/data/human3.6m/training/S1/frames/Phoning1.60457274/frame1189.png', '/vol/biodata/data/human3.6m/training/S1/frames/Phoning1.60457274/frame1776.png', '/vol/biodata/data/human3.6m/training/S1/frames/Phoning1.60457274/frame0136.png', '/vol/biodata/data/human3.6m/training/S1/frames/Phoning1.60457274/frame0691.png', '/vol/biodata/data/human3.6m/training/S1/frames/Phoning1.60457274/frame2202.png', '/vol/biodata/data/human3.6m/training/S1/frames/Phoning1.60457274/frame0925.png', '/vol/biodata/data/human3.6m/training/S1/frames/Phoning1.60457274/frame0557.png', '/vol/biodata/data/human3.6m/training/S1/frames/Phoning1.60457274/frame1317.png', '/vol/biodata/data/human3.6m/training/S1/frames/Phoning1.60457274/frame1813.png', '/vol/biodata/data/human3.6m/training/S1/frames/Phoning1.60457274/frame1461.png', '/vol/biodata/data/human3.6m/training/S1/frames/Phoning1.60457274/frame0586.png', '/vol/biodata/data/human3.6m/training/S1/frames/Phoning1.60457274/frame0221.png', '/vol/biodata/data/human3.6m/training/S1/frames/Phoning1.60457274/frame2574.png', '/vol/biodata/data/human3.6m/training/S1/frames/Phoning1.60457274/frame0640.png', '/vol/biodata/data/human3.6m/training/S1/frames/Phoning1.60457274/frame1000.png', '/vol/biodata/data/human3.6m/training/S1/frames/Phoning1.60457274/frame2115.png', '/vol/biodata/data/human3.6m/training/S1/frames/Phoning1.60457274/frame1939.png', '/vol/biodata/data/human3.6m/training/S1/frames/Phoning1.60457274/frame2328.png', '/vol/biodata/data/human3.6m/training/S1/frames/Phoning1.60457274/frame2611.png', '/vol/biodata/data/human3.6m/training/S1/frames/Phoning1.60457274/frame0144.png', '/vol/biodata/data/human3.6m/training/S1/frames/Phoning1.60457274/frame1704.png', '/vol/biodata/data/human3.6m/training/S1/frames/Phoning1.60457274/frame2270.png', '/vol/biodata/data/human3.6m/training/S1/frames/Phoning1.60457274/frame1365.png', '/vol/biodata/data/human3.6m/training/S1/frames/Phoning1.60457274/frame0282.png', '/vol/biodata/data/human3.6m/training/S1/frames/Phoning1.60457274/frame0957.png', '/vol/biodata/data/human3.6m/training/S1/frames/Phoning1.60457274/frame0525.png', '/vol/biodata/data/human3.6m/training/S1/frames/Phoning1.60457274/frame0253.png', '/vol/biodata/data/human3.6m/training/S1/frames/Phoning1.60457274/frame0986.png', '/vol/biodata/data/human3.6m/training/S1/frames/Phoning1.60457274/frame1861.png', '/vol/biodata/data/human3.6m/training/S1/frames/Phoning1.60457274/frame1413.png', '/vol/biodata/data/human3.6m/training/S1/frames/Phoning1.60457274/frame2506.png', '/vol/biodata/data/human3.6m/training/S1/frames/Phoning1.60457274/frame1072.png', '/vol/biodata/data/human3.6m/training/S1/frames/Phoning1.60457274/frame0632.png', '/vol/biodata/data/human3.6m/training/S1/frames/Phoning1.60457274/frame0195.png', '/vol/biodata/data/human3.6m/training/S1/frames/Phoning1.60457274/frame2167.png', '/vol/biodata/data/human3.6m/training/S1/frames/Phoning1.60457274/frame0377.png', '/vol/biodata/data/human3.6m/training/S1/frames/Phoning1.60457274/frame1290.png', '/vol/biodata/data/human3.6m/training/S1/frames/Phoning1.60457274/frame1537.png', '/vol/biodata/data/human3.6m/training/S1/frames/Phoning1.60457274/frame1945.png', '/vol/biodata/data/human3.6m/training/S1/frames/Phoning1.60457274/frame2385.png', '/vol/biodata/data/human3.6m/training/S1/frames/Phoning1.60457274/frame2422.png', '/vol/biodata/data/human3.6m/training/S1/frames/Phoning1.60457274/frame1156.png', '/vol/biodata/data/human3.6m/training/S1/frames/Phoning1.60457274/frame0716.png', '/vol/biodata/data/human3.6m/training/S1/frames/Phoning1.60457274/frame2043.png', '/vol/biodata/data/human3.6m/training/S1/frames/Phoning1.60457274/frame2092.png', '/vol/biodata/data/human3.6m/training/S1/frames/Phoning1.60457274/frame0060.png', '/vol/biodata/data/human3.6m/training/S1/frames/Phoning1.60457274/frame1620.png', '/vol/biodata/data/human3.6m/training/S1/frames/Phoning1.60457274/frame1187.png', '/vol/biodata/data/human3.6m/training/S1/frames/Phoning1.60457274/frame2354.png', '/vol/biodata/data/human3.6m/training/S1/frames/Phoning1.60457274/frame1241.png', '/vol/biodata/data/human3.6m/training/S1/frames/Phoning1.60457274/frame1994.png', '/vol/biodata/data/human3.6m/training/S1/frames/Phoning1.60457274/frame0401.png', '/vol/biodata/data/human3.6m/training/S1/frames/Phoning1.60457274/frame0873.png', '/vol/biodata/data/human3.6m/training/S1/frames/Phoning1.60457274/frame0138.png', '/vol/biodata/data/human3.6m/training/S1/frames/Phoning1.60457274/frame1778.png', '/vol/biodata/data/human3.6m/training/S1/frames/Phoning1.60457274/frame1319.png', '/vol/biodata/data/human3.6m/training/S1/frames/Phoning1.60457274/frame0559.png', '/vol/biodata/data/human3.6m/training/S1/frames/Phoning1.60457274/frame0588.png', '/vol/biodata/data/human3.6m/training/S1/frames/Phoning1.60457274/frame1942.png', '/vol/biodata/data/human3.6m/training/S1/frames/Phoning1.60457274/frame1530.png', '/vol/biodata/data/human3.6m/training/S1/frames/Phoning1.60457274/frame1297.png', '/vol/biodata/data/human3.6m/training/S1/frames/Phoning1.60457274/frame0370.png', '/vol/biodata/data/human3.6m/training/S1/frames/Phoning1.60457274/frame2425.png', '/vol/biodata/data/human3.6m/training/S1/frames/Phoning1.60457274/frame2382.png', '/vol/biodata/data/human3.6m/training/S1/frames/Phoning1.60457274/frame0711.png', '/vol/biodata/data/human3.6m/training/S1/frames/Phoning1.60457274/frame1151.png', '/vol/biodata/data/human3.6m/training/S1/frames/Phoning1.60457274/frame2044.png', '/vol/biodata/data/human3.6m/training/S1/frames/Phoning1.60457274/frame2095.png', '/vol/biodata/data/human3.6m/training/S1/frames/Phoning1.60457274/frame1180.png', '/vol/biodata/data/human3.6m/training/S1/frames/Phoning1.60457274/frame1627.png', '/vol/biodata/data/human3.6m/training/S1/frames/Phoning1.60457274/frame0067.png', '/vol/biodata/data/human3.6m/training/S1/frames/Phoning1.60457274/frame2353.png', '/vol/biodata/data/human3.6m/training/S1/frames/Phoning1.60457274/frame0874.png', '/vol/biodata/data/human3.6m/training/S1/frames/Phoning1.60457274/frame0406.png', '/vol/biodata/data/human3.6m/training/S1/frames/Phoning1.60457274/frame1993.png', '/vol/biodata/data/human3.6m/training/S1/frames/Phoning1.60457274/frame1246.png', '/vol/biodata/data/human3.6m/training/S1/frames/Phoning1.60457274/frame0698.png', '/vol/biodata/data/human3.6m/training/S1/frames/Phoning1.60457274/frame1468.png', '/vol/biodata/data/human3.6m/training/S1/frames/Phoning1.60457274/frame0228.png', '/vol/biodata/data/human3.6m/training/S1/frames/Phoning1.60457274/frame0649.png', '/vol/biodata/data/human3.6m/training/S1/frames/Phoning1.60457274/frame1009.png', '/vol/biodata/data/human3.6m/training/S1/frames/Phoning1.60457274/frame2459.png', '/vol/biodata/data/human3.6m/training/S1/frames/Phoning1.60457274/frame2038.png', '/vol/biodata/data/human3.6m/training/S1/frames/Phoning1.60457274/frame0808.png', '/vol/biodata/data/human3.6m/training/S1/frames/Phoning1.60457274/frame2488.png', '/vol/biodata/data/human3.6m/training/S1/frames/Phoning1.60457274/frame2616.png', '/vol/biodata/data/human3.6m/training/S1/frames/Phoning1.60457274/frame1703.png', '/vol/biodata/data/human3.6m/training/S1/frames/Phoning1.60457274/frame0143.png', '/vol/biodata/data/human3.6m/training/S1/frames/Phoning1.60457274/frame2277.png', '/vol/biodata/data/human3.6m/training/S1/frames/Phoning1.60457274/frame0522.png', '/vol/biodata/data/human3.6m/training/S1/frames/Phoning1.60457274/frame0950.png', '/vol/biodata/data/human3.6m/training/S1/frames/Phoning1.60457274/frame0285.png', '/vol/biodata/data/human3.6m/training/S1/frames/Phoning1.60457274/frame1362.png', '/vol/biodata/data/human3.6m/training/S1/frames/Phoning1.60457274/frame1414.png', '/vol/biodata/data/human3.6m/training/S1/frames/Phoning1.60457274/frame1866.png', '/vol/biodata/data/human3.6m/training/S1/frames/Phoning1.60457274/frame0981.png', '/vol/biodata/data/human3.6m/training/S1/frames/Phoning1.60457274/frame0254.png', '/vol/biodata/data/human3.6m/training/S1/frames/Phoning1.60457274/frame2501.png', '/vol/biodata/data/human3.6m/training/S1/frames/Phoning1.60457274/frame0192.png', '/vol/biodata/data/human3.6m/training/S1/frames/Phoning1.60457274/frame0635.png', '/vol/biodata/data/human3.6m/training/S1/frames/Phoning1.60457274/frame1075.png', '/vol/biodata/data/human3.6m/training/S1/frames/Phoning1.60457274/frame2160.png', '/vol/biodata/data/human3.6m/training/S1/frames/Phoning1.60457274/frame1479.png', '/vol/biodata/data/human3.6m/training/S1/frames/Phoning1.60457274/frame0239.png', '/vol/biodata/data/human3.6m/training/S1/frames/Phoning1.60457274/frame0658.png', '/vol/biodata/data/human3.6m/training/S1/frames/Phoning1.60457274/frame1018.png', '/vol/biodata/data/human3.6m/training/S1/frames/Phoning1.60457274/frame0689.png', '/vol/biodata/data/human3.6m/training/S1/frames/Phoning1.60457274/frame1636.png', '/vol/biodata/data/human3.6m/training/S1/frames/Phoning1.60457274/frame1191.png', '/vol/biodata/data/human3.6m/training/S1/frames/Phoning1.60457274/frame0076.png', '/vol/biodata/data/human3.6m/training/S1/frames/Phoning1.60457274/frame2084.png', '/vol/biodata/data/human3.6m/training/S1/frames/Phoning1.60457274/frame0417.png', '/vol/biodata/data/human3.6m/training/S1/frames/Phoning1.60457274/frame0865.png', '/vol/biodata/data/human3.6m/training/S1/frames/Phoning1.60457274/frame1257.png', '/vol/biodata/data/human3.6m/training/S1/frames/Phoning1.60457274/frame1982.png', '/vol/biodata/data/human3.6m/training/S1/frames/Phoning1.60457274/frame2342.png', '/vol/biodata/data/human3.6m/training/S1/frames/Phoning1.60457274/frame2393.png', '/vol/biodata/data/human3.6m/training/S1/frames/Phoning1.60457274/frame2434.png', '/vol/biodata/data/human3.6m/training/S1/frames/Phoning1.60457274/frame1286.png', '/vol/biodata/data/human3.6m/training/S1/frames/Phoning1.60457274/frame1521.png', '/vol/biodata/data/human3.6m/training/S1/frames/Phoning1.60457274/frame1953.png', '/vol/biodata/data/human3.6m/training/S1/frames/Phoning1.60457274/frame0361.png', '/vol/biodata/data/human3.6m/training/S1/frames/Phoning1.60457274/frame2055.png', '/vol/biodata/data/human3.6m/training/S1/frames/Phoning1.60457274/frame0700.png', '/vol/biodata/data/human3.6m/training/S1/frames/Phoning1.60457274/frame1140.png', '/vol/biodata/data/human3.6m/training/S1/frames/Phoning1.60457274/frame2510.png', '/vol/biodata/data/human3.6m/training/S1/frames/Phoning1.60457274/frame1877.png', '/vol/biodata/data/human3.6m/training/S1/frames/Phoning1.60457274/frame1405.png', '/vol/biodata/data/human3.6m/training/S1/frames/Phoning1.60457274/frame0245.png', '/vol/biodata/data/human3.6m/training/S1/frames/Phoning1.60457274/frame0990.png', '/vol/biodata/data/human3.6m/training/S1/frames/Phoning1.60457274/frame2171.png', '/vol/biodata/data/human3.6m/training/S1/frames/Phoning1.60457274/frame0624.png', '/vol/biodata/data/human3.6m/training/S1/frames/Phoning1.60457274/frame0183.png', '/vol/biodata/data/human3.6m/training/S1/frames/Phoning1.60457274/frame1064.png', '/vol/biodata/data/human3.6m/training/S1/frames/Phoning1.60457274/frame1712.png', '/vol/biodata/data/human3.6m/training/S1/frames/Phoning1.60457274/frame0152.png', '/vol/biodata/data/human3.6m/training/S1/frames/Phoning1.60457274/frame2607.png', '/vol/biodata/data/human3.6m/training/S1/frames/Phoning1.60457274/frame0294.png', '/vol/biodata/data/human3.6m/training/S1/frames/Phoning1.60457274/frame0941.png', '/vol/biodata/data/human3.6m/training/S1/frames/Phoning1.60457274/frame0533.png', '/vol/biodata/data/human3.6m/training/S1/frames/Phoning1.60457274/frame1373.png', '/vol/biodata/data/human3.6m/training/S1/frames/Phoning1.60457274/frame2266.png', '/vol/biodata/data/human3.6m/training/S1/frames/Phoning1.60457274/frame2499.png', '/vol/biodata/data/human3.6m/training/S1/frames/Phoning1.60457274/frame0819.png', '/vol/biodata/data/human3.6m/training/S1/frames/Phoning1.60457274/frame2448.png', '/vol/biodata/data/human3.6m/training/S1/frames/Phoning1.60457274/frame2029.png', '/vol/biodata/data/human3.6m/training/S1/frames/Phoning1.60457274/frame2517.png', '/vol/biodata/data/human3.6m/training/S1/frames/Phoning1.60457274/frame0997.png', '/vol/biodata/data/human3.6m/training/S1/frames/Phoning1.60457274/frame0242.png', '/vol/biodata/data/human3.6m/training/S1/frames/Phoning1.60457274/frame1402.png', '/vol/biodata/data/human3.6m/training/S1/frames/Phoning1.60457274/frame1870.png', '/vol/biodata/data/human3.6m/training/S1/frames/Phoning1.60457274/frame2176.png', '/vol/biodata/data/human3.6m/training/S1/frames/Phoning1.60457274/frame1063.png', '/vol/biodata/data/human3.6m/training/S1/frames/Phoning1.60457274/frame0184.png', '/vol/biodata/data/human3.6m/training/S1/frames/Phoning1.60457274/frame0623.png', '/vol/biodata/data/human3.6m/training/S1/frames/Phoning1.60457274/frame0155.png', '/vol/biodata/data/human3.6m/training/S1/frames/Phoning1.60457274/frame1715.png', '/vol/biodata/data/human3.6m/training/S1/frames/Phoning1.60457274/frame2600.png', '/vol/biodata/data/human3.6m/training/S1/frames/Phoning1.60457274/frame1374.png', '/vol/biodata/data/human3.6m/training/S1/frames/Phoning1.60457274/frame0534.png', '/vol/biodata/data/human3.6m/training/S1/frames/Phoning1.60457274/frame0946.png', '/vol/biodata/data/human3.6m/training/S1/frames/Phoning1.60457274/frame0293.png', '/vol/biodata/data/human3.6m/training/S1/frames/Phoning1.60457274/frame2261.png', '/vol/biodata/data/human3.6m/training/S1/frames/Phoning1.60457274/frame2339.png', '/vol/biodata/data/human3.6m/training/S1/frames/Phoning1.60457274/frame1928.png', '/vol/biodata/data/human3.6m/training/S1/frames/Phoning1.60457274/frame0599.png', '/vol/biodata/data/human3.6m/training/S1/frames/Phoning1.60457274/frame0129.png', '/vol/biodata/data/human3.6m/training/S1/frames/Phoning1.60457274/frame1769.png', '/vol/biodata/data/human3.6m/training/S1/frames/Phoning1.60457274/frame1308.png', '/vol/biodata/data/human3.6m/training/S1/frames/Phoning1.60457274/frame0548.png', '/vol/biodata/data/human3.6m/training/S1/frames/Phoning1.60457274/frame0071.png', '/vol/biodata/data/human3.6m/training/S1/frames/Phoning1.60457274/frame1196.png', '/vol/biodata/data/human3.6m/training/S1/frames/Phoning1.60457274/frame1631.png', '/vol/biodata/data/human3.6m/training/S1/frames/Phoning1.60457274/frame2083.png', '/vol/biodata/data/human3.6m/training/S1/frames/Phoning1.60457274/frame1985.png', '/vol/biodata/data/human3.6m/training/S1/frames/Phoning1.60457274/frame1250.png', '/vol/biodata/data/human3.6m/training/S1/frames/Phoning1.60457274/frame0862.png', '/vol/biodata/data/human3.6m/training/S1/frames/Phoning1.60457274/frame0410.png', '/vol/biodata/data/human3.6m/training/S1/frames/Phoning1.60457274/frame2345.png', '/vol/biodata/data/human3.6m/training/S1/frames/Phoning1.60457274/frame2433.png', '/vol/biodata/data/human3.6m/training/S1/frames/Phoning1.60457274/frame2394.png', '/vol/biodata/data/human3.6m/training/S1/frames/Phoning1.60457274/frame0366.png', '/vol/biodata/data/human3.6m/training/S1/frames/Phoning1.60457274/frame1954.png', '/vol/biodata/data/human3.6m/training/S1/frames/Phoning1.60457274/frame1526.png', '/vol/biodata/data/human3.6m/training/S1/frames/Phoning1.60457274/frame1281.png', '/vol/biodata/data/human3.6m/training/S1/frames/Phoning1.60457274/frame2052.png', '/vol/biodata/data/human3.6m/training/S1/frames/Phoning1.60457274/frame1147.png', '/vol/biodata/data/human3.6m/training/S1/frames/Phoning1.60457274/frame0707.png', '/vol/biodata/data/human3.6m/training/S1/frames/Phoning1.60457274/frame0999.png', '/vol/biodata/data/human3.6m/training/S1/frames/Phoning1.60457274/frame2519.png', '/vol/biodata/data/human3.6m/training/S1/frames/Phoning1.60457274/frame2178.png', '/vol/biodata/data/human3.6m/training/S1/frames/Phoning1.60457274/frame0948.png', '/vol/biodata/data/human3.6m/training/S1/frames/Phoning1.60457274/frame1643.png', '/vol/biodata/data/human3.6m/training/S1/frames/Phoning1.60457274/frame0003.png', '/vol/biodata/data/human3.6m/training/S1/frames/Phoning1.60457274/frame0810.png', '/vol/biodata/data/human3.6m/training/S1/frames/Phoning1.60457274/frame0462.png', '/vol/biodata/data/human3.6m/training/S1/frames/Phoning1.60457274/frame1222.png', '/vol/biodata/data/human3.6m/training/S1/frames/Phoning1.60457274/frame1585.png', '/vol/biodata/data/human3.6m/training/S1/frames/Phoning1.60457274/frame2337.png', '/vol/biodata/data/human3.6m/training/S1/frames/Phoning1.60457274/frame2490.png', '/vol/biodata/data/human3.6m/training/S1/frames/Phoning1.60457274/frame2441.png', '/vol/biodata/data/human3.6m/training/S1/frames/Phoning1.60457274/frame1926.png', '/vol/biodata/data/human3.6m/training/S1/frames/Phoning1.60457274/frame1554.png', '/vol/biodata/data/human3.6m/training/S1/frames/Phoning1.60457274/frame0314.png', '/vol/biodata/data/human3.6m/training/S1/frames/Phoning1.60457274/frame2020.png', '/vol/biodata/data/human3.6m/training/S1/frames/Phoning1.60457274/frame0775.png', '/vol/biodata/data/human3.6m/training/S1/frames/Phoning1.60457274/frame1692.png', '/vol/biodata/data/human3.6m/training/S1/frames/Phoning1.60457274/frame1135.png', '/vol/biodata/data/human3.6m/training/S1/frames/Phoning1.60457274/frame2565.png', '/vol/biodata/data/human3.6m/training/S1/frames/Phoning1.60457274/frame1470.png', '/vol/biodata/data/human3.6m/training/S1/frames/Phoning1.60457274/frame1802.png', '/vol/biodata/data/human3.6m/training/S1/frames/Phoning1.60457274/frame0230.png', '/vol/biodata/data/human3.6m/training/S1/frames/Phoning1.60457274/frame0597.png', '/vol/biodata/data/human3.6m/training/S1/frames/Phoning1.60457274/frame2104.png', '/vol/biodata/data/human3.6m/training/S1/frames/Phoning1.60457274/frame0651.png', '/vol/biodata/data/human3.6m/training/S1/frames/Phoning1.60457274/frame1011.png', '/vol/biodata/data/human3.6m/training/S1/frames/Phoning1.60457274/frame1767.png', '/vol/biodata/data/human3.6m/training/S1/frames/Phoning1.60457274/frame0680.png', '/vol/biodata/data/human3.6m/training/S1/frames/Phoning1.60457274/frame0127.png', '/vol/biodata/data/human3.6m/training/S1/frames/Phoning1.60457274/frame0546.png', '/vol/biodata/data/human3.6m/training/S1/frames/Phoning1.60457274/frame0934.png', '/vol/biodata/data/human3.6m/training/S1/frames/Phoning1.60457274/frame1306.png', '/vol/biodata/data/human3.6m/training/S1/frames/Phoning1.60457274/frame2213.png', '/vol/biodata/data/human3.6m/training/S1/frames/Phoning1.60457274/frame1198.png', '/vol/biodata/data/human3.6m/training/S1/frames/Phoning1.60457274/frame1528.png', '/vol/biodata/data/human3.6m/training/S1/frames/Phoning1.60457274/frame0368.png', '/vol/biodata/data/human3.6m/training/S1/frames/Phoning1.60457274/frame0709.png', '/vol/biodata/data/human3.6m/training/S1/frames/Phoning1.60457274/frame1149.png', '/vol/biodata/data/human3.6m/training/S1/frames/Phoning1.60457274/frame2562.png', '/vol/biodata/data/human3.6m/training/S1/frames/Phoning1.60457274/frame0590.png', '/vol/biodata/data/human3.6m/training/S1/frames/Phoning1.60457274/frame0237.png', '/vol/biodata/data/human3.6m/training/S1/frames/Phoning1.60457274/frame1805.png', '/vol/biodata/data/human3.6m/training/S1/frames/Phoning1.60457274/frame1477.png', '/vol/biodata/data/human3.6m/training/S1/frames/Phoning1.60457274/frame2103.png', '/vol/biodata/data/human3.6m/training/S1/frames/Phoning1.60457274/frame1016.png', '/vol/biodata/data/human3.6m/training/S1/frames/Phoning1.60457274/frame0656.png', '/vol/biodata/data/human3.6m/training/S1/frames/Phoning1.60457274/frame0120.png', '/vol/biodata/data/human3.6m/training/S1/frames/Phoning1.60457274/frame0687.png', '/vol/biodata/data/human3.6m/training/S1/frames/Phoning1.60457274/frame1760.png', '/vol/biodata/data/human3.6m/training/S1/frames/Phoning1.60457274/frame1301.png', '/vol/biodata/data/human3.6m/training/S1/frames/Phoning1.60457274/frame0933.png', '/vol/biodata/data/human3.6m/training/S1/frames/Phoning1.60457274/frame0541.png', '/vol/biodata/data/human3.6m/training/S1/frames/Phoning1.60457274/frame2214.png', '/vol/biodata/data/human3.6m/training/S1/frames/Phoning1.60457274/frame0078.png', '/vol/biodata/data/human3.6m/training/S1/frames/Phoning1.60457274/frame1638.png', '/vol/biodata/data/human3.6m/training/S1/frames/Phoning1.60457274/frame1259.png', '/vol/biodata/data/human3.6m/training/S1/frames/Phoning1.60457274/frame0419.png', '/vol/biodata/data/human3.6m/training/S1/frames/Phoning1.60457274/frame1288.png', '/vol/biodata/data/human3.6m/training/S1/frames/Phoning1.60457274/frame1879.png', '/vol/biodata/data/human3.6m/training/S1/frames/Phoning1.60457274/frame2609.png', '/vol/biodata/data/human3.6m/training/S1/frames/Phoning1.60457274/frame2268.png', '/vol/biodata/data/human3.6m/training/S1/frames/Phoning1.60457274/frame0004.png', '/vol/biodata/data/human3.6m/training/S1/frames/Phoning1.60457274/frame1644.png', '/vol/biodata/data/human3.6m/training/S1/frames/Phoning1.60457274/frame1582.png', '/vol/biodata/data/human3.6m/training/S1/frames/Phoning1.60457274/frame1225.png', '/vol/biodata/data/human3.6m/training/S1/frames/Phoning1.60457274/frame0465.png', '/vol/biodata/data/human3.6m/training/S1/frames/Phoning1.60457274/frame0817.png', '/vol/biodata/data/human3.6m/training/S1/frames/Phoning1.60457274/frame2497.png', '/vol/biodata/data/human3.6m/training/S1/frames/Phoning1.60457274/frame2330.png', '/vol/biodata/data/human3.6m/training/S1/frames/Phoning1.60457274/frame2446.png', '/vol/biodata/data/human3.6m/training/S1/frames/Phoning1.60457274/frame0313.png', '/vol/biodata/data/human3.6m/training/S1/frames/Phoning1.60457274/frame1553.png', '/vol/biodata/data/human3.6m/training/S1/frames/Phoning1.60457274/frame1921.png', '/vol/biodata/data/human3.6m/training/S1/frames/Phoning1.60457274/frame2027.png', '/vol/biodata/data/human3.6m/training/S1/frames/Phoning1.60457274/frame1132.png', '/vol/biodata/data/human3.6m/training/S1/frames/Phoning1.60457274/frame1695.png', '/vol/biodata/data/human3.6m/training/S1/frames/Phoning1.60457274/frame0772.png', '/vol/biodata/data/human3.6m/training/S1/frames/Phoning1.60457274/frame1493.png', '/vol/biodata/data/human3.6m/training/S1/frames/Phoning1.60457274/frame1334.png', '/vol/biodata/data/human3.6m/training/S1/frames/Phoning1.60457274/frame0906.png', '/vol/biodata/data/human3.6m/training/S1/frames/Phoning1.60457274/frame0574.png', '/vol/biodata/data/human3.6m/training/S1/frames/Phoning1.60457274/frame2586.png', '/vol/biodata/data/human3.6m/training/S1/frames/Phoning1.60457274/frame2221.png', '/vol/biodata/data/human3.6m/training/S1/frames/Phoning1.60457274/frame0115.png', '/vol/biodata/data/human3.6m/training/S1/frames/Phoning1.60457274/frame1755.png', '/vol/biodata/data/human3.6m/training/S1/frames/Phoning1.60457274/frame2136.png', '/vol/biodata/data/human3.6m/training/S1/frames/Phoning1.60457274/frame1023.png', '/vol/biodata/data/human3.6m/training/S1/frames/Phoning1.60457274/frame1784.png', '/vol/biodata/data/human3.6m/training/S1/frames/Phoning1.60457274/frame0663.png', '/vol/biodata/data/human3.6m/training/S1/frames/Phoning1.60457274/frame2557.png', '/vol/biodata/data/human3.6m/training/S1/frames/Phoning1.60457274/frame0202.png', '/vol/biodata/data/human3.6m/training/S1/frames/Phoning1.60457274/frame1830.png', '/vol/biodata/data/human3.6m/training/S1/frames/Phoning1.60457274/frame1442.png', '/vol/biodata/data/human3.6m/training/S1/frames/Phoning1.60457274/frame1968.png', '/vol/biodata/data/human3.6m/training/S1/frames/Phoning1.60457274/frame2379.png', '/vol/biodata/data/human3.6m/training/S1/frames/Phoning1.60457274/frame1348.png', '/vol/biodata/data/human3.6m/training/S1/frames/Phoning1.60457274/frame0508.png', '/vol/biodata/data/human3.6m/training/S1/frames/Phoning1.60457274/frame0169.png', '/vol/biodata/data/human3.6m/training/S1/frames/Phoning1.60457274/frame1729.png', '/vol/biodata/data/human3.6m/training/S1/frames/Phoning1.60457274/frame1399.png', '/vol/biodata/data/human3.6m/training/S1/frames/Phoning1.60457274/frame2012.png', '/vol/biodata/data/human3.6m/training/S1/frames/Phoning1.60457274/frame1107.png', '/vol/biodata/data/human3.6m/training/S1/frames/Phoning1.60457274/frame0747.png', '/vol/biodata/data/human3.6m/training/S1/frames/Phoning1.60457274/frame2473.png', '/vol/biodata/data/human3.6m/training/S1/frames/Phoning1.60457274/frame0481.png', '/vol/biodata/data/human3.6m/training/S1/frames/Phoning1.60457274/frame0326.png', '/vol/biodata/data/human3.6m/training/S1/frames/Phoning1.60457274/frame1566.png', '/vol/biodata/data/human3.6m/training/S1/frames/Phoning1.60457274/frame1914.png', '/vol/biodata/data/human3.6m/training/S1/frames/Phoning1.60457274/frame1210.png', '/vol/biodata/data/human3.6m/training/S1/frames/Phoning1.60457274/frame0450.png', '/vol/biodata/data/human3.6m/training/S1/frames/Phoning1.60457274/frame0822.png', '/vol/biodata/data/human3.6m/training/S1/frames/Phoning1.60457274/frame2305.png', '/vol/biodata/data/human3.6m/training/S1/frames/Phoning1.60457274/frame0031.png', '/vol/biodata/data/human3.6m/training/S1/frames/Phoning1.60457274/frame0796.png', '/vol/biodata/data/human3.6m/training/S1/frames/Phoning1.60457274/frame1671.png', '/vol/biodata/data/human3.6m/training/S1/frames/Phoning1.60457274/frame1089.png', '/vol/biodata/data/human3.6m/training/S1/frames/Phoning1.60457274/frame0618.png', '/vol/biodata/data/human3.6m/training/S1/frames/Phoning1.60457274/frame1058.png', '/vol/biodata/data/human3.6m/training/S1/frames/Phoning1.60457274/frame1439.png', '/vol/biodata/data/human3.6m/training/S1/frames/Phoning1.60457274/frame0279.png', '/vol/biodata/data/human3.6m/training/S1/frames/Phoning1.60457274/frame2015.png', '/vol/biodata/data/human3.6m/training/S1/frames/Phoning1.60457274/frame0740.png', '/vol/biodata/data/human3.6m/training/S1/frames/Phoning1.60457274/frame1100.png', '/vol/biodata/data/human3.6m/training/S1/frames/Phoning1.60457274/frame2474.png', '/vol/biodata/data/human3.6m/training/S1/frames/Phoning1.60457274/frame1913.png', '/vol/biodata/data/human3.6m/training/S1/frames/Phoning1.60457274/frame1561.png', '/vol/biodata/data/human3.6m/training/S1/frames/Phoning1.60457274/frame0321.png', '/vol/biodata/data/human3.6m/training/S1/frames/Phoning1.60457274/frame0486.png', '/vol/biodata/data/human3.6m/training/S1/frames/Phoning1.60457274/frame0825.png', '/vol/biodata/data/human3.6m/training/S1/frames/Phoning1.60457274/frame0457.png', '/vol/biodata/data/human3.6m/training/S1/frames/Phoning1.60457274/frame1217.png', '/vol/biodata/data/human3.6m/training/S1/frames/Phoning1.60457274/frame2302.png', '/vol/biodata/data/human3.6m/training/S1/frames/Phoning1.60457274/frame1676.png', '/vol/biodata/data/human3.6m/training/S1/frames/Phoning1.60457274/frame0791.png', '/vol/biodata/data/human3.6m/training/S1/frames/Phoning1.60457274/frame0036.png', '/vol/biodata/data/human3.6m/training/S1/frames/Phoning1.60457274/frame0573.png', '/vol/biodata/data/human3.6m/training/S1/frames/Phoning1.60457274/frame0901.png', '/vol/biodata/data/human3.6m/training/S1/frames/Phoning1.60457274/frame1333.png', '/vol/biodata/data/human3.6m/training/S1/frames/Phoning1.60457274/frame1494.png', '/vol/biodata/data/human3.6m/training/S1/frames/Phoning1.60457274/frame2226.png', '/vol/biodata/data/human3.6m/training/S1/frames/Phoning1.60457274/frame2581.png', '/vol/biodata/data/human3.6m/training/S1/frames/Phoning1.60457274/frame1752.png', '/vol/biodata/data/human3.6m/training/S1/frames/Phoning1.60457274/frame0112.png', '/vol/biodata/data/human3.6m/training/S1/frames/Phoning1.60457274/frame2131.png', '/vol/biodata/data/human3.6m/training/S1/frames/Phoning1.60457274/frame0664.png', '/vol/biodata/data/human3.6m/training/S1/frames/Phoning1.60457274/frame1783.png', '/vol/biodata/data/human3.6m/training/S1/frames/Phoning1.60457274/frame1024.png', '/vol/biodata/data/human3.6m/training/S1/frames/Phoning1.60457274/frame2550.png', '/vol/biodata/data/human3.6m/training/S1/frames/Phoning1.60457274/frame1445.png', '/vol/biodata/data/human3.6m/training/S1/frames/Phoning1.60457274/frame1837.png', '/vol/biodata/data/human3.6m/training/S1/frames/Phoning1.60457274/frame0205.png', '/vol/biodata/data/human3.6m/training/S1/frames/Phoning1.60457274/frame2069.png', '/vol/biodata/data/human3.6m/training/S1/frames/Phoning1.60457274/frame0888.png', '/vol/biodata/data/human3.6m/training/S1/frames/Phoning1.60457274/frame2408.png', '/vol/biodata/data/human3.6m/training/S1/frames/Phoning1.60457274/frame0859.png', '/vol/biodata/data/human3.6m/training/S1/frames/Phoning1.60457274/frame1894.png', '/vol/biodata/data/human3.6m/training/S1/frames/Phoning1.60457274/frame1341.png', '/vol/biodata/data/human3.6m/training/S1/frames/Phoning1.60457274/frame0501.png', '/vol/biodata/data/human3.6m/training/S1/frames/Phoning1.60457274/frame0973.png', '/vol/biodata/data/human3.6m/training/S1/frames/Phoning1.60457274/frame2254.png', '/vol/biodata/data/human3.6m/training/S1/frames/Phoning1.60457274/frame0160.png', '/vol/biodata/data/human3.6m/training/S1/frames/Phoning1.60457274/frame1087.png', '/vol/biodata/data/human3.6m/training/S1/frames/Phoning1.60457274/frame1720.png', '/vol/biodata/data/human3.6m/training/S1/frames/Phoning1.60457274/frame2192.png', '/vol/biodata/data/human3.6m/training/S1/frames/Phoning1.60457274/frame2635.png', '/vol/biodata/data/human3.6m/training/S1/frames/Phoning1.60457274/frame2143.png', '/vol/biodata/data/human3.6m/training/S1/frames/Phoning1.60457274/frame1056.png', '/vol/biodata/data/human3.6m/training/S1/frames/Phoning1.60457274/frame0616.png', '/vol/biodata/data/human3.6m/training/S1/frames/Phoning1.60457274/frame2522.png', '/vol/biodata/data/human3.6m/training/S1/frames/Phoning1.60457274/frame2285.png', '/vol/biodata/data/human3.6m/training/S1/frames/Phoning1.60457274/frame0277.png', '/vol/biodata/data/human3.6m/training/S1/frames/Phoning1.60457274/frame1437.png', '/vol/biodata/data/human3.6m/training/S1/frames/Phoning1.60457274/frame1845.png', '/vol/biodata/data/human3.6m/training/S1/frames/Phoning1.60457274/frame1390.png', '/vol/biodata/data/human3.6m/training/S1/frames/Phoning1.60457274/frame0488.png', '/vol/biodata/data/human3.6m/training/S1/frames/Phoning1.60457274/frame1219.png', '/vol/biodata/data/human3.6m/training/S1/frames/Phoning1.60457274/frame0459.png', '/vol/biodata/data/human3.6m/training/S1/frames/Phoning1.60457274/frame0038.png', '/vol/biodata/data/human3.6m/training/S1/frames/Phoning1.60457274/frame1678.png', '/vol/biodata/data/human3.6m/training/S1/frames/Phoning1.60457274/frame2228.png', '/vol/biodata/data/human3.6m/training/S1/frames/Phoning1.60457274/frame1839.png', '/vol/biodata/data/human3.6m/training/S1/frames/Phoning1.60457274/frame2067.png', '/vol/biodata/data/human3.6m/training/S1/frames/Phoning1.60457274/frame1172.png', '/vol/biodata/data/human3.6m/training/S1/frames/Phoning1.60457274/frame0095.png', '/vol/biodata/data/human3.6m/training/S1/frames/Phoning1.60457274/frame0732.png', '/vol/biodata/data/human3.6m/training/S1/frames/Phoning1.60457274/frame2406.png', '/vol/biodata/data/human3.6m/training/S1/frames/Phoning1.60457274/frame0886.png', '/vol/biodata/data/human3.6m/training/S1/frames/Phoning1.60457274/frame0353.png', '/vol/biodata/data/human3.6m/training/S1/frames/Phoning1.60457274/frame1961.png', '/vol/biodata/data/human3.6m/training/S1/frames/Phoning1.60457274/frame1513.png', '/vol/biodata/data/human3.6m/training/S1/frames/Phoning1.60457274/frame1265.png', '/vol/biodata/data/human3.6m/training/S1/frames/Phoning1.60457274/frame0857.png', '/vol/biodata/data/human3.6m/training/S1/frames/Phoning1.60457274/frame0425.png', '/vol/biodata/data/human3.6m/training/S1/frames/Phoning1.60457274/frame0382.png', '/vol/biodata/data/human3.6m/training/S1/frames/Phoning1.60457274/frame2370.png', '/vol/biodata/data/human3.6m/training/S1/frames/Phoning1.60457274/frame0044.png', '/vol/biodata/data/human3.6m/training/S1/frames/Phoning1.60457274/frame1604.png', '/vol/biodata/data/human3.6m/training/S1/frames/Phoning1.60457274/frame2588.png', '/vol/biodata/data/human3.6m/training/S1/frames/Phoning1.60457274/frame0908.png', '/vol/biodata/data/human3.6m/training/S1/frames/Phoning1.60457274/frame2138.png', '/vol/biodata/data/human3.6m/training/S1/frames/Phoning1.60457274/frame2559.png', '/vol/biodata/data/human3.6m/training/S1/frames/Phoning1.60457274/frame2060.png', '/vol/biodata/data/human3.6m/training/S1/frames/Phoning1.60457274/frame0735.png', '/vol/biodata/data/human3.6m/training/S1/frames/Phoning1.60457274/frame0092.png', '/vol/biodata/data/human3.6m/training/S1/frames/Phoning1.60457274/frame1175.png', '/vol/biodata/data/human3.6m/training/S1/frames/Phoning1.60457274/frame2401.png', '/vol/biodata/data/human3.6m/training/S1/frames/Phoning1.60457274/frame1514.png', '/vol/biodata/data/human3.6m/training/S1/frames/Phoning1.60457274/frame1966.png', '/vol/biodata/data/human3.6m/training/S1/frames/Phoning1.60457274/frame0354.png', '/vol/biodata/data/human3.6m/training/S1/frames/Phoning1.60457274/frame0881.png', '/vol/biodata/data/human3.6m/training/S1/frames/Phoning1.60457274/frame0385.png', '/vol/biodata/data/human3.6m/training/S1/frames/Phoning1.60457274/frame0422.png', '/vol/biodata/data/human3.6m/training/S1/frames/Phoning1.60457274/frame0850.png', '/vol/biodata/data/human3.6m/training/S1/frames/Phoning1.60457274/frame1262.png', '/vol/biodata/data/human3.6m/training/S1/frames/Phoning1.60457274/frame2377.png', '/vol/biodata/data/human3.6m/training/S1/frames/Phoning1.60457274/frame1603.png', '/vol/biodata/data/human3.6m/training/S1/frames/Phoning1.60457274/frame0043.png', '/vol/biodata/data/human3.6m/training/S1/frames/Phoning1.60457274/frame0974.png', '/vol/biodata/data/human3.6m/training/S1/frames/Phoning1.60457274/frame0506.png', '/vol/biodata/data/human3.6m/training/S1/frames/Phoning1.60457274/frame1346.png', '/vol/biodata/data/human3.6m/training/S1/frames/Phoning1.60457274/frame1893.png', '/vol/biodata/data/human3.6m/training/S1/frames/Phoning1.60457274/frame2253.png', '/vol/biodata/data/human3.6m/training/S1/frames/Phoning1.60457274/frame1727.png', '/vol/biodata/data/human3.6m/training/S1/frames/Phoning1.60457274/frame1080.png', '/vol/biodata/data/human3.6m/training/S1/frames/Phoning1.60457274/frame0167.png', '/vol/biodata/data/human3.6m/training/S1/frames/Phoning1.60457274/frame2632.png', '/vol/biodata/data/human3.6m/training/S1/frames/Phoning1.60457274/frame2195.png', '/vol/biodata/data/human3.6m/training/S1/frames/Phoning1.60457274/frame2144.png', '/vol/biodata/data/human3.6m/training/S1/frames/Phoning1.60457274/frame0611.png', '/vol/biodata/data/human3.6m/training/S1/frames/Phoning1.60457274/frame1051.png', '/vol/biodata/data/human3.6m/training/S1/frames/Phoning1.60457274/frame2282.png', '/vol/biodata/data/human3.6m/training/S1/frames/Phoning1.60457274/frame2525.png', '/vol/biodata/data/human3.6m/training/S1/frames/Phoning1.60457274/frame1397.png', '/vol/biodata/data/human3.6m/training/S1/frames/Phoning1.60457274/frame1842.png', '/vol/biodata/data/human3.6m/training/S1/frames/Phoning1.60457274/frame1430.png', '/vol/biodata/data/human3.6m/training/S1/frames/Phoning1.60457274/frame0270.png', '/vol/biodata/data/human3.6m/training/S1/frames/Phoning1.60457274/frame0749.png', '/vol/biodata/data/human3.6m/training/S1/frames/Phoning1.60457274/frame1109.png', '/vol/biodata/data/human3.6m/training/S1/frames/Phoning1.60457274/frame1568.png', '/vol/biodata/data/human3.6m/training/S1/frames/Phoning1.60457274/frame0328.png', '/vol/biodata/data/human3.6m/training/S1/frames/Phoning1.60457274/frame0798.png']\n"
     ]
    }
   ],
   "source": [
    "\n",
    "for k,v in frames[0].items():\n",
    "    print(len(v),k)\n",
    "print(frames[0]['Phoning1.60457274'])"
   ]
  },
  {
   "cell_type": "code",
   "execution_count": 10,
   "metadata": {},
   "outputs": [
    {
     "name": "stdout",
     "output_type": "stream",
     "text": [
      "cuda\n"
     ]
    }
   ],
   "source": [
    "def make_dataset(dir):\n",
    "    images = []\n",
    "    assert os.path.isdir(dir), '%s is not a valid directory' % dir\n",
    "\n",
    "    for root, _, fnames in sorted(os.walk(dir)):\n",
    "        for fname in fnames:\n",
    "            if is_image_file(fname):\n",
    "                path = os.path.join(root, fname)\n",
    "                images.append(path)\n",
    "\n",
    "    return images"
   ]
  },
  {
   "cell_type": "code",
   "execution_count": null,
   "metadata": {},
   "outputs": [],
   "source": []
  },
  {
   "cell_type": "code",
   "execution_count": 65,
   "metadata": {},
   "outputs": [
    {
     "name": "stdout",
     "output_type": "stream",
     "text": [
      "Greeting\n"
     ]
    }
   ],
   "source": [
    "import re\n",
    "r=re.match(r'[a-zA-Z]+','Greeting1.55011271')\n",
    "print(r.group())"
   ]
  },
  {
   "cell_type": "code",
   "execution_count": 14,
   "metadata": {},
   "outputs": [],
   "source": [
    "path='/vol/biodata/data/human3.6m/training/S5/MyFeatures/ground_truth_bb/'"
   ]
  },
  {
   "cell_type": "code",
   "execution_count": 24,
   "metadata": {},
   "outputs": [],
   "source": [
    "import scipy.io as io \n",
    "import h5py\n",
    "mat_path='/vol/biodata/data/human3.6m/training/S1/MySegmentsMat/ground_truth_bb/'\n",
    "data=h5py.File(mat_path+'Discussion.58860488.mat','r')"
   ]
  },
  {
   "cell_type": "code",
   "execution_count": 55,
   "metadata": {},
   "outputs": [
    {
     "name": "stdout",
     "output_type": "stream",
     "text": [
      "<KeysViewHDF5 ['#refs#', 'Masks']>\n",
      "(3852, 1)\n",
      "<HDF5 dataset \"0\": shape (1000, 1000), type \"|u1\">\n"
     ]
    }
   ],
   "source": [
    "mask=data['Masks']\n",
    "ref=data['#refs#']\n",
    "print(data.keys())\n",
    "print(mask.shape)\n",
    "print(ref['0'])"
   ]
  },
  {
   "cell_type": "code",
   "execution_count": 33,
   "metadata": {},
   "outputs": [
    {
     "name": "stdout",
     "output_type": "stream",
     "text": [
      "(3852, 1) object\n"
     ]
    }
   ],
   "source": [
    "data[mask[0]]"
   ]
  },
  {
   "cell_type": "code",
   "execution_count": 56,
   "metadata": {},
   "outputs": [
    {
     "name": "stdout",
     "output_type": "stream",
     "text": [
      "<HDF5 object reference>\n",
      "[[0 0 0 ... 0 0 0]\n",
      " [0 0 0 ... 0 0 0]\n",
      " [0 0 0 ... 0 0 0]\n",
      " ...\n",
      " [0 0 0 ... 0 0 0]\n",
      " [0 0 0 ... 0 0 0]\n",
      " [0 0 0 ... 0 0 0]]\n"
     ]
    }
   ],
   "source": [
    "import numpy as np\n",
    "print(mask[0][0])\n",
    "#to print data of h5py format\n",
    "print(np.array(data[mask[0][0]]))"
   ]
  },
  {
   "cell_type": "code",
   "execution_count": null,
   "metadata": {},
   "outputs": [],
   "source": [
    "for subject in os.listdir(path):\n",
    "        d = os.path.join(path, subject)\n",
    "        if not os.path.isdir(d):\n",
    "            continue\n",
    "        for root, _, fnames in sorted(os.walk(d)):\n",
    "            print(root,fnames)\n",
    "            i=i+1\n",
    "            if i==2:\n",
    "                break\n",
    "        break\n",
    "#         for fname in fnames:\n",
    "#             if is_image_file(fname):\n",
    "#                 path = os.path.join(root, fname)\n",
    "#                 images.append(path)"
   ]
  },
  {
   "cell_type": "code",
   "execution_count": 43,
   "metadata": {},
   "outputs": [
    {
     "name": "stdout",
     "output_type": "stream",
     "text": [
      "no\n"
     ]
    }
   ],
   "source": [
    "l=['a','n','c']\n",
    "if 'b' in l:\n",
    "    print(l.index('b'))\n",
    "else:\n",
    "    print('no')"
   ]
  },
  {
   "cell_type": "code",
   "execution_count": 45,
   "metadata": {},
   "outputs": [
    {
     "data": {
      "text/plain": [
       "'/vol/biodata/data/human3.6m/training/S1/frames/S1/frames'"
      ]
     },
     "execution_count": 45,
     "metadata": {},
     "output_type": "execute_result"
    }
   ],
   "source": [
    "os.path.join(frame_root, 'S1', 'frames')"
   ]
  },
  {
   "cell_type": "code",
   "execution_count": null,
   "metadata": {},
   "outputs": [],
   "source": [
    "actors=[\"S1\",\"S5\"]\n",
    "activities = ['directions', 'discussion', 'greeting', 'posing',\n",
    "                      'waiting', 'walking']\n",
    "for actor in actors: # actor is in the form of 'S1','S5'\n",
    "    sequences = os.listdir(os.path.join(root, actor, 'frames'))\n",
    "    sequences = sorted(sequences) # like 'Phoning1.60457274'\n",
    "    for activity in activities:\n",
    "        activity_sequences = [s for s in sequences if s.lower().startswith(activity.lower())]\n",
    "        for seq in activity_sequences:\n",
    "            frames = os.listdir(os.path.join(root, actor, 'frames', seq))\n",
    "            frames = [int(os.path.splitext(x)[0]) for x in frames]\n",
    "            frames = sorted(frames)\n",
    "            if split_sequence == 'full':\n",
    "                pass\n",
    "            elif split_sequence == 'first_half':\n",
    "                frames = frames[:len(frames) // 2]\n",
    "            elif split_sequence == 'second_half':\n",
    "                frames = frames[len(frames) // 2:]\n",
    "            else:\n",
    "                raise ValueError()\n",
    "            self.sequences.append({'frames': frames, 'actor': actor, 'activity_sequence': seq})"
   ]
  },
  {
   "cell_type": "code",
   "execution_count": 8,
   "metadata": {},
   "outputs": [
    {
     "data": {
      "text/plain": [
       "'04509'"
      ]
     },
     "execution_count": 8,
     "metadata": {},
     "output_type": "execute_result"
    }
   ],
   "source": [
    "os.path.splitext('frame04509.png')[0][5:]"
   ]
  },
  {
   "cell_type": "code",
   "execution_count": 20,
   "metadata": {
    "tags": []
   },
   "outputs": [
    {
     "name": "stdout",
     "output_type": "stream",
     "text": [
      "['Directions1.54138969', 'Directions1.55011271', 'Directions1.58860488', 'Directions1.60457274']\n",
      "[1, 2, 3, 4, 5, 6, 7, 8, 9, 10, 11, 12, 13, 14, 15, 16, 17, 18, 19, 20, 21, 22, 23, 24, 25, 26, 27, 28, 29, 30, 31, 32, 33, 34, 35, 36, 37, 38, 39, 40, 41, 42, 43, 44, 45, 46, 47, 48, 49, 50, 51, 52, 53, 54, 55, 56, 57, 58, 59, 60, 61, 62, 63, 64, 65, 66, 67, 68, 69, 70, 71, 72, 73, 74, 75, 76, 77, 78, 79, 80, 81, 82, 83, 84, 85, 86, 87, 88, 89, 90, 91, 92, 93, 94, 95, 96, 97, 98, 99, 100, 101, 102, 103, 104, 105, 106, 107, 108, 109, 110, 111, 112, 113, 114, 115, 116, 117, 118, 119, 120, 121, 122, 123, 124, 125, 126, 127, 128, 129, 130, 131, 132, 133, 134, 135, 136, 137, 138, 139, 140, 141, 142, 143, 144, 145, 146, 147, 148, 149, 150, 151, 152, 153, 154, 155, 156, 157, 158, 159, 160, 161, 162, 163, 164, 165, 166, 167, 168, 169, 170, 171, 172, 173, 174, 175, 176, 177, 178, 179, 180, 181, 182, 183, 184, 185, 186, 187, 188, 189, 190, 191, 192, 193, 194, 195, 196, 197, 198, 199, 200, 201, 202, 203, 204, 205, 206, 207, 208, 209, 210, 211, 212, 213, 214, 215, 216, 217, 218, 219, 220, 221, 222, 223, 224, 225, 226, 227, 228, 229, 230, 231, 232, 233, 234, 235, 236, 237, 238, 239, 240, 241, 242, 243, 244, 245, 246, 247, 248, 249, 250, 251, 252, 253, 254, 255, 256, 257, 258, 259, 260, 261, 262, 263, 264, 265, 266, 267, 268, 269, 270, 271, 272, 273, 274, 275, 276, 277, 278, 279, 280, 281, 282, 283, 284, 285, 286, 287, 288, 289, 290, 291, 292, 293, 294, 295, 296, 297, 298, 299, 300, 301, 302, 303, 304, 305, 306, 307, 308, 309, 310, 311, 312, 313, 314, 315, 316, 317, 318, 319, 320, 321, 322, 323, 324, 325, 326, 327, 328, 329, 330, 331, 332, 333, 334, 335, 336, 337, 338, 339, 340, 341, 342, 343, 344, 345, 346, 347, 348, 349, 350, 351, 352, 353, 354, 355, 356, 357, 358, 359, 360, 361, 362, 363, 364, 365, 366, 367, 368, 369, 370, 371, 372, 373, 374, 375, 376, 377, 378, 379, 380, 381, 382, 383, 384, 385, 386, 387, 388, 389, 390, 391, 392, 393, 394, 395, 396, 397, 398, 399, 400, 401, 402, 403, 404, 405, 406, 407, 408, 409, 410, 411, 412, 413, 414, 415, 416, 417, 418, 419, 420, 421, 422, 423, 424, 425, 426, 427, 428, 429, 430, 431, 432, 433, 434, 435, 436, 437, 438, 439, 440, 441, 442, 443, 444, 445, 446, 447, 448, 449, 450, 451, 452, 453, 454, 455, 456, 457, 458, 459, 460, 461, 462, 463, 464, 465, 466, 467, 468, 469, 470, 471, 472, 473, 474, 475, 476, 477, 478, 479, 480, 481, 482, 483, 484, 485, 486, 487, 488, 489, 490, 491, 492, 493, 494, 495, 496, 497, 498, 499, 500, 501, 502, 503, 504, 505, 506, 507, 508, 509, 510, 511, 512, 513, 514, 515, 516, 517, 518, 519, 520, 521, 522, 523, 524, 525, 526, 527, 528, 529, 530, 531, 532, 533, 534, 535, 536, 537, 538, 539, 540, 541, 542, 543, 544, 545, 546, 547, 548, 549, 550, 551, 552, 553, 554, 555, 556, 557, 558, 559, 560, 561, 562, 563, 564, 565, 566, 567, 568, 569, 570, 571, 572, 573, 574, 575, 576, 577, 578, 579, 580, 581, 582, 583, 584, 585, 586, 587, 588, 589, 590, 591, 592, 593, 594, 595, 596, 597, 598, 599, 600, 601, 602, 603, 604, 605, 606, 607, 608, 609, 610, 611, 612, 613, 614, 615, 616, 617, 618, 619, 620, 621, 622, 623, 624, 625, 626, 627, 628, 629, 630, 631, 632, 633, 634, 635, 636, 637, 638, 639, 640, 641, 642, 643, 644, 645, 646, 647, 648, 649, 650, 651, 652, 653, 654, 655, 656, 657, 658, 659, 660, 661, 662, 663, 664, 665, 666, 667, 668, 669, 670, 671, 672, 673, 674, 675, 676, 677, 678, 679, 680, 681, 682, 683, 684, 685, 686, 687, 688, 689, 690, 691, 692, 693, 694, 695, 696, 697, 698, 699, 700, 701, 702, 703, 704, 705, 706, 707, 708, 709, 710, 711, 712, 713, 714, 715, 716, 717, 718, 719, 720, 721, 722, 723, 724, 725, 726, 727, 728, 729, 730, 731, 732, 733, 734, 735, 736, 737, 738, 739, 740, 741, 742, 743, 744, 745, 746, 747, 748, 749, 750, 751, 752, 753, 754, 755, 756, 757, 758, 759, 760, 761, 762, 763, 764, 765, 766, 767, 768, 769, 770, 771, 772, 773, 774, 775, 776, 777, 778, 779, 780, 781, 782, 783, 784, 785, 786, 787, 788, 789, 790, 791, 792, 793, 794, 795, 796, 797, 798, 799, 800, 801, 802, 803, 804, 805, 806, 807, 808, 809, 810, 811, 812, 813, 814, 815, 816, 817, 818, 819, 820, 821, 822, 823, 824, 825, 826, 827, 828, 829, 830, 831, 832, 833, 834, 835, 836, 837, 838, 839, 840, 841, 842, 843, 844, 845, 846, 847, 848, 849, 850, 851, 852, 853, 854, 855, 856, 857, 858, 859, 860, 861, 862, 863, 864, 865, 866, 867, 868, 869, 870, 871, 872, 873, 874, 875, 876, 877, 878, 879, 880, 881, 882, 883, 884, 885, 886, 887, 888, 889, 890, 891, 892, 893, 894, 895, 896, 897, 898, 899, 900, 901, 902, 903, 904, 905, 906, 907, 908, 909, 910, 911, 912, 913, 914, 915, 916, 917, 918, 919, 920, 921, 922, 923, 924, 925, 926, 927, 928, 929, 930, 931, 932, 933, 934, 935, 936, 937, 938, 939, 940, 941, 942, 943, 944, 945, 946, 947, 948, 949, 950, 951, 952, 953, 954, 955, 956, 957, 958, 959, 960, 961, 962, 963, 964, 965, 966, 967, 968, 969, 970, 971, 972, 973, 974, 975, 976, 977, 978, 979, 980, 981, 982, 983, 984, 985, 986, 987, 988, 989, 990, 991, 992, 993, 994, 995, 996, 997, 998, 999, 1000, 1001, 1002, 1003, 1004, 1005, 1006, 1007, 1008, 1009, 1010, 1011, 1012, 1013, 1014, 1015, 1016, 1017, 1018, 1019, 1020, 1021, 1022, 1023, 1024, 1025, 1026, 1027, 1028, 1029, 1030, 1031, 1032, 1033, 1034, 1035, 1036, 1037, 1038, 1039, 1040, 1041, 1042, 1043, 1044, 1045, 1046, 1047, 1048, 1049, 1050, 1051, 1052, 1053, 1054, 1055, 1056, 1057, 1058, 1059, 1060, 1061, 1062, 1063, 1064, 1065, 1066, 1067, 1068, 1069, 1070, 1071, 1072, 1073, 1074, 1075, 1076, 1077, 1078, 1079, 1080, 1081, 1082, 1083, 1084, 1085, 1086, 1087, 1088, 1089, 1090, 1091, 1092, 1093, 1094, 1095, 1096, 1097, 1098, 1099, 1100, 1101, 1102, 1103, 1104, 1105, 1106, 1107, 1108, 1109, 1110, 1111, 1112, 1113, 1114, 1115, 1116, 1117, 1118, 1119, 1120, 1121, 1122, 1123, 1124, 1125, 1126, 1127, 1128, 1129, 1130, 1131, 1132, 1133, 1134, 1135, 1136, 1137, 1138, 1139, 1140, 1141, 1142, 1143, 1144, 1145, 1146, 1147, 1148, 1149, 1150, 1151, 1152, 1153, 1154, 1155, 1156, 1157, 1158, 1159, 1160, 1161, 1162, 1163, 1164, 1165, 1166, 1167, 1168, 1169, 1170, 1171, 1172, 1173, 1174, 1175, 1176, 1177, 1178, 1179, 1180, 1181, 1182, 1183, 1184, 1185, 1186, 1187, 1188, 1189, 1190, 1191, 1192, 1193, 1194, 1195, 1196, 1197, 1198, 1199, 1200, 1201, 1202, 1203, 1204, 1205, 1206, 1207, 1208, 1209, 1210, 1211, 1212, 1213, 1214, 1215, 1216, 1217, 1218, 1219, 1220, 1221, 1222, 1223, 1224, 1225, 1226, 1227, 1228, 1229, 1230, 1231, 1232, 1233, 1234, 1235, 1236, 1237, 1238, 1239, 1240, 1241, 1242, 1243, 1244, 1245, 1246, 1247, 1248, 1249, 1250, 1251, 1252, 1253, 1254, 1255, 1256, 1257, 1258, 1259, 1260, 1261, 1262, 1263, 1264, 1265, 1266, 1267, 1268, 1269, 1270, 1271, 1272, 1273, 1274, 1275, 1276, 1277, 1278, 1279, 1280, 1281, 1282, 1283, 1284, 1285, 1286, 1287, 1288, 1289, 1290, 1291, 1292, 1293, 1294, 1295, 1296, 1297, 1298, 1299, 1300, 1301, 1302, 1303, 1304, 1305, 1306, 1307, 1308, 1309, 1310, 1311, 1312, 1313, 1314, 1315, 1316, 1317, 1318, 1319, 1320, 1321, 1322, 1323, 1324, 1325, 1326, 1327, 1328, 1329, 1330, 1331, 1332, 1333, 1334, 1335, 1336, 1337, 1338, 1339, 1340, 1341, 1342, 1343, 1344, 1345, 1346, 1347, 1348, 1349, 1350, 1351, 1352, 1353, 1354, 1355, 1356, 1357, 1358, 1359, 1360, 1361, 1362, 1363, 1364, 1365, 1366, 1367, 1368, 1369, 1370, 1371, 1372, 1373, 1374, 1375, 1376, 1377, 1378, 1379, 1380, 1381, 1382, 1383, 1384]\n"
     ]
    }
   ],
   "source": [
    "actors=[\"S1\",\"S5\"]\n",
    "activities = ['directions', 'discussion', 'greeting', 'posing',\n",
    "                      'waiting', 'walking']\n",
    "root='/vol/biodata/data/human3.6m/training'\n",
    "for actor in actors: # actor is in the form of 'S1','S5'\n",
    "    sequences = os.listdir(os.path.join(root, actor, 'frames'))\n",
    "    sequences = sorted(sequences) # like 'Phoning1.60457274'\n",
    "    for activity in activities:\n",
    "        activity_sequences = [s for s in sequences if s.lower().startswith(activity.lower())]\n",
    "        print(activity_sequences)\n",
    "        for seq in activity_sequences:\n",
    "            frames = os.listdir(os.path.join(root, actor, 'frames', seq))\n",
    "            frames = [int(os.path.splitext(x)[0][5:]) for x in frames]\n",
    "            frames = sorted(frames)\n",
    "            print(frames)\n",
    "            break\n",
    "        break\n",
    "    break"
   ]
  },
  {
   "cell_type": "code",
   "execution_count": 23,
   "metadata": {},
   "outputs": [
    {
     "name": "stdout",
     "output_type": "stream",
     "text": [
      "[1, 2, 3, 4]\n"
     ]
    }
   ],
   "source": [
    "print(frames[1-1:4])"
   ]
  },
  {
   "cell_type": "code",
   "execution_count": 1,
   "metadata": {
    "collapsed": true,
    "jupyter": {
     "outputs_hidden": true
    },
    "tags": []
   },
   "outputs": [
    {
     "name": "stdout",
     "output_type": "stream",
     "text": [
      "Requirement already satisfied: spacepy in /vol/bitbucket/ql1220/envs/pose_ql1220/lib/python3.8/site-packages (0.2.2)\n",
      "Requirement already satisfied: networkx>=1.0 in /vol/bitbucket/ql1220/envs/pose_ql1220/lib/python3.8/site-packages (from spacepy) (2.5.1)\n",
      "Requirement already satisfied: python-dateutil>=1.4 in /vol/bitbucket/ql1220/envs/pose_ql1220/lib/python3.8/site-packages (from spacepy) (2.8.1)\n",
      "Collecting h5py>=2.6\n",
      "  Downloading h5py-3.2.1-cp38-cp38-manylinux1_x86_64.whl (4.5 MB)\n",
      "\u001b[K     |████████████████████████████████| 4.5 MB 10.1 MB/s eta 0:00:01\n",
      "\u001b[?25hCollecting matplotlib>=1.5\n",
      "  Downloading matplotlib-3.4.2-cp38-cp38-manylinux1_x86_64.whl (10.3 MB)\n",
      "\u001b[K     |████████████████████████████████| 10.3 MB 32.0 MB/s eta 0:00:01\n",
      "\u001b[?25hRequirement already satisfied: numpy!=1.15.0,>=1.10 in /vol/bitbucket/ql1220/envs/pose_ql1220/lib/python3.8/site-packages (from spacepy) (1.19.2)\n",
      "Collecting scipy>=0.11\n",
      "  Downloading scipy-1.6.3-cp38-cp38-manylinux1_x86_64.whl (27.2 MB)\n",
      "\u001b[K     |████████████████████████████████| 27.2 MB 15.0 MB/s eta 0:00:01\n",
      "\u001b[?25hCollecting kiwisolver>=1.0.1\n",
      "  Downloading kiwisolver-1.3.1-cp38-cp38-manylinux1_x86_64.whl (1.2 MB)\n",
      "\u001b[K     |████████████████████████████████| 1.2 MB 97.9 MB/s eta 0:00:01\n",
      "\u001b[?25hRequirement already satisfied: pyparsing>=2.2.1 in /vol/bitbucket/ql1220/envs/pose_ql1220/lib/python3.8/site-packages (from matplotlib>=1.5->spacepy) (2.4.7)\n",
      "Collecting cycler>=0.10\n",
      "  Downloading cycler-0.10.0-py2.py3-none-any.whl (6.5 kB)\n",
      "Requirement already satisfied: pillow>=6.2.0 in /vol/bitbucket/ql1220/envs/pose_ql1220/lib/python3.8/site-packages (from matplotlib>=1.5->spacepy) (8.2.0)\n",
      "Requirement already satisfied: six in /vol/bitbucket/ql1220/envs/pose_ql1220/lib/python3.8/site-packages (from cycler>=0.10->matplotlib>=1.5->spacepy) (1.15.0)\n",
      "Collecting decorator<5,>=4.3\n",
      "  Downloading decorator-4.4.2-py2.py3-none-any.whl (9.2 kB)\n",
      "Installing collected packages: kiwisolver, decorator, cycler, scipy, matplotlib, h5py\n",
      "  Attempting uninstall: decorator\n",
      "    Found existing installation: decorator 5.0.9\n",
      "    Uninstalling decorator-5.0.9:\n",
      "      Successfully uninstalled decorator-5.0.9\n",
      "Successfully installed cycler-0.10.0 decorator-4.4.2 h5py-3.2.1 kiwisolver-1.3.1 matplotlib-3.4.2 scipy-1.6.3\n"
     ]
    }
   ],
   "source": [
    "!pip install --upgrade spacepy"
   ]
  },
  {
   "cell_type": "code",
   "execution_count": 2,
   "metadata": {
    "collapsed": true,
    "jupyter": {
     "outputs_hidden": true
    },
    "tags": []
   },
   "outputs": [
    {
     "name": "stdout",
     "output_type": "stream",
     "text": [
      "--2021-06-14 19:34:40--  http://cdaweb.gsfc.nasa.gov/pub/software/cdf/dist/latest-release/linux/\n",
      "Resolving cdaweb.gsfc.nasa.gov (cdaweb.gsfc.nasa.gov)... 2001:4d0:2418:121::65, 169.154.154.65\n",
      "Connecting to cdaweb.gsfc.nasa.gov (cdaweb.gsfc.nasa.gov)|2001:4d0:2418:121::65|:80... connected.\n",
      "HTTP request sent, awaiting response... 301 Moved Permanently\n",
      "Location: https://cdaweb.gsfc.nasa.gov/pub/software/cdf/dist/latest-release/linux/ [following]\n",
      "--2021-06-14 19:34:40--  https://cdaweb.gsfc.nasa.gov/pub/software/cdf/dist/latest-release/linux/\n",
      "Connecting to cdaweb.gsfc.nasa.gov (cdaweb.gsfc.nasa.gov)|2001:4d0:2418:121::65|:443... connected.\n",
      "HTTP request sent, awaiting response... 200 OK\n",
      "Length: 4906 (4.8K) [text/html]\n",
      "Saving to: ‘index.html.tmp’\n",
      "\n",
      "index.html.tmp      100%[===================>]   4.79K  --.-KB/s    in 0s      \n",
      "\n",
      "2021-06-14 19:34:41 (52.1 MB/s) - ‘index.html.tmp’ saved [4906/4906]\n",
      "\n",
      "Loading robots.txt; please ignore errors.\n",
      "--2021-06-14 19:34:41--  https://cdaweb.gsfc.nasa.gov/robots.txt\n",
      "Reusing existing connection to [cdaweb.gsfc.nasa.gov]:443.\n",
      "HTTP request sent, awaiting response... 200 OK\n",
      "Length: 6080 (5.9K) [text/plain]\n",
      "Saving to: ‘robots.txt.tmp’\n",
      "\n",
      "robots.txt.tmp      100%[===================>]   5.94K  --.-KB/s    in 0s      \n",
      "\n",
      "2021-06-14 19:34:41 (201 MB/s) - ‘robots.txt.tmp’ saved [6080/6080]\n",
      "\n",
      "Removing index.html.tmp since it should be rejected.\n",
      "\n",
      "--2021-06-14 19:34:41--  https://cdaweb.gsfc.nasa.gov/pub/software/cdf/dist/latest-release/linux/?C=N;O=D\n",
      "Reusing existing connection to [cdaweb.gsfc.nasa.gov]:443.\n",
      "HTTP request sent, awaiting response... 200 OK\n",
      "Length: 4906 (4.8K) [text/html]\n",
      "Saving to: ‘index.html?C=N;O=D.tmp’\n",
      "\n",
      "index.html?C=N;O=D. 100%[===================>]   4.79K  --.-KB/s    in 0s      \n",
      "\n",
      "2021-06-14 19:34:41 (73.4 MB/s) - ‘index.html?C=N;O=D.tmp’ saved [4906/4906]\n",
      "\n",
      "Removing index.html?C=N;O=D.tmp since it should be rejected.\n",
      "\n",
      "--2021-06-14 19:34:41--  https://cdaweb.gsfc.nasa.gov/pub/software/cdf/dist/latest-release/linux/?C=M;O=A\n",
      "Reusing existing connection to [cdaweb.gsfc.nasa.gov]:443.\n",
      "HTTP request sent, awaiting response... 200 OK\n",
      "Length: 4906 (4.8K) [text/html]\n",
      "Saving to: ‘index.html?C=M;O=A.tmp’\n",
      "\n",
      "index.html?C=M;O=A. 100%[===================>]   4.79K  --.-KB/s    in 0s      \n",
      "\n",
      "2021-06-14 19:34:41 (64.4 MB/s) - ‘index.html?C=M;O=A.tmp’ saved [4906/4906]\n",
      "\n",
      "Removing index.html?C=M;O=A.tmp since it should be rejected.\n",
      "\n",
      "--2021-06-14 19:34:41--  https://cdaweb.gsfc.nasa.gov/pub/software/cdf/dist/latest-release/linux/?C=S;O=A\n",
      "Reusing existing connection to [cdaweb.gsfc.nasa.gov]:443.\n",
      "HTTP request sent, awaiting response... 200 OK\n",
      "Length: 4906 (4.8K) [text/html]\n",
      "Saving to: ‘index.html?C=S;O=A.tmp’\n",
      "\n",
      "index.html?C=S;O=A. 100%[===================>]   4.79K  --.-KB/s    in 0s      \n",
      "\n",
      "2021-06-14 19:34:41 (65.5 MB/s) - ‘index.html?C=S;O=A.tmp’ saved [4906/4906]\n",
      "\n",
      "Removing index.html?C=S;O=A.tmp since it should be rejected.\n",
      "\n",
      "--2021-06-14 19:34:41--  https://cdaweb.gsfc.nasa.gov/pub/software/cdf/dist/latest-release/linux/cdf38_0-dist-all.tar.gz\n",
      "Reusing existing connection to [cdaweb.gsfc.nasa.gov]:443.\n",
      "HTTP request sent, awaiting response... 200 OK\n",
      "Length: 2263743 (2.2M) [application/x-gzip]\n",
      "Saving to: ‘cdf38_0-dist-all.tar.gz’\n",
      "\n",
      "cdf38_0-dist-all.ta 100%[===================>]   2.16M  3.96MB/s    in 0.5s    \n",
      "\n",
      "2021-06-14 19:34:42 (3.96 MB/s) - ‘cdf38_0-dist-all.tar.gz’ saved [2263743/2263743]\n",
      "\n",
      "--2021-06-14 19:34:42--  https://cdaweb.gsfc.nasa.gov/pub/software/cdf/dist/latest-release/linux/cdf38_documentation/\n",
      "Reusing existing connection to [cdaweb.gsfc.nasa.gov]:443.\n",
      "HTTP request sent, awaiting response... 200 OK\n",
      "Length: 2106 (2.1K) [text/html]\n",
      "Saving to: ‘index.html.tmp’\n",
      "\n",
      "index.html.tmp      100%[===================>]   2.06K  --.-KB/s    in 0s      \n",
      "\n",
      "2021-06-14 19:34:42 (29.4 MB/s) - ‘index.html.tmp’ saved [2106/2106]\n",
      "\n",
      "Removing index.html.tmp since it should be rejected.\n",
      "\n",
      "FINISHED --2021-06-14 19:34:42--\n",
      "Total wall clock time: 2.3s\n",
      "Downloaded: 7 files, 2.2M in 0.5s (4.00 MB/s)\n"
     ]
    }
   ],
   "source": [
    "!wget -r -l1 -np -nd -nc http://cdaweb.gsfc.nasa.gov/pub/software/cdf/dist/latest-release/linux/ -A cdf*-dist-all.tar.gz"
   ]
  },
  {
   "cell_type": "code",
   "execution_count": 5,
   "metadata": {},
   "outputs": [],
   "source": [
    "!tar xf cdf*-dist-all.tar.gz -C /vol/bitbucket/ql1220/envs/pose_ql1220/lib/python3.8/site-packages"
   ]
  },
  {
   "cell_type": "code",
   "execution_count": 7,
   "metadata": {},
   "outputs": [
    {
     "name": "stdout",
     "output_type": "stream",
     "text": [
      "/bin/bash: line 0: cd: cdf*dist: No such file or directory\n"
     ]
    }
   ],
   "source": [
    "!cd /vol/bitbucket/ql1220/envs/pose_ql1220/lib/python3.8/site-packages"
   ]
  },
  {
   "cell_type": "code",
   "execution_count": 12,
   "metadata": {},
   "outputs": [],
   "source": []
  },
  {
   "cell_type": "code",
   "execution_count": null,
   "metadata": {},
   "outputs": [],
   "source": []
  },
  {
   "cell_type": "code",
   "execution_count": 16,
   "metadata": {},
   "outputs": [
    {
     "name": "stdout",
     "output_type": "stream",
     "text": [
      "Pose: CDF_FLOAT [1, 4973, 64]\n",
      "torch.Size([32, 2])\n"
     ]
    }
   ],
   "source": [
    "import torch\n",
    "os.environ[\"CDF_LIB\"] = '/vol/bitbucket/ql1220/envs/pose_ql1220/lib/python3.8/site-packages/cdf38_0-dist/lib'\n",
    "from spacepy import pycdf\n",
    "target_path='/vol/biodata/data/human3.6m/training/S5/MyPoseFeatures/D2_Positions/renamed'\n",
    "cdf = pycdf.CDF(os.path.join(target_path, 'Directions1.54138969.cdf'))\n",
    "targets = cdf[0][0, 1, :]\n",
    "#targets = targets[0, 1, :]\n",
    "targets=torch.FloatTensor(targets)\n",
    "target=targets.view(32,2)\n",
    "print(cdf)\n",
    "print(target.size())"
   ]
  },
  {
   "cell_type": "code",
   "execution_count": 8,
   "metadata": {},
   "outputs": [],
   "source": [
    "path='/vol/biodata/data/human3.6m/training/S5/frames/Directions1.54138969'\n",
    "frames=[]\n",
    "for subject in os.listdir(path):\n",
    "    frames.append(subject)\n"
   ]
  },
  {
   "cell_type": "code",
   "execution_count": 8,
   "metadata": {
    "collapsed": true,
    "jupyter": {
     "outputs_hidden": true
    },
    "tags": []
   },
   "outputs": [
    {
     "name": "stdout",
     "output_type": "stream",
     "text": [
      "# packages in environment at /vol/bitbucket/ql1220/envs/pose_ql1220:\n",
      "#\n",
      "# Name                    Version                   Build  Channel\n",
      "_libgcc_mutex             0.1                        main  \n",
      "_openmp_mutex             4.5                       1_gnu  \n",
      "_pytorch_select           0.1                       cpu_0  \n",
      "anyio                     3.1.0            py38h578d9bd_0    conda-forge\n",
      "argon2-cffi               20.1.0           py38h497a2fe_2    conda-forge\n",
      "async_generator           1.10                       py_0    conda-forge\n",
      "attrs                     21.2.0             pyhd8ed1ab_0    conda-forge\n",
      "babel                     2.9.1              pyh44b312d_0    conda-forge\n",
      "backcall                  0.2.0              pyh9f0ad1d_0    conda-forge\n",
      "backports                 1.0                        py_2    conda-forge\n",
      "backports.functools_lru_cache 1.6.4              pyhd8ed1ab_0    conda-forge\n",
      "blas                      1.0                         mkl  \n",
      "bleach                    3.3.0              pyh44b312d_0    conda-forge\n",
      "brotlipy                  0.7.0           py38h497a2fe_1001    conda-forge\n",
      "ca-certificates           2021.5.30            ha878542_0    conda-forge\n",
      "certifi                   2021.5.30        py38h06a4308_0  \n",
      "cffi                      1.14.5           py38ha65f79e_0    conda-forge\n",
      "chardet                   4.0.0            py38h578d9bd_1    conda-forge\n",
      "cryptography              3.4.7            py38ha5dfef3_0    conda-forge\n",
      "cycler                    0.10.0                   pypi_0    pypi\n",
      "decorator                 4.4.2                    pypi_0    pypi\n",
      "defusedxml                0.7.1              pyhd8ed1ab_0    conda-forge\n",
      "entrypoints               0.3             pyhd8ed1ab_1003    conda-forge\n",
      "freetype                  2.10.4               h5ab3b9f_0  \n",
      "h5py                      3.2.1                    pypi_0    pypi\n",
      "idna                      2.10               pyh9f0ad1d_0    conda-forge\n",
      "importlib-metadata        4.5.0            py38h578d9bd_0    conda-forge\n",
      "intel-openmp              2019.4                      243  \n",
      "ipykernel                 5.5.5            py38hd0cf306_0    conda-forge\n",
      "ipython                   7.24.1           py38hd0cf306_0    conda-forge\n",
      "ipython_genutils          0.2.0                      py_1    conda-forge\n",
      "jedi                      0.18.0           py38h578d9bd_2    conda-forge\n",
      "jinja2                    3.0.1              pyhd8ed1ab_0    conda-forge\n",
      "jpeg                      9b                   h024ee3a_2  \n",
      "json5                     0.9.5              pyh9f0ad1d_0    conda-forge\n",
      "jsonschema                3.2.0              pyhd8ed1ab_3    conda-forge\n",
      "jupyter_client            6.1.12             pyhd8ed1ab_0    conda-forge\n",
      "jupyter_core              4.7.1            py38h578d9bd_0    conda-forge\n",
      "jupyter_server            1.8.0              pyhd8ed1ab_0    conda-forge\n",
      "jupyterlab                3.0.16             pyhd8ed1ab_0    conda-forge\n",
      "jupyterlab_pygments       0.1.2              pyh9f0ad1d_0    conda-forge\n",
      "jupyterlab_server         2.6.0              pyhd8ed1ab_0    conda-forge\n",
      "kiwisolver                1.3.1                    pypi_0    pypi\n",
      "lcms2                     2.12                 h3be6417_0  \n",
      "ld_impl_linux-64          2.35.1               h7274673_9  \n",
      "libffi                    3.3                  he6710b0_2  \n",
      "libgcc-ng                 9.3.0               h5101ec6_17  \n",
      "libgomp                   9.3.0               h5101ec6_17  \n",
      "libmklml                  2019.0.5                      0  \n",
      "libpng                    1.6.37               hbc83047_0  \n",
      "libsodium                 1.0.18               h36c2ea0_1    conda-forge\n",
      "libstdcxx-ng              9.3.0               hd4cf53a_17  \n",
      "libtiff                   4.2.0                h85742a9_0  \n",
      "libwebp-base              1.2.0                h27cfd23_0  \n",
      "lz4-c                     1.9.3                h2531618_0  \n",
      "markupsafe                2.0.1            py38h497a2fe_0    conda-forge\n",
      "matplotlib                3.4.2                    pypi_0    pypi\n",
      "matplotlib-inline         0.1.2              pyhd8ed1ab_2    conda-forge\n",
      "mistune                   0.8.4           py38h497a2fe_1003    conda-forge\n",
      "mkl                       2020.2                      256  \n",
      "mkl-service               2.3.0            py38he904b0f_0  \n",
      "mkl_fft                   1.3.0            py38h54f3939_0  \n",
      "mkl_random                1.1.1            py38h0573a6f_0  \n",
      "nbclassic                 0.3.1              pyhd8ed1ab_1    conda-forge\n",
      "nbclient                  0.5.3              pyhd8ed1ab_0    conda-forge\n",
      "nbconvert                 6.0.7            py38h578d9bd_3    conda-forge\n",
      "nbformat                  5.1.3              pyhd8ed1ab_0    conda-forge\n",
      "ncurses                   6.2                  he6710b0_1  \n",
      "nest-asyncio              1.5.1              pyhd8ed1ab_0    conda-forge\n",
      "networkx                  2.5.1                    pypi_0    pypi\n",
      "ninja                     1.10.2               hff7bd54_1  \n",
      "notebook                  6.4.0              pyha770c72_0    conda-forge\n",
      "numpy                     1.19.2           py38h54aff64_0  \n",
      "numpy-base                1.19.2           py38hfa32c7d_0  \n",
      "olefile                   0.46                       py_0  \n",
      "opencv-python             4.5.2.54                 pypi_0    pypi\n",
      "openssl                   1.1.1k               h7f98852_0    conda-forge\n",
      "packaging                 20.9               pyh44b312d_0    conda-forge\n",
      "pandoc                    2.14.0.1             h7f98852_0    conda-forge\n",
      "pandocfilters             1.4.2                      py_1    conda-forge\n",
      "parso                     0.8.2              pyhd8ed1ab_0    conda-forge\n",
      "pexpect                   4.8.0              pyh9f0ad1d_2    conda-forge\n",
      "pickleshare               0.7.5                   py_1003    conda-forge\n",
      "pillow                    8.2.0            py38he98fc37_0  \n",
      "pip                       21.1.2           py38h06a4308_0  \n",
      "prometheus_client         0.11.0             pyhd8ed1ab_0    conda-forge\n",
      "prompt-toolkit            3.0.18             pyha770c72_0    conda-forge\n",
      "ptyprocess                0.7.0              pyhd3deb0d_0    conda-forge\n",
      "pycparser                 2.20               pyh9f0ad1d_2    conda-forge\n",
      "pygments                  2.9.0              pyhd8ed1ab_0    conda-forge\n",
      "pyopenssl                 20.0.1             pyhd8ed1ab_0    conda-forge\n",
      "pyparsing                 2.4.7              pyh9f0ad1d_0    conda-forge\n",
      "pyrsistent                0.17.3           py38h497a2fe_2    conda-forge\n",
      "pysocks                   1.7.1            py38h578d9bd_3    conda-forge\n",
      "python                    3.8.5                h7579374_1  \n",
      "python-dateutil           2.8.1                      py_0    conda-forge\n",
      "python_abi                3.8                      1_cp38    conda-forge\n",
      "pytorch                   1.7.1           cpu_py38h6a09485_0  \n",
      "pytz                      2021.1             pyhd8ed1ab_0    conda-forge\n",
      "pyzmq                     22.1.0           py38h2035c66_0    conda-forge\n",
      "readline                  8.1                  h27cfd23_0  \n",
      "requests                  2.25.1             pyhd3deb0d_0    conda-forge\n",
      "scipy                     1.6.3                    pypi_0    pypi\n",
      "send2trash                1.5.0                      py_0    conda-forge\n",
      "setuptools                52.0.0           py38h06a4308_0  \n",
      "six                       1.15.0           py38h06a4308_0  \n",
      "sniffio                   1.2.0            py38h578d9bd_1    conda-forge\n",
      "spacepy                   0.2.2                    pypi_0    pypi\n",
      "sqlite                    3.35.4               hdfb4753_0  \n",
      "terminado                 0.10.1           py38h578d9bd_0    conda-forge\n",
      "testpath                  0.5.0              pyhd8ed1ab_0    conda-forge\n",
      "tk                        8.6.10               hbc83047_0  \n",
      "torchvision               0.2.2                      py_3    pytorch\n",
      "tornado                   6.1              py38h497a2fe_1    conda-forge\n",
      "traitlets                 5.0.5                      py_0    conda-forge\n",
      "typing-extensions         3.7.4.3              hd3eb1b0_0  \n",
      "typing_extensions         3.7.4.3            pyh06a4308_0  \n",
      "urllib3                   1.26.5             pyhd8ed1ab_0    conda-forge\n",
      "wcwidth                   0.2.5              pyh9f0ad1d_2    conda-forge\n",
      "webencodings              0.5.1                      py_1    conda-forge\n",
      "websocket-client          0.57.0           py38h578d9bd_4    conda-forge\n",
      "wheel                     0.36.2             pyhd3eb1b0_0  \n",
      "xz                        5.2.5                h7b6447c_0  \n",
      "zeromq                    4.3.4                h9c3ff4c_0    conda-forge\n",
      "zipp                      3.4.1              pyhd8ed1ab_0    conda-forge\n",
      "zlib                      1.2.11               h7b6447c_3  \n",
      "zstd                      1.4.9                haebb681_0  \n"
     ]
    }
   ],
   "source": []
  },
  {
   "cell_type": "code",
   "execution_count": 2,
   "metadata": {},
   "outputs": [
    {
     "name": "stdout",
     "output_type": "stream",
     "text": [
      "networks.py  __pycache__  sequential_model.py  test.ipynb  utils\n"
     ]
    }
   ],
   "source": []
  },
  {
   "cell_type": "code",
   "execution_count": 3,
   "metadata": {},
   "outputs": [],
   "source": []
  },
  {
   "cell_type": "code",
   "execution_count": 4,
   "metadata": {},
   "outputs": [
    {
     "name": "stdout",
     "output_type": "stream",
     "text": [
      "networks.py  __pycache__  sequential_model.py  test.ipynb  utils\n"
     ]
    }
   ],
   "source": []
  },
  {
   "cell_type": "code",
   "execution_count": null,
   "metadata": {},
   "outputs": [
    {
     "name": "stdout",
     "output_type": "stream",
     "text": [
      "Python 3.8.5 (default, May 27 2021, 13:30:53) \n",
      "[GCC 9.3.0] on linux\n",
      "Type \"help\", \"copyright\", \"credits\" or \"license\" for more information.\n",
      ">>> "
     ]
    }
   ],
   "source": []
  },
  {
   "cell_type": "code",
   "execution_count": 2,
   "metadata": {},
   "outputs": [
    {
     "name": "stdout",
     "output_type": "stream",
     "text": [
      "/bin/bash: conda: command not found\n",
      "/vol/bitbucket/nuric/docenv/bin/python\n"
     ]
    }
   ],
   "source": [
    "!source /vol/intelpython/intelpython3/bin/activate\n",
    "!conda activate /vol/bitbucket/ql1220/envs/pose_ql1220\n",
    "!which python"
   ]
  },
  {
   "cell_type": "code",
   "execution_count": 81,
   "metadata": {},
   "outputs": [],
   "source": []
  },
  {
   "cell_type": "code",
   "execution_count": 94,
   "metadata": {},
   "outputs": [
    {
     "ename": "NameError",
     "evalue": "name 'sample_window' is not defined",
     "output_type": "error",
     "traceback": [
      "\u001b[0;31m---------------------------------------------------------------------------\u001b[0m",
      "\u001b[0;31mNameError\u001b[0m                                 Traceback (most recent call last)",
      "\u001b[0;32m<ipython-input-94-77d484b989c1>\u001b[0m in \u001b[0;36m<module>\u001b[0;34m\u001b[0m\n\u001b[1;32m      3\u001b[0m                       'waiting', 'walking']\n\u001b[1;32m      4\u001b[0m \u001b[0mactors\u001b[0m\u001b[0;34m=\u001b[0m\u001b[0;34m[\u001b[0m\u001b[0;34m'S%d'\u001b[0m \u001b[0;34m%\u001b[0m \u001b[0mi\u001b[0m \u001b[0;32mfor\u001b[0m \u001b[0mi\u001b[0m \u001b[0;32min\u001b[0m \u001b[0;34m[\u001b[0m\u001b[0;36m1\u001b[0m\u001b[0;34m,\u001b[0m \u001b[0;36m5\u001b[0m\u001b[0;34m]\u001b[0m\u001b[0;34m]\u001b[0m\u001b[0;34m\u001b[0m\u001b[0;34m\u001b[0m\u001b[0m\n\u001b[0;32m----> 5\u001b[0;31m \u001b[0mh\u001b[0m\u001b[0;34m=\u001b[0m\u001b[0mds\u001b[0m\u001b[0;34m.\u001b[0m\u001b[0mHuman36M\u001b[0m\u001b[0;34m(\u001b[0m\u001b[0;34m'/vol/biodata/data/human3.6m/training'\u001b[0m\u001b[0;34m,\u001b[0m\u001b[0mactivities\u001b[0m\u001b[0;34m,\u001b[0m\u001b[0mactors\u001b[0m\u001b[0;34m,\u001b[0m\u001b[0;36m1\u001b[0m\u001b[0;34m,\u001b[0m\u001b[0;32mNone\u001b[0m\u001b[0;34m)\u001b[0m\u001b[0;34m\u001b[0m\u001b[0;34m\u001b[0m\u001b[0m\n\u001b[0m",
      "\u001b[0;32m~/PoseEstimate/infant-3d-pose-estimation/core/utils/datasets.py\u001b[0m in \u001b[0;36m__init__\u001b[0;34m(self, root, activities, actors, subsampled_size, subsample_seed)\u001b[0m\n\u001b[1;32m     52\u001b[0m         \u001b[0;31m# load dataset\u001b[0m\u001b[0;34m\u001b[0m\u001b[0;34m\u001b[0m\u001b[0;34m\u001b[0m\u001b[0m\n\u001b[1;32m     53\u001b[0m         \u001b[0mself\u001b[0m\u001b[0;34m.\u001b[0m\u001b[0msequences\u001b[0m \u001b[0;34m=\u001b[0m \u001b[0;34m[\u001b[0m\u001b[0;34m]\u001b[0m\u001b[0;34m\u001b[0m\u001b[0;34m\u001b[0m\u001b[0m\n\u001b[0;32m---> 54\u001b[0;31m         \u001b[0mself\u001b[0m\u001b[0;34m.\u001b[0m\u001b[0mposes\u001b[0m\u001b[0;34m=\u001b[0m\u001b[0;34m[\u001b[0m\u001b[0;34m]\u001b[0m\u001b[0;34m\u001b[0m\u001b[0;34m\u001b[0m\u001b[0m\n\u001b[0m\u001b[1;32m     55\u001b[0m         \u001b[0mself\u001b[0m\u001b[0;34m.\u001b[0m\u001b[0mrandom_seed\u001b[0m\u001b[0;34m=\u001b[0m\u001b[0mrandom_seed\u001b[0m\u001b[0;34m\u001b[0m\u001b[0;34m\u001b[0m\u001b[0m\n\u001b[1;32m     56\u001b[0m         \u001b[0mself\u001b[0m\u001b[0;34m.\u001b[0m\u001b[0mdataset\u001b[0m\u001b[0;34m=\u001b[0m\u001b[0;32mNone\u001b[0m\u001b[0;34m\u001b[0m\u001b[0;34m\u001b[0m\u001b[0m\n",
      "\u001b[0;31mNameError\u001b[0m: name 'sample_window' is not defined"
     ]
    }
   ],
   "source": [
    "import utils.datasets as ds\n",
    "activities = ['directions', 'discussion', 'greeting', 'posing',\n",
    "                      'waiting', 'walking']\n",
    "actors=['S%d' % i for i in [1, 5]]\n",
    "h=ds.Human36M('/vol/biodata/data/human3.6m/training',activities,actors,1,None)"
   ]
  },
  {
   "cell_type": "code",
   "execution_count": 1,
   "metadata": {},
   "outputs": [
    {
     "name": "stdout",
     "output_type": "stream",
     "text": [
      "Collecting tqdm\n",
      "  Downloading tqdm-4.61.1-py2.py3-none-any.whl (75 kB)\n",
      "\u001b[K     |████████████████████████████████| 75 kB 1.2 MB/s  eta 0:00:01\n",
      "\u001b[?25hInstalling collected packages: tqdm\n",
      "Successfully installed tqdm-4.61.1\n",
      "Note: you may need to restart the kernel to use updated packages.\n"
     ]
    }
   ],
   "source": [
    "pip install tqdm"
   ]
  },
  {
   "cell_type": "code",
   "execution_count": 2,
   "metadata": {},
   "outputs": [
    {
     "name": "stdout",
     "output_type": "stream",
     "text": [
      "# packages in environment at /vol/bitbucket/ql1220/envs/pose_ql1220:\n",
      "#\n",
      "# Name                    Version                   Build  Channel\n",
      "_libgcc_mutex             0.1                        main  \n",
      "_openmp_mutex             4.5                       1_gnu  \n",
      "_pytorch_select           0.1                       cpu_0  \n",
      "anyio                     3.1.0            py38h578d9bd_0    conda-forge\n",
      "argon2-cffi               20.1.0           py38h497a2fe_2    conda-forge\n",
      "async_generator           1.10                       py_0    conda-forge\n",
      "attrs                     21.2.0             pyhd8ed1ab_0    conda-forge\n",
      "babel                     2.9.1              pyh44b312d_0    conda-forge\n",
      "backcall                  0.2.0              pyh9f0ad1d_0    conda-forge\n",
      "backports                 1.0                        py_2    conda-forge\n",
      "backports.functools_lru_cache 1.6.4              pyhd8ed1ab_0    conda-forge\n",
      "blas                      1.0                         mkl  \n",
      "bleach                    3.3.0              pyh44b312d_0    conda-forge\n",
      "brotlipy                  0.7.0           py38h497a2fe_1001    conda-forge\n",
      "ca-certificates           2021.5.30            ha878542_0    conda-forge\n",
      "certifi                   2021.5.30        py38h06a4308_0  \n",
      "cffi                      1.14.5           py38ha65f79e_0    conda-forge\n",
      "chardet                   4.0.0            py38h578d9bd_1    conda-forge\n",
      "cryptography              3.4.7            py38ha5dfef3_0    conda-forge\n",
      "cycler                    0.10.0                   pypi_0    pypi\n",
      "decorator                 4.4.2                    pypi_0    pypi\n",
      "defusedxml                0.7.1              pyhd8ed1ab_0    conda-forge\n",
      "entrypoints               0.3             pyhd8ed1ab_1003    conda-forge\n",
      "freetype                  2.10.4               h5ab3b9f_0  \n",
      "h5py                      3.2.1                    pypi_0    pypi\n",
      "idna                      2.10               pyh9f0ad1d_0    conda-forge\n",
      "importlib-metadata        4.5.0            py38h578d9bd_0    conda-forge\n",
      "intel-openmp              2019.4                      243  \n",
      "ipykernel                 5.5.5            py38hd0cf306_0    conda-forge\n",
      "ipython                   7.24.1           py38hd0cf306_0    conda-forge\n",
      "ipython_genutils          0.2.0                      py_1    conda-forge\n",
      "jedi                      0.18.0           py38h578d9bd_2    conda-forge\n",
      "jinja2                    3.0.1              pyhd8ed1ab_0    conda-forge\n",
      "jpeg                      9b                   h024ee3a_2  \n",
      "json5                     0.9.5              pyh9f0ad1d_0    conda-forge\n",
      "jsonschema                3.2.0              pyhd8ed1ab_3    conda-forge\n",
      "jupyter_client            6.1.12             pyhd8ed1ab_0    conda-forge\n",
      "jupyter_core              4.7.1            py38h578d9bd_0    conda-forge\n",
      "jupyter_server            1.8.0              pyhd8ed1ab_0    conda-forge\n",
      "jupyterlab                3.0.16             pyhd8ed1ab_0    conda-forge\n",
      "jupyterlab_pygments       0.1.2              pyh9f0ad1d_0    conda-forge\n",
      "jupyterlab_server         2.6.0              pyhd8ed1ab_0    conda-forge\n",
      "kiwisolver                1.3.1                    pypi_0    pypi\n",
      "lcms2                     2.12                 h3be6417_0  \n",
      "ld_impl_linux-64          2.35.1               h7274673_9  \n",
      "libffi                    3.3                  he6710b0_2  \n",
      "libgcc-ng                 9.3.0               h5101ec6_17  \n",
      "libgomp                   9.3.0               h5101ec6_17  \n",
      "libmklml                  2019.0.5                      0  \n",
      "libpng                    1.6.37               hbc83047_0  \n",
      "libsodium                 1.0.18               h36c2ea0_1    conda-forge\n",
      "libstdcxx-ng              9.3.0               hd4cf53a_17  \n",
      "libtiff                   4.2.0                h85742a9_0  \n",
      "libwebp-base              1.2.0                h27cfd23_0  \n",
      "lz4-c                     1.9.3                h2531618_0  \n",
      "markupsafe                2.0.1            py38h497a2fe_0    conda-forge\n",
      "matplotlib                3.4.2                    pypi_0    pypi\n",
      "matplotlib-inline         0.1.2              pyhd8ed1ab_2    conda-forge\n",
      "mistune                   0.8.4           py38h497a2fe_1003    conda-forge\n",
      "mkl                       2020.2                      256  \n",
      "mkl-service               2.3.0            py38he904b0f_0  \n",
      "mkl_fft                   1.3.0            py38h54f3939_0  \n",
      "mkl_random                1.1.1            py38h0573a6f_0  \n",
      "nbclassic                 0.3.1              pyhd8ed1ab_1    conda-forge\n",
      "nbclient                  0.5.3              pyhd8ed1ab_0    conda-forge\n",
      "nbconvert                 6.0.7            py38h578d9bd_3    conda-forge\n",
      "nbformat                  5.1.3              pyhd8ed1ab_0    conda-forge\n",
      "ncurses                   6.2                  he6710b0_1  \n",
      "nest-asyncio              1.5.1              pyhd8ed1ab_0    conda-forge\n",
      "networkx                  2.5.1                    pypi_0    pypi\n",
      "ninja                     1.10.2               hff7bd54_1  \n",
      "notebook                  6.4.0              pyha770c72_0    conda-forge\n",
      "numpy                     1.19.2           py38h54aff64_0  \n",
      "numpy-base                1.19.2           py38hfa32c7d_0  \n",
      "olefile                   0.46                       py_0  \n",
      "opencv-python             4.5.2.54                 pypi_0    pypi\n",
      "openssl                   1.1.1k               h7f98852_0    conda-forge\n",
      "packaging                 20.9               pyh44b312d_0    conda-forge\n",
      "pandoc                    2.14.0.1             h7f98852_0    conda-forge\n",
      "pandocfilters             1.4.2                      py_1    conda-forge\n",
      "parso                     0.8.2              pyhd8ed1ab_0    conda-forge\n",
      "pexpect                   4.8.0              pyh9f0ad1d_2    conda-forge\n",
      "pickleshare               0.7.5                   py_1003    conda-forge\n",
      "pillow                    8.2.0            py38he98fc37_0  \n",
      "pip                       21.1.2           py38h06a4308_0  \n",
      "prometheus_client         0.11.0             pyhd8ed1ab_0    conda-forge\n",
      "prompt-toolkit            3.0.18             pyha770c72_0    conda-forge\n",
      "ptyprocess                0.7.0              pyhd3deb0d_0    conda-forge\n",
      "pycparser                 2.20               pyh9f0ad1d_2    conda-forge\n",
      "pygments                  2.9.0              pyhd8ed1ab_0    conda-forge\n",
      "pyopenssl                 20.0.1             pyhd8ed1ab_0    conda-forge\n",
      "pyparsing                 2.4.7              pyh9f0ad1d_0    conda-forge\n",
      "pyrsistent                0.17.3           py38h497a2fe_2    conda-forge\n",
      "pysocks                   1.7.1            py38h578d9bd_3    conda-forge\n",
      "python                    3.8.5                h7579374_1  \n",
      "python-dateutil           2.8.1                      py_0    conda-forge\n",
      "python_abi                3.8                      1_cp38    conda-forge\n",
      "pytorch                   1.7.1           cpu_py38h6a09485_0  \n",
      "pytz                      2021.1             pyhd8ed1ab_0    conda-forge\n",
      "pyzmq                     22.1.0           py38h2035c66_0    conda-forge\n",
      "readline                  8.1                  h27cfd23_0  \n",
      "requests                  2.25.1             pyhd3deb0d_0    conda-forge\n",
      "scipy                     1.6.3                    pypi_0    pypi\n",
      "send2trash                1.5.0                      py_0    conda-forge\n",
      "setuptools                52.0.0           py38h06a4308_0  \n",
      "six                       1.15.0           py38h06a4308_0  \n",
      "sniffio                   1.2.0            py38h578d9bd_1    conda-forge\n",
      "spacepy                   0.2.2                    pypi_0    pypi\n",
      "sqlite                    3.35.4               hdfb4753_0  \n",
      "terminado                 0.10.1           py38h578d9bd_0    conda-forge\n",
      "testpath                  0.5.0              pyhd8ed1ab_0    conda-forge\n",
      "tk                        8.6.10               hbc83047_0  \n",
      "torchvision               0.2.2                      py_3    pytorch\n",
      "tornado                   6.1              py38h497a2fe_1    conda-forge\n",
      "tqdm                      4.61.1                   pypi_0    pypi\n",
      "traitlets                 5.0.5                      py_0    conda-forge\n",
      "typing-extensions         3.7.4.3              hd3eb1b0_0  \n",
      "typing_extensions         3.7.4.3            pyh06a4308_0  \n",
      "urllib3                   1.26.5             pyhd8ed1ab_0    conda-forge\n",
      "wcwidth                   0.2.5              pyh9f0ad1d_2    conda-forge\n",
      "webencodings              0.5.1                      py_1    conda-forge\n",
      "websocket-client          0.57.0           py38h578d9bd_4    conda-forge\n",
      "wheel                     0.36.2             pyhd3eb1b0_0  \n",
      "xz                        5.2.5                h7b6447c_0  \n",
      "zeromq                    4.3.4                h9c3ff4c_0    conda-forge\n",
      "zipp                      3.4.1              pyhd8ed1ab_0    conda-forge\n",
      "zlib                      1.2.11               h7b6447c_3  \n",
      "zstd                      1.4.9                haebb681_0  \n"
     ]
    }
   ],
   "source": [
    "!conda list"
   ]
  },
  {
   "cell_type": "code",
   "execution_count": null,
   "metadata": {},
   "outputs": [],
   "source": []
  },
  {
   "cell_type": "code",
   "execution_count": 1,
   "metadata": {},
   "outputs": [
    {
     "name": "stdout",
     "output_type": "stream",
     "text": [
      "/homes/ql1220/PoseEstimate/infant-3d-pose-estimation/core\n",
      "/homes/ql1220/PoseEstimate/infant-3d-pose-estimation\n"
     ]
    }
   ],
   "source": [
    "import sys\n",
    "import os\n",
    "import re\n",
    "from utils import datasets as ds\n",
    "curPath = os.path.abspath(os.path.dirname(\"sequential_model.py\"))\n",
    "print(curPath)\n",
    "rootPath = os.path.split(curPath)[0]\n",
    "print(rootPath)\n",
    "sys.path.append(rootPath)"
   ]
  },
  {
   "cell_type": "code",
   "execution_count": 2,
   "metadata": {},
   "outputs": [],
   "source": [
    "import torchvision.transforms as transforms\n",
    "from PIL import Image \n",
    "import numpy as np\n",
    "import torch\n",
    "from tqdm import tqdm\n",
    "import random\n",
    "trans=transforms.Compose([\n",
    "        transforms.Resize((384,384)),\n",
    "        transforms.CenterCrop((256,256)),\n",
    "        transforms.ToTensor()\n",
    "    ])\n",
    "def get_single(path,sequence):\n",
    "    sequence_paths=os.path.join(path, sequence['actor'], 'frames', sequence['activity_sequence'])\n",
    "    frames=[]\n",
    "    f=[]\n",
    "    for frame_num in tqdm(sequence['frames']):\n",
    "        if frame_num>20:\n",
    "            break\n",
    "        frame_path=os.path.join(sequence_paths,'frame{:0>4d}'.format(frame_num)+'.png')\n",
    "        img = Image.open(frame_path)\n",
    "        img_tensor=trans(img)\n",
    "        f.append(img_tensor)\n",
    "    frames_torch=torch.stack(f)\n",
    "    frames_torch=frames_torch.permute(1,2,3,0) #[C,H,W,sequence_length]\n",
    "\n",
    "    return (frames_torch)"
   ]
  },
  {
   "cell_type": "code",
   "execution_count": 3,
   "metadata": {},
   "outputs": [],
   "source": [
    "def get_random_frame(path,sequence,transforms):\n",
    "        rnd = random.Random(1)\n",
    "        frame2_num=rnd.randint(1,len(sequence['frames']))\n",
    "        sequence_paths=os.path.join(path, sequence['actor'], 'frames', sequence['activity_sequence'])\n",
    "        frame2_path=os.path.join(sequence_paths,'frame{:0>4d}'.format(frame2_num)+'.png')\n",
    "        frame2 = Image.open(frame2_path)\n",
    "        frame2_size= np.array(frame2).shape #(H,W,C)\n",
    "        frame2_torch=transforms(frame2) \n",
    "        return frame2_torch,frame2_num,frame2_size"
   ]
  },
  {
   "cell_type": "code",
   "execution_count": 4,
   "metadata": {},
   "outputs": [],
   "source": [
    "path='/vol/biodata/data/human3.6m/training'\n",
    "frames = os.listdir(os.path.join(path, 'S1', 'frames','Phoning1.60457274'))\n",
    "frames = [int(x[5:-4]) for x in frames] # like 'frame0001', take last 4 number\n",
    "frames = sorted(frames) # sorted int value\n",
    "sequences={ 'actor': \"S1\", 'activity_sequence': 'Sitting1.55011271', 'frames': frames}"
   ]
  },
  {
   "cell_type": "code",
   "execution_count": 5,
   "metadata": {},
   "outputs": [
    {
     "name": "stderr",
     "output_type": "stream",
     "text": [
      "  1%|          | 20/2637 [00:02<04:31,  9.62it/s]\n"
     ]
    }
   ],
   "source": [
    "torch1=get_single(path,sequences)"
   ]
  },
  {
   "cell_type": "code",
   "execution_count": 74,
   "metadata": {},
   "outputs": [],
   "source": [
    "frame2,num,f=get_random_frame(path,sequences,trans)"
   ]
  },
  {
   "cell_type": "code",
   "execution_count": 76,
   "metadata": {},
   "outputs": [
    {
     "data": {
      "text/plain": [
       "1000"
      ]
     },
     "execution_count": 76,
     "metadata": {},
     "output_type": "execute_result"
    }
   ],
   "source": [
    "f[0]"
   ]
  },
  {
   "cell_type": "code",
   "execution_count": 34,
   "metadata": {},
   "outputs": [
    {
     "name": "stdout",
     "output_type": "stream",
     "text": [
      "torch.Size([3, 256, 256, 20])\n",
      "torch.Size([3, 256, 256])\n"
     ]
    }
   ],
   "source": [
    "print(torch1.size())\n",
    "print(frame2.size())"
   ]
  },
  {
   "cell_type": "code",
   "execution_count": 51,
   "metadata": {},
   "outputs": [],
   "source": [
    "l=torch.stack(torch2)"
   ]
  },
  {
   "cell_type": "code",
   "execution_count": 52,
   "metadata": {},
   "outputs": [
    {
     "data": {
      "text/plain": [
       "torch.Size([3, 256, 256, 20])"
      ]
     },
     "execution_count": 52,
     "metadata": {},
     "output_type": "execute_result"
    }
   ],
   "source": [
    "l=l.permute(1,2,3,0)\n",
    "l.size()"
   ]
  },
  {
   "cell_type": "code",
   "execution_count": 102,
   "metadata": {},
   "outputs": [
    {
     "ename": "AttributeError",
     "evalue": "'list' object has no attribute 'size'",
     "output_type": "error",
     "traceback": [
      "\u001b[0;31m---------------------------------------------------------------------------\u001b[0m",
      "\u001b[0;31mAttributeError\u001b[0m                            Traceback (most recent call last)",
      "\u001b[0;32m<ipython-input-102-0376ef47b7de>\u001b[0m in \u001b[0;36m<module>\u001b[0;34m\u001b[0m\n\u001b[1;32m     10\u001b[0m     \u001b[0mpose_trans\u001b[0m\u001b[0;34m[\u001b[0m\u001b[0;34m:\u001b[0m\u001b[0;34m,\u001b[0m\u001b[0;36m1\u001b[0m\u001b[0;34m]\u001b[0m\u001b[0;34m=\u001b[0m\u001b[0mpose_trans\u001b[0m\u001b[0;34m[\u001b[0m\u001b[0;34m:\u001b[0m\u001b[0;34m,\u001b[0m\u001b[0;36m1\u001b[0m\u001b[0;34m]\u001b[0m\u001b[0;34m*\u001b[0m\u001b[0;36m0.384\u001b[0m\u001b[0;34m\u001b[0m\u001b[0;34m\u001b[0m\u001b[0m\n\u001b[1;32m     11\u001b[0m     \u001b[0mpose2pose\u001b[0m\u001b[0;34m.\u001b[0m\u001b[0mappend\u001b[0m\u001b[0;34m(\u001b[0m\u001b[0mpose_trans\u001b[0m\u001b[0;34m)\u001b[0m\u001b[0;34m\u001b[0m\u001b[0;34m\u001b[0m\u001b[0m\n\u001b[0;32m---> 12\u001b[0;31m \u001b[0mpose2pose\u001b[0m\u001b[0;34m.\u001b[0m\u001b[0msize\u001b[0m\u001b[0;34m(\u001b[0m\u001b[0;34m)\u001b[0m\u001b[0;34m\u001b[0m\u001b[0;34m\u001b[0m\u001b[0m\n\u001b[0m",
      "\u001b[0;31mAttributeError\u001b[0m: 'list' object has no attribute 'size'"
     ]
    }
   ],
   "source": [
    "os.environ[\"CDF_LIB\"] = '/vol/bitbucket/ql1220/envs/pose_ql1220/lib/python3.8/site-packages/cdf38_0-dist/lib'\n",
    "from spacepy import pycdf\n",
    "cdf_file = os.path.join(path, sequences['actor'], 'MyPoseFeatures/D2_Positions/renamed', sequences['activity_sequence'] + '.cdf')\n",
    "cdf =pycdf.CDF(cdf_file)\n",
    "pose2pose=[]\n",
    "for i in range(1):\n",
    "    cdf_t=cdf[0][0, i, :]\n",
    "    pose_trans=torch.FloatTensor(cdf_t).view(32,2)\n",
    "    pose_trans[:,0]=pose_trans[:,0]*0.384\n",
    "    pose_trans[:,1]=pose_trans[:,1]*0.384\n",
    "    pose2pose.append(pose_trans)\n"
   ]
  },
  {
   "cell_type": "code",
   "execution_count": 100,
   "metadata": {},
   "outputs": [
    {
     "ename": "TypeError",
     "evalue": "list indices must be integers or slices, not tuple",
     "output_type": "error",
     "traceback": [
      "\u001b[0;31m---------------------------------------------------------------------------\u001b[0m",
      "\u001b[0;31mTypeError\u001b[0m                                 Traceback (most recent call last)",
      "\u001b[0;32m<ipython-input-100-8bd69a8ce4db>\u001b[0m in \u001b[0;36m<module>\u001b[0;34m\u001b[0m\n\u001b[1;32m      4\u001b[0m \u001b[0mimage\u001b[0m\u001b[0;34m=\u001b[0m\u001b[0mimg\u001b[0m\u001b[0;34m.\u001b[0m\u001b[0mnumpy\u001b[0m\u001b[0;34m(\u001b[0m\u001b[0;34m)\u001b[0m\u001b[0;34m\u001b[0m\u001b[0;34m\u001b[0m\u001b[0m\n\u001b[1;32m      5\u001b[0m \u001b[0mplt\u001b[0m\u001b[0;34m.\u001b[0m\u001b[0mfigure\u001b[0m\u001b[0;34m(\u001b[0m\u001b[0;34m)\u001b[0m\u001b[0;34m\u001b[0m\u001b[0;34m\u001b[0m\u001b[0m\n\u001b[0;32m----> 6\u001b[0;31m \u001b[0mplt\u001b[0m\u001b[0;34m.\u001b[0m\u001b[0mscatter\u001b[0m\u001b[0;34m(\u001b[0m\u001b[0mpose2pose\u001b[0m\u001b[0;34m[\u001b[0m\u001b[0;34m:\u001b[0m\u001b[0;34m,\u001b[0m\u001b[0;36m0\u001b[0m\u001b[0;34m]\u001b[0m\u001b[0;34m,\u001b[0m\u001b[0mpose2pose\u001b[0m\u001b[0;34m[\u001b[0m\u001b[0;34m:\u001b[0m\u001b[0;34m,\u001b[0m\u001b[0;36m1\u001b[0m\u001b[0;34m]\u001b[0m\u001b[0;34m)\u001b[0m\u001b[0;34m\u001b[0m\u001b[0;34m\u001b[0m\u001b[0m\n\u001b[0m\u001b[1;32m      7\u001b[0m \u001b[0mplt\u001b[0m\u001b[0;34m.\u001b[0m\u001b[0mimshow\u001b[0m\u001b[0;34m(\u001b[0m\u001b[0mimage\u001b[0m\u001b[0;34m)\u001b[0m\u001b[0;34m\u001b[0m\u001b[0;34m\u001b[0m\u001b[0m\n",
      "\u001b[0;31mTypeError\u001b[0m: list indices must be integers or slices, not tuple"
     ]
    },
    {
     "data": {
      "text/plain": [
       "<Figure size 432x288 with 0 Axes>"
      ]
     },
     "metadata": {},
     "output_type": "display_data"
    }
   ],
   "source": [
    "import matplotlib.pyplot as plt\n",
    "\n",
    "img=l[:,:,:,0].permute(1,2,0)\n",
    "image=img.numpy()\n",
    "plt.figure()\n",
    "plt.scatter(pose2pose[:,0],pose2pose[:,1])\n",
    "plt.imshow(image)\n"
   ]
  },
  {
   "cell_type": "code",
   "execution_count": 81,
   "metadata": {},
   "outputs": [],
   "source": [
    "l1=[1,2]\n",
    "li=[i for i in l1]"
   ]
  },
  {
   "cell_type": "code",
   "execution_count": 82,
   "metadata": {},
   "outputs": [
    {
     "data": {
      "text/plain": [
       "[1, 2]"
      ]
     },
     "execution_count": 82,
     "metadata": {},
     "output_type": "execute_result"
    }
   ],
   "source": [
    "[0,1,2,3,6,7,8,12,13,14,15,17,18,19,25,26,27]"
   ]
  },
  {
   "cell_type": "code",
   "execution_count": 16,
   "metadata": {},
   "outputs": [
    {
     "name": "stdout",
     "output_type": "stream",
     "text": [
      "torch.Size([2, 3])\n"
     ]
    }
   ],
   "source": [
    "os.environ[\"CDF_LIB\"] = '/vol/bitbucket/ql1220/envs/pose_ql1220/lib/python3.8/site-packages/cdf38_0-dist/lib'\n",
    "from spacepy import pycdf\n",
    "path='/vol/biodata/data/human3.6m/training/S1/MyPoseFeatures/D3_Positions_mono/renamed'\n",
    "cdf_file = os.path.join(path,'Phoning1.60457274.cdf')\n",
    "cdf =pycdf.CDF(cdf_file)[0][0,1,:]\n",
    "cdf=torch.FloatTensor(cdf).reshape(32,3)\n",
    "print(cdf.size())"
   ]
  },
  {
   "cell_type": "code",
   "execution_count": 8,
   "metadata": {},
   "outputs": [
    {
     "name": "stdout",
     "output_type": "stream",
     "text": [
      "1 9\n",
      "[1, 2, 3]\n"
     ]
    }
   ],
   "source": [
    "l=[1,2,3,4,5,6,7,8,9]\n",
    "print(l[0],l[-1])\n",
    "print(l[0:3])"
   ]
  },
  {
   "cell_type": "code",
   "execution_count": 9,
   "metadata": {},
   "outputs": [],
   "source": [
    "import numpy\n",
    "import torch\n",
    "t=numpy.array(l)\n",
    "t=torch.FloatTensor(t)"
   ]
  },
  {
   "cell_type": "code",
   "execution_count": 4,
   "metadata": {},
   "outputs": [
    {
     "name": "stdout",
     "output_type": "stream",
     "text": [
      "0\n",
      "1\n",
      "2\n",
      "3\n",
      "4\n",
      "5\n",
      "6\n",
      "7\n",
      "8\n",
      "9\n"
     ]
    }
   ],
   "source": []
  },
  {
   "cell_type": "code",
   "execution_count": 6,
   "metadata": {},
   "outputs": [
    {
     "name": "stdout",
     "output_type": "stream",
     "text": [
      "tensor([1.7500]) tensor([1.7500])\n"
     ]
    }
   ],
   "source": [
    "import torch\n",
    "\n",
    "tensor=torch.FloatTensor([2.5])\n",
    "tensor1 = (tensor + 1) / 2\n",
    "tensor2=torch.true_divide(tensor+1,2)\n",
    "print(tensor1,tensor2)"
   ]
  },
  {
   "cell_type": "code",
   "execution_count": null,
   "metadata": {},
   "outputs": [],
   "source": []
  }
 ],
 "metadata": {
  "kernelspec": {
   "display_name": "Python 3",
   "language": "python",
   "name": "python3"
  },
  "language_info": {
   "codemirror_mode": {
    "name": "ipython",
    "version": 3
   },
   "file_extension": ".py",
   "mimetype": "text/x-python",
   "name": "python",
   "nbconvert_exporter": "python",
   "pygments_lexer": "ipython3",
   "version": "3.8.5"
  }
 },
 "nbformat": 4,
 "nbformat_minor": 4
}
